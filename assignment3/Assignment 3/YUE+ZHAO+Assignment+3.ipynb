{
 "cells": [
  {
   "cell_type": "markdown",
   "metadata": {},
   "source": [
    "# A small program to recite words"
   ]
  },
  {
   "cell_type": "code",
   "execution_count": 1,
   "metadata": {
    "collapsed": true
   },
   "outputs": [],
   "source": [
    "import turtle\n",
    "import random\n",
    "import time"
   ]
  },
  {
   "cell_type": "code",
   "execution_count": 2,
   "metadata": {
    "collapsed": true
   },
   "outputs": [],
   "source": [
    "printer = turtle.Turtle()\n",
    "printer.hideturtle()  \n",
    "\n",
    "wordbook = [\"Dolphin\",\"Angel\",\"computer\",\"hacker\",\"information\",\"program\",\n",
    "            \"apple\", \"banana\", \"durian\", \"kiwi\", \"grape\", \"tomato\", \"orange\", \n",
    "            \"peach\", \"watermelon\", \"coconut\", \"strawberry\", \"pineapple\", \n",
    "            \"augment\",\"encompass\",\"scramble\",\"prospective\",\"reinstate\",\n",
    "            \"primordial\",\"inexorable\",\"discard\",\"vigorous\",\"commuter\",\n",
    "            \"appetite\",\"grumble\",\"mechanical\",\"aesthetic\",\"stereotype\",\n",
    "            \"compliment\",\"civilization\",\"discriminate\",\"curse\",\"sarcasm\",\n",
    "            \"insane\",\"recipe\",\"reinforce\",\"jealous\"]\n",
    "same = wordbook"
   ]
  },
  {
   "cell_type": "markdown",
   "metadata": {},
   "source": [
    "### Import words that need to be recited"
   ]
  },
  {
   "cell_type": "code",
   "execution_count": 3,
   "metadata": {
    "collapsed": true
   },
   "outputs": [],
   "source": [
    "for i in range(0,42):\n",
    "    show = random.choice(same)"
   ]
  },
  {
   "cell_type": "code",
   "execution_count": 4,
   "metadata": {},
   "outputs": [],
   "source": [
    "def printword():\n",
    "    for i in range(0,18):\n",
    "        show = random.choice(same)\n",
    "    printer.speed(1)\n",
    "    printer.write(show,font=('Arial',18,'normal'))\n",
    "    printer.penup()\n",
    "    printer.setposition(random.randrange(-300,300),random.randrange(-300,300))\n",
    "    printer.down()\n",
    "    time.sleep(5)\n",
    "\n",
    "for i in range(12):\n",
    "    printword()"
   ]
  },
  {
   "cell_type": "markdown",
   "metadata": {},
   "source": [
    "### Every 5 seconds，a word will be put on the screen randomly, when there are 12 words on the screen that means a minute past."
   ]
  },
  {
   "cell_type": "markdown",
   "metadata": {},
   "source": [
    "![lavaux image](https://github.com/mmeagher/ARC6818-2017/blob/master/assignment3/Assignment%203/images/ZHAOYUE1.PNG?raw=true)"
   ]
  },
  {
   "cell_type": "markdown",
   "metadata": {},
   "source": [
    "![lavaux image](https://github.com/mmeagher/ARC6818-2017/blob/master/assignment3/Assignment%203/images/ZHAOYUE2.PNG?raw=true)"
   ]
  },
  {
   "cell_type": "code",
   "execution_count": 5,
   "metadata": {
    "collapsed": true
   },
   "outputs": [],
   "source": [
    "printer.reset()\n",
    "\n",
    "rest = turtle.Turtle()\n",
    "rest.write('Have a rest',align=\"center\", font=('Arial',60,'normal'))"
   ]
  },
  {
   "cell_type": "markdown",
   "metadata": {},
   "source": [
    "![lavaux image](https://github.com/mmeagher/ARC6818-2017/blob/master/assignment3/Assignment%203/images/ZHAOYUE3.PNG?raw=true)"
   ]
  },
  {
   "cell_type": "markdown",
   "metadata": {},
   "source": [
    "### After a minute, the screen will be empty, \"Have a rest\" will appear on the screen, which means that the end of a round of reciting words and can have a short break."
   ]
  },
  {
   "cell_type": "code",
   "execution_count": null,
   "metadata": {
    "collapsed": true
   },
   "outputs": [],
   "source": []
  }
 ],
 "metadata": {
  "kernelspec": {
   "display_name": "Python 3",
   "language": "python",
   "name": "python3"
  },
  "language_info": {
   "codemirror_mode": {
    "name": "ipython",
    "version": 3
   },
   "file_extension": ".py",
   "mimetype": "text/x-python",
   "name": "python",
   "nbconvert_exporter": "python",
   "pygments_lexer": "ipython3",
   "version": "3.6.2"
  }
 },
 "nbformat": 4,
 "nbformat_minor": 2
}
