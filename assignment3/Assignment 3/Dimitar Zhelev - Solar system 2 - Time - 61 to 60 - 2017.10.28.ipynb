{
 "cells": [
  {
   "cell_type": "markdown",
   "metadata": {},
   "source": [
    "# Inspired by the Solar System"
   ]
  },
  {
   "cell_type": "code",
   "execution_count": 1,
   "metadata": {
    "collapsed": true
   },
   "outputs": [],
   "source": [
    "# This function is an upgraded version of the first, which was inspired by the planets movement\n",
    "# I have changed only some of the parameters so the function is more like a calendar\n",
    "# It presents: Seconds, Minutes, Hours and Days"
   ]
  },
  {
   "cell_type": "code",
   "execution_count": 2,
   "metadata": {
    "collapsed": true
   },
   "outputs": [],
   "source": [
    "import turtle"
   ]
  },
  {
   "cell_type": "code",
   "execution_count": 3,
   "metadata": {
    "collapsed": true
   },
   "outputs": [],
   "source": [
    "turtle.speed(100)"
   ]
  },
  {
   "cell_type": "code",
   "execution_count": 4,
   "metadata": {
    "collapsed": true
   },
   "outputs": [],
   "source": [
    "import time"
   ]
  },
  {
   "cell_type": "code",
   "execution_count": 5,
   "metadata": {
    "collapsed": true
   },
   "outputs": [],
   "source": [
    "wn=turtle.Screen()\n",
    "wn.bgcolor(\"grey\")"
   ]
  },
  {
   "cell_type": "code",
   "execution_count": 6,
   "metadata": {
    "collapsed": true
   },
   "outputs": [],
   "source": [
    "ts1=turtle.Turtle()\n",
    "ts1.color(\"purple\")\n",
    "ts1.pu()\n",
    "ts1.goto(0,-300)\n",
    "ts1.pd()\n",
    "ts1.circle(300)\n",
    "ts1.ht()\n",
    "\n",
    "tm1=turtle.Turtle()\n",
    "tm1.color(\"red\")\n",
    "tm1.pu()\n",
    "tm1.goto(0,-200)\n",
    "tm1.pd()\n",
    "tm1.circle(200)\n",
    "tm1.ht()\n",
    "\n",
    "th1=turtle.Turtle()\n",
    "th1.color(\"orange\")\n",
    "th1.pu()\n",
    "th1.goto(0,-100)\n",
    "th1.pd()\n",
    "th1.circle(100)\n",
    "th1.ht()\n",
    "\n",
    "td1=turtle.Turtle()\n",
    "td1.color(\"yellow\")\n",
    "td1.shape(\"circle\")\n",
    "\n",
    "# These turtles are creating the circles for the movement of the turtles that are the planets\n",
    "# When the circles are created I am hidding the turtles\n",
    "# The last turtle td1 is not hidden and it is circle as it is the last to be shown and I dont need it to do any movement now\n",
    "# td1 is the central planet, The Sun"
   ]
  },
  {
   "cell_type": "code",
   "execution_count": 7,
   "metadata": {
    "collapsed": true
   },
   "outputs": [],
   "source": [
    "x = 0\n",
    "y = 0\n",
    "z = 0\n",
    "g = 0\n",
    "\n",
    "# variables, which will be later used to create the steps for the turtles and to be used loops"
   ]
  },
  {
   "cell_type": "code",
   "execution_count": 8,
   "metadata": {
    "collapsed": true
   },
   "outputs": [],
   "source": [
    "ts2=turtle.Turtle()\n",
    "ts2.color(\"purple\")\n",
    "ts2.shape(\"circle\")\n",
    "ts2.pu()\n",
    "ts2.goto(0,300)\n",
    "ts2.pd()\n",
    "ts2.left(90)\n",
    "\n",
    "tm2=turtle.Turtle()\n",
    "tm2.color(\"red\")\n",
    "tm2.shape(\"circle\")\n",
    "tm2.pu()\n",
    "tm2.goto(0,200)\n",
    "tm2.pd()\n",
    "tm2.left(90)\n",
    "\n",
    "th2=turtle.Turtle()\n",
    "th2.color(\"orange\")\n",
    "th2.shape(\"circle\")\n",
    "th2.pu()\n",
    "th2.goto(0,100)\n",
    "th2.pd()\n",
    "th2.left(90)\n",
    "\n",
    "td1.left(90)\n",
    "\n",
    "# Turtles are put in specific position so when they start their movement they will move clockwise\n",
    "# It is important the turtles will face up (90 degrees), because the movement along the circle, later in the code, won't be accurate"
   ]
  },
  {
   "cell_type": "code",
   "execution_count": 9,
   "metadata": {
    "collapsed": true
   },
   "outputs": [],
   "source": [
    "def Seconds(ts2):\n",
    "    ts2.fd(50)\n",
    "    ts2.bk(50)\n",
    "    ts2.right(6)\n",
    "    # 6 degrees, because 360(degrees) / 60(seconds) = 6 degrees\n",
    "    # Therefore with 6 degrees I will have the turtle to move 60 steps along the circle\n",
    "    # ts2.right() can be 60 or 6 - if changed to 60 this will give faster overview of the function and how it works\n",
    "    # If ts2.right(60) other parameters in the later steps have to be taken in account\n",
    "    "
   ]
  },
  {
   "cell_type": "code",
   "execution_count": 10,
   "metadata": {
    "collapsed": true
   },
   "outputs": [],
   "source": [
    "def Minutes(tm2):\n",
    "    tm2.fd(50)\n",
    "    tm2.bk(50)\n",
    "    tm2.right(6)\n",
    "    # 6 or 60 -> same as before"
   ]
  },
  {
   "cell_type": "code",
   "execution_count": 11,
   "metadata": {
    "collapsed": true
   },
   "outputs": [],
   "source": [
    "def Hours(th2):\n",
    "    th2.fd(50)\n",
    "    th2.bk(50)\n",
    "    th2.right(6)\n",
    "    # 6 or 60 -> same as before"
   ]
  },
  {
   "cell_type": "code",
   "execution_count": 12,
   "metadata": {
    "collapsed": true
   },
   "outputs": [],
   "source": [
    "def Days(td1):\n",
    "    td1.fd(50)\n",
    "    td1.bk(50)\n",
    "    td1.right(360/7)\n",
    "    # td1.right(360/n) -> n = days\n",
    "    # 360/7 it is divided by 7 so the presented time is for 1 whole week\n",
    "    # changing the dividing number will change the number of days, the clock will show before restarting\n",
    "    # \"n\" can be set to 365 days and then the \"solar system\" function will fully \"reset\"/clear, after 1 year \n"
   ]
  },
  {
   "cell_type": "code",
   "execution_count": 13,
   "metadata": {
    "collapsed": true
   },
   "outputs": [],
   "source": [
    "def cleardays():\n",
    "    td1.clear()\n",
    "    # as there is nothing bigger than days in this function the \"clear\" actions is created as \"def\" and not in the while True loop\n",
    "    "
   ]
  },
  {
   "cell_type": "markdown",
   "metadata": {
    "collapsed": true
   },
   "source": [
    "### Time can't be stopped, therefore I am using \"while True:\""
   ]
  },
  {
   "cell_type": "code",
   "execution_count": 14,
   "metadata": {},
   "outputs": [
    {
     "ename": "TclError",
     "evalue": "invalid command name \".!canvas\"",
     "output_type": "error",
     "traceback": [
      "\u001b[1;31m---------------------------------------------------------------------------\u001b[0m",
      "\u001b[1;31mTclError\u001b[0m                                  Traceback (most recent call last)",
      "\u001b[1;32m<ipython-input-14-2e39d731054c>\u001b[0m in \u001b[0;36m<module>\u001b[1;34m()\u001b[0m\n\u001b[0;32m      7\u001b[0m     \u001b[1;31m# the speed will still be in use but only for the drawing of the shapes/lines that the turtle does\u001b[0m\u001b[1;33m\u001b[0m\u001b[1;33m\u001b[0m\u001b[0m\n\u001b[0;32m      8\u001b[0m \u001b[1;33m\u001b[0m\u001b[0m\n\u001b[1;32m----> 9\u001b[1;33m     \u001b[0mSeconds\u001b[0m\u001b[1;33m(\u001b[0m\u001b[0mts2\u001b[0m\u001b[1;33m)\u001b[0m\u001b[1;33m\u001b[0m\u001b[0m\n\u001b[0m\u001b[0;32m     10\u001b[0m     \u001b[0mx\u001b[0m \u001b[1;33m=\u001b[0m \u001b[0mx\u001b[0m\u001b[1;33m+\u001b[0m\u001b[1;36m1\u001b[0m\u001b[1;33m\u001b[0m\u001b[0m\n\u001b[0;32m     11\u001b[0m     \u001b[1;31m# adding 1 each time creates the function to have number of steps that can be controlled\u001b[0m\u001b[1;33m\u001b[0m\u001b[1;33m\u001b[0m\u001b[0m\n",
      "\u001b[1;32m<ipython-input-9-1a3761ce20e4>\u001b[0m in \u001b[0;36mSeconds\u001b[1;34m(ts2)\u001b[0m\n\u001b[0;32m      1\u001b[0m \u001b[1;32mdef\u001b[0m \u001b[0mSeconds\u001b[0m\u001b[1;33m(\u001b[0m\u001b[0mts2\u001b[0m\u001b[1;33m)\u001b[0m\u001b[1;33m:\u001b[0m\u001b[1;33m\u001b[0m\u001b[0m\n\u001b[1;32m----> 2\u001b[1;33m     \u001b[0mts2\u001b[0m\u001b[1;33m.\u001b[0m\u001b[0mfd\u001b[0m\u001b[1;33m(\u001b[0m\u001b[1;36m50\u001b[0m\u001b[1;33m)\u001b[0m\u001b[1;33m\u001b[0m\u001b[0m\n\u001b[0m\u001b[0;32m      3\u001b[0m     \u001b[0mts2\u001b[0m\u001b[1;33m.\u001b[0m\u001b[0mbk\u001b[0m\u001b[1;33m(\u001b[0m\u001b[1;36m50\u001b[0m\u001b[1;33m)\u001b[0m\u001b[1;33m\u001b[0m\u001b[0m\n\u001b[0;32m      4\u001b[0m     \u001b[0mts2\u001b[0m\u001b[1;33m.\u001b[0m\u001b[0mright\u001b[0m\u001b[1;33m(\u001b[0m\u001b[1;36m6\u001b[0m\u001b[1;33m)\u001b[0m\u001b[1;33m\u001b[0m\u001b[0m\n\u001b[0;32m      5\u001b[0m     \u001b[1;31m# 6 degrees, because 360(degrees) / 60(seconds) = 6 degrees\u001b[0m\u001b[1;33m\u001b[0m\u001b[1;33m\u001b[0m\u001b[0m\n",
      "\u001b[1;32m~\\Anaconda3\\lib\\turtle.py\u001b[0m in \u001b[0;36mforward\u001b[1;34m(self, distance)\u001b[0m\n\u001b[0;32m   1635\u001b[0m         \u001b[1;33m(\u001b[0m\u001b[1;33m-\u001b[0m\u001b[1;36m50.00\u001b[0m\u001b[1;33m,\u001b[0m\u001b[1;36m0.00\u001b[0m\u001b[1;33m)\u001b[0m\u001b[1;33m\u001b[0m\u001b[0m\n\u001b[0;32m   1636\u001b[0m         \"\"\"\n\u001b[1;32m-> 1637\u001b[1;33m         \u001b[0mself\u001b[0m\u001b[1;33m.\u001b[0m\u001b[0m_go\u001b[0m\u001b[1;33m(\u001b[0m\u001b[0mdistance\u001b[0m\u001b[1;33m)\u001b[0m\u001b[1;33m\u001b[0m\u001b[0m\n\u001b[0m\u001b[0;32m   1638\u001b[0m \u001b[1;33m\u001b[0m\u001b[0m\n\u001b[0;32m   1639\u001b[0m     \u001b[1;32mdef\u001b[0m \u001b[0mback\u001b[0m\u001b[1;33m(\u001b[0m\u001b[0mself\u001b[0m\u001b[1;33m,\u001b[0m \u001b[0mdistance\u001b[0m\u001b[1;33m)\u001b[0m\u001b[1;33m:\u001b[0m\u001b[1;33m\u001b[0m\u001b[0m\n",
      "\u001b[1;32m~\\Anaconda3\\lib\\turtle.py\u001b[0m in \u001b[0;36m_go\u001b[1;34m(self, distance)\u001b[0m\n\u001b[0;32m   1603\u001b[0m         \u001b[1;34m\"\"\"move turtle forward by specified distance\"\"\"\u001b[0m\u001b[1;33m\u001b[0m\u001b[0m\n\u001b[0;32m   1604\u001b[0m         \u001b[0mende\u001b[0m \u001b[1;33m=\u001b[0m \u001b[0mself\u001b[0m\u001b[1;33m.\u001b[0m\u001b[0m_position\u001b[0m \u001b[1;33m+\u001b[0m \u001b[0mself\u001b[0m\u001b[1;33m.\u001b[0m\u001b[0m_orient\u001b[0m \u001b[1;33m*\u001b[0m \u001b[0mdistance\u001b[0m\u001b[1;33m\u001b[0m\u001b[0m\n\u001b[1;32m-> 1605\u001b[1;33m         \u001b[0mself\u001b[0m\u001b[1;33m.\u001b[0m\u001b[0m_goto\u001b[0m\u001b[1;33m(\u001b[0m\u001b[0mende\u001b[0m\u001b[1;33m)\u001b[0m\u001b[1;33m\u001b[0m\u001b[0m\n\u001b[0m\u001b[0;32m   1606\u001b[0m \u001b[1;33m\u001b[0m\u001b[0m\n\u001b[0;32m   1607\u001b[0m     \u001b[1;32mdef\u001b[0m \u001b[0m_rotate\u001b[0m\u001b[1;33m(\u001b[0m\u001b[0mself\u001b[0m\u001b[1;33m,\u001b[0m \u001b[0mangle\u001b[0m\u001b[1;33m)\u001b[0m\u001b[1;33m:\u001b[0m\u001b[1;33m\u001b[0m\u001b[0m\n",
      "\u001b[1;32m~\\Anaconda3\\lib\\turtle.py\u001b[0m in \u001b[0;36m_goto\u001b[1;34m(self, end)\u001b[0m\n\u001b[0;32m   3176\u001b[0m                     screen._drawline(self.drawingLineItem,\n\u001b[0;32m   3177\u001b[0m                                      \u001b[1;33m(\u001b[0m\u001b[0mstart\u001b[0m\u001b[1;33m,\u001b[0m \u001b[0mself\u001b[0m\u001b[1;33m.\u001b[0m\u001b[0m_position\u001b[0m\u001b[1;33m)\u001b[0m\u001b[1;33m,\u001b[0m\u001b[1;33m\u001b[0m\u001b[0m\n\u001b[1;32m-> 3178\u001b[1;33m                                      self._pencolor, self._pensize, top)\n\u001b[0m\u001b[0;32m   3179\u001b[0m                 \u001b[0mself\u001b[0m\u001b[1;33m.\u001b[0m\u001b[0m_update\u001b[0m\u001b[1;33m(\u001b[0m\u001b[1;33m)\u001b[0m\u001b[1;33m\u001b[0m\u001b[0m\n\u001b[0;32m   3180\u001b[0m             \u001b[1;32mif\u001b[0m \u001b[0mself\u001b[0m\u001b[1;33m.\u001b[0m\u001b[0m_drawing\u001b[0m\u001b[1;33m:\u001b[0m\u001b[1;33m\u001b[0m\u001b[0m\n",
      "\u001b[1;32m~\\Anaconda3\\lib\\turtle.py\u001b[0m in \u001b[0;36m_drawline\u001b[1;34m(self, lineitem, coordlist, fill, width, top)\u001b[0m\n\u001b[0;32m    543\u001b[0m                 \u001b[0mcl\u001b[0m\u001b[1;33m.\u001b[0m\u001b[0mappend\u001b[0m\u001b[1;33m(\u001b[0m\u001b[0mx\u001b[0m \u001b[1;33m*\u001b[0m \u001b[0mself\u001b[0m\u001b[1;33m.\u001b[0m\u001b[0mxscale\u001b[0m\u001b[1;33m)\u001b[0m\u001b[1;33m\u001b[0m\u001b[0m\n\u001b[0;32m    544\u001b[0m                 \u001b[0mcl\u001b[0m\u001b[1;33m.\u001b[0m\u001b[0mappend\u001b[0m\u001b[1;33m(\u001b[0m\u001b[1;33m-\u001b[0m\u001b[0my\u001b[0m \u001b[1;33m*\u001b[0m \u001b[0mself\u001b[0m\u001b[1;33m.\u001b[0m\u001b[0myscale\u001b[0m\u001b[1;33m)\u001b[0m\u001b[1;33m\u001b[0m\u001b[0m\n\u001b[1;32m--> 545\u001b[1;33m             \u001b[0mself\u001b[0m\u001b[1;33m.\u001b[0m\u001b[0mcv\u001b[0m\u001b[1;33m.\u001b[0m\u001b[0mcoords\u001b[0m\u001b[1;33m(\u001b[0m\u001b[0mlineitem\u001b[0m\u001b[1;33m,\u001b[0m \u001b[1;33m*\u001b[0m\u001b[0mcl\u001b[0m\u001b[1;33m)\u001b[0m\u001b[1;33m\u001b[0m\u001b[0m\n\u001b[0m\u001b[0;32m    546\u001b[0m         \u001b[1;32mif\u001b[0m \u001b[0mfill\u001b[0m \u001b[1;32mis\u001b[0m \u001b[1;32mnot\u001b[0m \u001b[1;32mNone\u001b[0m\u001b[1;33m:\u001b[0m\u001b[1;33m\u001b[0m\u001b[0m\n\u001b[0;32m    547\u001b[0m             \u001b[0mself\u001b[0m\u001b[1;33m.\u001b[0m\u001b[0mcv\u001b[0m\u001b[1;33m.\u001b[0m\u001b[0mitemconfigure\u001b[0m\u001b[1;33m(\u001b[0m\u001b[0mlineitem\u001b[0m\u001b[1;33m,\u001b[0m \u001b[0mfill\u001b[0m\u001b[1;33m=\u001b[0m\u001b[0mfill\u001b[0m\u001b[1;33m)\u001b[0m\u001b[1;33m\u001b[0m\u001b[0m\n",
      "\u001b[1;32m<string>\u001b[0m in \u001b[0;36mcoords\u001b[1;34m(self, *args, **kw)\u001b[0m\n",
      "\u001b[1;32m~\\Anaconda3\\lib\\tkinter\\__init__.py\u001b[0m in \u001b[0;36mcoords\u001b[1;34m(self, *args)\u001b[0m\n\u001b[0;32m   2461\u001b[0m         return [self.tk.getdouble(x) for x in\n\u001b[0;32m   2462\u001b[0m                            self.tk.splitlist(\n\u001b[1;32m-> 2463\u001b[1;33m                    self.tk.call((self._w, 'coords') + args))]\n\u001b[0m\u001b[0;32m   2464\u001b[0m     \u001b[1;32mdef\u001b[0m \u001b[0m_create\u001b[0m\u001b[1;33m(\u001b[0m\u001b[0mself\u001b[0m\u001b[1;33m,\u001b[0m \u001b[0mitemType\u001b[0m\u001b[1;33m,\u001b[0m \u001b[0margs\u001b[0m\u001b[1;33m,\u001b[0m \u001b[0mkw\u001b[0m\u001b[1;33m)\u001b[0m\u001b[1;33m:\u001b[0m \u001b[1;31m# Args: (val, val, ..., cnf={})\u001b[0m\u001b[1;33m\u001b[0m\u001b[0m\n\u001b[0;32m   2465\u001b[0m         \u001b[1;34m\"\"\"Internal function.\"\"\"\u001b[0m\u001b[1;33m\u001b[0m\u001b[0m\n",
      "\u001b[1;31mTclError\u001b[0m: invalid command name \".!canvas\""
     ]
    }
   ],
   "source": [
    "while True:\n",
    "    \n",
    "    time.sleep(1)\n",
    "    \n",
    "    # by calling the time and setting it to 1 second in the beginning of the loop all the turtles will obey the rule\n",
    "    # the setted speed, which is 100 will now be disregarded for the pauses between the steps of the turtle only\n",
    "    # the speed will still be in use but only for the drawing of the shapes/lines that the turtle does\n",
    "      \n",
    "    Seconds(ts2)\n",
    "    x = x+1\n",
    "    # adding 1 each time creates the function to have number of steps that can be controlled\n",
    "    \n",
    "    if x == 61:\n",
    "        x = 0\n",
    "    # as mentioned before some parameters can be changed so the function runs faster\n",
    "    # here 61 can be 7\n",
    "    # it is 7 because 7 is the next step after 6\n",
    "    \n",
    "    # 61 ensures the turtle will not go over 60 seconds\n",
    "    \n",
    "    elif x == 60:\n",
    "    # 60 or 6 - having the same logic\n",
    "    \n",
    "    # when 60 seconds are reached the turtle will do the specified actions showen underneath\n",
    "    \n",
    "        ts2.pu()\n",
    "        ts2.ht()\n",
    "        ts2.goto(0,0)\n",
    "        ts2.right(360/60)\n",
    "        # 360/60 or 360/6 - this is the angle the turtle will turtn after it goes to the center\n",
    "        # 360/60 ensures the turtle divides the circle into even 60 parts\n",
    "        # each step / part is 1 second\n",
    "        ts2.bk(-300)\n",
    "        ts2.pd()\n",
    "        ts2.st()\n",
    "        \n",
    "        # ts2.ht() is because I want to show the movement of the planet, whitout the movement of the turtle to the center and back to be visible\n",
    "        # to create movement along the circle I am using the 6 degree angle, which corresponds to 360/60\n",
    "        # the backwards functions makes sure that the turtle goes back on the circle with a step which is 1/60 from the 60 steps\n",
    "\n",
    "        # !!! if the ratio between steps of the turtle and the angle is kept the turtle will always finish with her back towards the center\n",
    "        # When the ratio is kept, the facing direction of the turtle can be predicted\n",
    "        # If not kept, the tirtle wont go back on the line of the circle\n",
    "\n",
    "        \n",
    "        Minutes(tm2)\n",
    "        \n",
    "        ts2.left(6)\n",
    "        # 6 or 60 -> as above\n",
    "        \n",
    "        # if \"ts2.left(6)\" is not put before the \"Minutes(tm2)\" after the 2nd sec. is minute, counted by \"ts2\" the turtle will double the degrees and turn by 12 degrees\n",
    "        # this is because in \"def Seconds\" we have turn right and in the while True look we have 360/60, which is 12 degrees\n",
    "        # so when the minutes start we have to substract 6 degrees for a proper division of the circle, and have 60 step on the circle\n",
    "        \n",
    "        y = y+1\n",
    "        \n",
    "        if y == 61:\n",
    "        # 61 or 7 -> the same logic    \n",
    "            y = 0\n",
    "    \n",
    "        elif y == 60:\n",
    "        # 60 or 6 -> the same lagic    \n",
    "            \n",
    "            ts2.clear()\n",
    "            # the visible points for the passed seconds are going to be erased and will start all over again\n",
    "            # by doing this the 60 seconds will start again and nothing will overlap, making it visibly easy to understand\n",
    "            \n",
    "            tm2.pu()\n",
    "            tm2.ht()\n",
    "            tm2.goto(0,0)\n",
    "            tm2.right(360/60)\n",
    "            # 360/60 or 360/6 -> the same logic\n",
    "            tm2.bk(-200)\n",
    "            tm2.pd()\n",
    "            tm2.st()\n",
    "            \n",
    "          \n",
    "            Hours(th2)\n",
    "            \n",
    "            tm2.left(6)\n",
    "            # 6 or 60 -> as above\n",
    "            \n",
    "            z = z+1\n",
    "        \n",
    "            if z == 61:\n",
    "            # 61 or 7 -> the same logic    \n",
    "                z = 0\n",
    "    \n",
    "            elif z == 60:\n",
    "            # 60 or 6 -> the same lagic\n",
    "            \n",
    "                tm2.clear()\n",
    "                # I am doing the same action as for ts2.clear()\n",
    "                \n",
    "                th2.pu()\n",
    "                th2.ht()\n",
    "                th2.goto(0,0)\n",
    "                th2.right(360/24)\n",
    "                # 360/24 - I am dividing the circle in 24 because 1 day has 24h\n",
    "                # this will also create the steps of the turtle along the circle's line\n",
    "                th2.bk(-100)\n",
    "                th2.pd()\n",
    "                th2.st()\n",
    "                \n",
    "                Days(td1)\n",
    "                \n",
    "                th2.left(6)\n",
    "                # 6 or 60 -> as above\n",
    "                \n",
    "                g = g+1\n",
    "                \n",
    "                if g == 8:\n",
    "                    g = 0\n",
    "                    \n",
    "                elif g == 7:\n",
    "                    \n",
    "                    th2.clear()\n",
    "                    \n",
    "                    cleardays()\n",
    "                    \n",
    "                    # after this \"def\" is execute the counting / the loop will start again\n",
    "                                                    "
   ]
  },
  {
   "cell_type": "code",
   "execution_count": null,
   "metadata": {
    "collapsed": true
   },
   "outputs": [],
   "source": [
    "# I have worked with Anastasios and because of this our functions may seem simillar in only some of the sections"
   ]
  },
  {
   "cell_type": "code",
   "execution_count": null,
   "metadata": {
    "collapsed": true
   },
   "outputs": [],
   "source": [
    "# After runnin the code with different parameters and doing a research I found out that Python is running the functions step by step and doesn't run them simultaneously as the logic is dictating. The logic is correct but Python runs it as if it follows it step by step, where in the logic some steps are to be run together."
   ]
  },
  {
   "cell_type": "markdown",
   "metadata": {},
   "source": [
    "![example1](https://github.com/mmeagher/ARC6818-2017/blob/master/assignment3/Assignment%203/images/Dimitar%20Zhelev%20-%20Solar%20system-1-2017-10-28.PNG?raw=true \"example1\")"
   ]
  },
  {
   "cell_type": "markdown",
   "metadata": {},
   "source": [
    "![example2](https://github.com/mmeagher/ARC6818-2017/blob/master/assignment3/Assignment%203/images/Dimitar%20Zhelev%20-%20Solar%20system-2-2017-10-28.PNG?raw=true \"example2\")"
   ]
  },
  {
   "cell_type": "markdown",
   "metadata": {},
   "source": [
    "![example3](https://github.com/mmeagher/ARC6818-2017/blob/master/assignment3/Assignment%203/images/Dimitar%20Zhelev%20-%20Solar%20system-3-2017-10-28.PNG?raw=true \"example3\")"
   ]
  },
  {
   "cell_type": "markdown",
   "metadata": {},
   "source": [
    "![example4](https://github.com/mmeagher/ARC6818-2017/blob/master/assignment3/Assignment%203/images/Dimitar%20Zhelev%20-%20Solar%20system-4-2017-10-28.PNG?raw=true \"example4\")"
   ]
  },
  {
   "cell_type": "code",
   "execution_count": null,
   "metadata": {
    "collapsed": true
   },
   "outputs": [],
   "source": [
    "# It was taking ages for the sun to draw a line. But the code and the previous function are proving it works."
   ]
  }
 ],
 "metadata": {
  "kernelspec": {
   "display_name": "Python 3",
   "language": "python",
   "name": "python3"
  },
  "language_info": {
   "codemirror_mode": {
    "name": "ipython",
    "version": 3
   },
   "file_extension": ".py",
   "mimetype": "text/x-python",
   "name": "python",
   "nbconvert_exporter": "python",
   "pygments_lexer": "ipython3",
   "version": "3.6.2"
  }
 },
 "nbformat": 4,
 "nbformat_minor": 2
}
