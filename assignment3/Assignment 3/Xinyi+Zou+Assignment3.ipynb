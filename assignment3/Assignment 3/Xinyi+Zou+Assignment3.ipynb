{
 "cells": [
  {
   "cell_type": "code",
   "execution_count": 3,
   "metadata": {},
   "outputs": [],
   "source": [
    "import turtle\n",
    "import time\n",
    "\n",
    "face = turtle.Turtle()\n",
    "mouth = turtle.Turtle()\n",
    "someone=turtle.Turtle()\n",
    "\n",
    "face.penup()\n",
    "face.goto(-90,200)\n",
    "face.pendown()\n",
    "face.forward(30)\n",
    "face.penup()\n",
    "face.goto(60,200)\n",
    "face.pendown()\n",
    "face.forward(30)\n",
    "face.penup()\n",
    "face.goto(-75,150)\n",
    "face.pendown()\n",
    "face.circle(10) \n",
    "face.penup()\n",
    "face.goto(75,150)\n",
    "face.pendown()\n",
    "face.circle(10)\n",
    "face.penup()\n",
    "\n",
    "# draw the eyebrows and eyes\n",
    "\n",
    "\n",
    "mouth.goto(0,0)\n",
    "mouth.shape(\"circle\")\n",
    "mouth.shapesize(1)\n",
    "# draw the mouth\n",
    "\n",
    "someone.penup()\n",
    "someone.shape(\"turtle\")\n",
    "someone.speed(1)\n",
    "someone.goto(-200,-200)\n",
    "someone.pendown\n",
    "#someone pass by the girl\n",
    "\n",
    "def surprise():\n",
    "    for i in range(1,7):\n",
    "        someone.forward((i-1)*40)\n",
    "        time.sleep(1)\n",
    "        mouth.shapesize(i*1)\n",
    "        time.sleep(1)\n",
    "        \n",
    "surprise() \n",
    "# function of the facial expression corresponding to the someone passing by with time variation. Since the mouth cant\n",
    "# change with the turtle walking at the same time(at least I don't how does this happen), so \"time.sleep\" is used. \n",
    "\n",
    "\n"
   ]
  },
  {
   "cell_type": "code",
   "execution_count": null,
   "metadata": {
    "collapsed": true
   },
   "outputs": [],
   "source": []
  },
  {
   "cell_type": "code",
   "execution_count": null,
   "metadata": {
    "collapsed": true
   },
   "outputs": [],
   "source": []
  },
  {
   "cell_type": "code",
   "execution_count": null,
   "metadata": {
    "collapsed": true
   },
   "outputs": [],
   "source": []
  }
 ],
 "metadata": {
  "kernelspec": {
   "display_name": "Python 3",
   "language": "python",
   "name": "python3"
  },
  "language_info": {
   "codemirror_mode": {
    "name": "ipython",
    "version": 3
   },
   "file_extension": ".py",
   "mimetype": "text/x-python",
   "name": "python",
   "nbconvert_exporter": "python",
   "pygments_lexer": "ipython3",
   "version": "3.5.4"
  }
 },
 "nbformat": 4,
 "nbformat_minor": 2
}
