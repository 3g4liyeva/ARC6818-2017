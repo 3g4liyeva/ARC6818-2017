{
 "cells": [
  {
   "cell_type": "markdown",
   "metadata": {},
   "source": [
    "# *** Yitong Guan Assignment 3***"
   ]
  },
  {
   "cell_type": "code",
   "execution_count": 1,
   "metadata": {
    "collapsed": true
   },
   "outputs": [],
   "source": [
    "import turtle"
   ]
  },
  {
   "cell_type": "code",
   "execution_count": 2,
   "metadata": {
    "collapsed": true
   },
   "outputs": [],
   "source": [
    "import time"
   ]
  },
  {
   "cell_type": "code",
   "execution_count": 3,
   "metadata": {},
   "outputs": [],
   "source": [
    "t1 = turtle.Turtle()\n",
    "t1.speed(100)\n",
    "t1.ht()\n",
    "t1.penup()\n",
    "t1.goto(-500,0)\n",
    "t1.pensize(6)\n",
    "\n",
    "# basic setting for second turtles, including start point and pensize\n",
    "\n",
    "t2 = turtle.Turtle()\n",
    "t2.speed(100)\n",
    "t2.ht()\n",
    "t2.penup()\n",
    "t2.goto(-500,0)\n",
    "t2.pensize(4)\n",
    "\n",
    "# basic setting for minute turtles\n",
    "\n",
    "t3 = turtle.Turtle()\n",
    "t3.speed(100)\n",
    "t3.ht()\n",
    "t3.penup()\n",
    "t3.goto(-500,0)\n",
    "t3.pensize(2)\n",
    "\n",
    "# basic setting for hour turtles"
   ]
  },
  {
   "cell_type": "code",
   "execution_count": 4,
   "metadata": {},
   "outputs": [],
   "source": [
    "radius = 500\n",
    "\n",
    "# the graphic will look like a circle. this step is to decide its radius.\n",
    "\n",
    "s = 0\n",
    "m = 0\n",
    "h = 0\n",
    "d = 0\n",
    "\n",
    "# insert four variables to count the number of seconds minutes hours and days"
   ]
  },
  {
   "cell_type": "code",
   "execution_count": 5,
   "metadata": {
    "collapsed": true
   },
   "outputs": [],
   "source": [
    "# set three function to define the movement of seconds, minutes and hours\n",
    "\n",
    "def second(t,radius,steps):\n",
    "    t.penup()\n",
    "    t.fd(4*radius/12)\n",
    "    t.pendown()\n",
    "    t.lt(90)\n",
    "    t.circle(2*radius/12)\n",
    "    t.rt(90)\n",
    "    t.penup()\n",
    "    t.fd(8*radius/12)\n",
    "    t.right(360/steps)\n",
    "    t.bk(radius)\n",
    "    t.pendown()\n",
    "\n",
    "# function \"second\" is used to make second turtle draw a circle each time\n",
    "\n",
    "def minute(t,radius,steps):\n",
    "    t.penup()\n",
    "    t.fd(5*radius/12)\n",
    "    t.pendown()\n",
    "    t.lt(60)\n",
    "    t.fd(3*radius/12)\n",
    "    t.rt(120)\n",
    "    t.fd(3*radius/12)\n",
    "    t.rt(120)\n",
    "    t.fd(3*radius/12)\n",
    "    t.rt(180)\n",
    "    t.penup()\n",
    "    t.fd(7*radius/12)\n",
    "    t.right(360/steps)\n",
    "    t.bk(radius)\n",
    "    t.pendown()\n",
    "    \n",
    "# function \"minute\" is used to make minute turtle draw a triangle each time.\n",
    "    \n",
    "def hour(t,radius,steps):\n",
    "    t.penup()\n",
    "    t.fd(9*radius/12)\n",
    "    t.pendown()\n",
    "    t.lt(90)\n",
    "    t.fd(2*radius/12)\n",
    "    t.penup()\n",
    "    t.bk(2*radius/12)\n",
    "    t.rt(90)\n",
    "    t.fd(3*radius/12)\n",
    "    t.right(360/steps)\n",
    "    t.bk(radius)\n",
    "    t.pendown()\n",
    "\n",
    "# function \"hour\" is used to make hour turtle draw a line."
   ]
  },
  {
   "cell_type": "code",
   "execution_count": 6,
   "metadata": {
    "collapsed": true
   },
   "outputs": [],
   "source": [
    "# through the logic of if it is an odd, I want to change the color of turtles for every loop which maybe make the graphic look nicer.\n",
    "\n",
    "def odds(x,turtle):\n",
    "    if x%2 ==0:\n",
    "        turtle.color('purple')\n",
    "    else:\n",
    "        turtle.color('blue')\n",
    "\n",
    "\n",
    "def odds2(x,turtle):\n",
    "     if x%2 ==0:\n",
    "        turtle.color('grey')\n",
    "     else:\n",
    "        turtle.color('orange')\n"
   ]
  },
  {
   "cell_type": "code",
   "execution_count": null,
   "metadata": {
    "collapsed": true
   },
   "outputs": [],
   "source": [
    "def day(days,turtle):\n",
    "    if days == 0:\n",
    "        turtle.color('red')\n",
    "    elif days == 1:\n",
    "        turtle.color('orange')\n",
    "    elif days == 2:\n",
    "        turtle.color('yellow')\n",
    "    elif days == 3:\n",
    "        turtle.color('green')\n",
    "    elif days == 4:\n",
    "        turtle.color('blue')\n",
    "    elif days == 5:\n",
    "        turtle.color('purple')\n",
    "    elif days == 6:\n",
    "        turtle.color('green')\n",
    "        \n",
    "# using seven different color representing different day in one week."
   ]
  },
  {
   "cell_type": "code",
   "execution_count": null,
   "metadata": {},
   "outputs": [],
   "source": [
    "while True:\n",
    "    time.sleep(1)\n",
    "    \n",
    "# using the time.sleep() to make the program run in second\n",
    "    \n",
    "    odds(m,t1)\n",
    "    odds2(h,t2)\n",
    "    second(t1,radius,60)             \n",
    "    s = s+1\n",
    "    \n",
    "\n",
    "    if s == 61:\n",
    "        s =1\n",
    "    elif s == 60:\n",
    "        minute(t2,radius,60)\n",
    "        t1.clear()\n",
    "        m = m+1\n",
    "\n",
    "# clear the second turtles every 60 times and then restart\n",
    "\n",
    "        if m == 61:\n",
    "            m = 1\n",
    "        elif m == 60:\n",
    "            hour(t3,radius,24)\n",
    "            t2.clear() \n",
    "            h = h+1\n",
    "            \n",
    "# clear the minute turtles every 60 times and then restart\n",
    "               \n",
    "            if h == 24:\n",
    "                day(d,t3)\n",
    "                d = d+1\n",
    "                h = 0\n",
    "                day(d,t3)\n",
    "            \n",
    "# clear the hour turtles every 24 times and then restart\n",
    "\n",
    "if d == 7:\n",
    "    d = 0\n",
    "# new week"
   ]
  },
  {
   "cell_type": "markdown",
   "metadata": {},
   "source": [
    "![gty image1](https://github.com/mmeagher/ARC6818-2017/blob/master/assignment3/Assignment%203/images/gyt1.png?raw=true)"
   ]
  },
  {
   "cell_type": "markdown",
   "metadata": {},
   "source": [
    "![gty image1](https://github.com/mmeagher/ARC6818-2017/blob/master/assignment3/Assignment%203/images/gyt2.png?raw=true)"
   ]
  },
  {
   "cell_type": "markdown",
   "metadata": {},
   "source": [
    "![gty image1](https://github.com/mmeagher/ARC6818-2017/blob/master/assignment3/Assignment%203/images/gyt3.png?raw=true)"
   ]
  },
  {
   "cell_type": "code",
   "execution_count": null,
   "metadata": {
    "collapsed": true
   },
   "outputs": [],
   "source": []
  }
 ],
 "metadata": {
  "kernelspec": {
   "display_name": "Python 3",
   "language": "python",
   "name": "python3"
  },
  "language_info": {
   "codemirror_mode": {
    "name": "ipython",
    "version": 3
   },
   "file_extension": ".py",
   "mimetype": "text/x-python",
   "name": "python",
   "nbconvert_exporter": "python",
   "pygments_lexer": "ipython3",
   "version": "3.6.2"
  }
 },
 "nbformat": 4,
 "nbformat_minor": 2
}
