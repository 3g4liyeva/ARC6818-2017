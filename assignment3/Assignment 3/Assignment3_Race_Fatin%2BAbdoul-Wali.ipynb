{
 "cells": [
  {
   "cell_type": "code",
   "execution_count": 11,
   "metadata": {
    "collapsed": true
   },
   "outputs": [],
   "source": [
    "import time\n",
    "import turtle\n",
    "import random"
   ]
  },
  {
   "cell_type": "code",
   "execution_count": 2,
   "metadata": {
    "collapsed": true
   },
   "outputs": [],
   "source": [
    "screen = turtle.getscreen()\n",
    "turtle.title(\"Race\")\n",
    "\n",
    "speed = (1,3,6,10)\n",
    "\n",
    "# Here I created the 3 turtles that will compete to win the race, and set the speed to a random choice so that each\n",
    "# time there will be a variation to who wins.. This is also enhanced by setting random number of steps for each turtle,\n",
    "# which will be explained later on\n",
    "\n",
    "crawler = turtle.Turtle()\n",
    "crawler.color(\"red\")\n",
    "crawler.pencolor(\"red\")\n",
    "crawler.shape(\"turtle\")\n",
    "crawler.pu()\n",
    "crawler.goto(-320, 100)\n",
    "crawler.pd()\n",
    "crawler.speed(random.choice(speed))\n",
    "\n",
    "speedy = turtle.Turtle()\n",
    "speedy.color(\"green\")\n",
    "speedy.pencolor(\"green\")\n",
    "speedy.shape(\"turtle\")\n",
    "speedy.pu()\n",
    "speedy.goto(-320, 0)\n",
    "speedy.pd()\n",
    "speedy.speed(1)\n",
    "\n",
    "flash = turtle.Turtle()\n",
    "flash.color(\"blue\")\n",
    "flash.pencolor(\"blue\")\n",
    "flash.shape(\"turtle\")\n",
    "flash.pu()\n",
    "flash.goto(-320, -100)\n",
    "flash.pd()\n",
    "flash.speed(random.choice(speed))\n",
    "\n",
    "\n",
    "racers = []\n",
    "racers.append(crawler)\n",
    "racers.append(speedy)\n",
    "racers.append(flash)\n"
   ]
  },
  {
   "cell_type": "markdown",
   "metadata": {},
   "source": [
    "![alt text](./images/1.JPG)"
   ]
  },
  {
   "cell_type": "code",
   "execution_count": 3,
   "metadata": {
    "collapsed": true
   },
   "outputs": [],
   "source": [
    "t = turtle.Turtle()\n",
    "turtle.stamp()\n",
    "\n",
    "# This turtle draws the starting line and the ending line for the race\n",
    "\n",
    "t.pu()\n",
    "t.goto(-300, -200)\n",
    "t.pd()\n",
    "t.left(90)\n",
    "t.fd(400)\n",
    "t.pu()\n",
    "t.goto(250, -200)\n",
    "t.pd()\n",
    "t.fd(400)\n",
    "t.color(\"white\")\n",
    "turtle.clearstamp(t)\n"
   ]
  },
  {
   "cell_type": "markdown",
   "metadata": {},
   "source": [
    "![alt text](./images/2.JPG)"
   ]
  },
  {
   "cell_type": "code",
   "execution_count": 4,
   "metadata": {},
   "outputs": [
    {
     "name": "stdout",
     "output_type": "stream",
     "text": [
      "Speedy Won in  6.31seconds\n"
     ]
    }
   ],
   "source": [
    "# This turtle's job is to do the countdown for the race, with time-sleep intervals so that the count can\n",
    "# be done slowly and seen clearly before its cleared for the next string to appear\n",
    "\n",
    "turtle_count = turtle.Turtle()\n",
    "turtle_count.color(\"white\")\n",
    "turtle_count.pencolor(\"skyblue\")\n",
    "turtle_count.pu()\n",
    "turtle_count.goto(0, 150)\n",
    "turtle_count.pd()\n",
    "turtle_count.write(\"3\", move=False, align=\"center\", font=(\"Arial\", 50, \"normal\"))\n",
    "time.sleep(1.5)\n",
    "turtle_count.clear()\n",
    "turtle_count.write(\"2\", move=False, align=\"center\", font=(\"Arial\", 50, \"normal\"))\n",
    "time.sleep(1.5)\n",
    "turtle_count.clear()\n",
    "turtle_count.write(\"1\", move=False, align=\"center\", font=(\"Arial\", 50, \"normal\"))\n",
    "time.sleep(1.5)\n",
    "turtle_count.clear()\n",
    "turtle_count.write(\"GO!!!\", move=False, align=\"center\", font=(\"Arial\", 50, \"normal\"))\n",
    "time.sleep(1.5)\n",
    "turtle_count.clear()\n",
    "turtle.clearstamp(turtle_count)\n",
    "\n",
    "# The following functions are set for each turtle to determine whether they are a winner or a loser\n",
    "# If the turtle reaches slightly beyond the x coordination of the finish line, it is declared to be the winner\n",
    "# while the other turtles are sent back to the starting point\n",
    "# and then the elapsed time -the time it took the turtle to go from starting line to the finish line- is calculated\n",
    "# and announced by the counting turtle. Otherwise, the function returns false\n",
    "\n",
    "def potentialwinner_c(r):\n",
    "        if r.xcor() >= 260 and r.xcor() <=270:\n",
    "          #  r.setpos(260, 100)\n",
    "            turtle_count.write(\"CRAWLER WINS!\", move=False, align=\"center\", font=(\"Arial\", 35, \"normal\"))\n",
    "            time.sleep(1.5)\n",
    "            turtle_count.clear()\n",
    "            elapsed_time = str(time.time() - start_time)\n",
    "            elapsed_time = elapsed_time[0:4]\n",
    "            turtle_count.write(\"Time: \" + elapsed_time + \"seconds\", move=False, align=\"center\", font=(\"Arial\", 35, \"normal\"))\n",
    "            flash.pu()\n",
    "            speedy.pu()\n",
    "            flash.goto(-320,-100)\n",
    "            speedy.goto(-320,0)\n",
    "            print(\"Crawler Won in  \" + elapsed_time + \"seconds\")\n",
    "            return False\n",
    "def potentialwinner_f(r):\n",
    "        if r.xcor() >= 260 and r.xcor() <=270:\n",
    "          #  r.setpos(260, 0)\n",
    "            turtle_count.pu()\n",
    "            turtle_count.write(\"Flash WINS!\", move=False, align=\"center\", font=(\"Arial\", 35, \"normal\"))\n",
    "            time.sleep(1.5)\n",
    "            turtle_count.clear()\n",
    "            elapsed_time = str(time.time() - start_time)\n",
    "            elapsed_time = elapsed_time[0:4]\n",
    "            turtle_count.write(\"Time: \" + elapsed_time+ \"seconds\", move=False, align=\"center\", font=(\"Arial\", 35, \"normal\"))\n",
    "            crawler.pu()\n",
    "            speedy.pu()\n",
    "            crawler.goto(-320,100)\n",
    "            speedy.goto(-320,0)\n",
    "            print(\"Flash Won in  \" + elapsed_time + \"seconds\")\n",
    "            return False\n",
    "def potentialwinner_s(r):\n",
    "        if r.xcor() >= 260 and r.xcor() <=270:\n",
    "           # r.setpos(260, -100)\n",
    "            turtle_count.pu()\n",
    "            turtle_count.write(\"Speedy WINS!\", move=False, align=\"center\", font=(\"Arial\", 35, \"normal\"))\n",
    "            time.sleep(1.5)\n",
    "            turtle_count.clear()\n",
    "            elapsed_time = str(time.time() - start_time)\n",
    "            elapsed_time = elapsed_time[0:4]\n",
    "            turtle_count.write(\"Time: \" + elapsed_time + \"seconds\", move=False, align=\"center\", font=(\"Arial\", 35, \"normal\"))\n",
    "            crawler.pu()\n",
    "            flash.pu()\n",
    "            crawler.goto(-320,100)\n",
    "            flash.goto(-320,-100)\n",
    "            print(\"Speedy Won in  \" + elapsed_time + \"seconds\")\n",
    "            return False\n",
    "\n",
    "start_time = time.time()\n",
    "status = True\n",
    "\n",
    "# Here I set the random steps that my turtles are going to take to reach the finish line -between 1 to 10- \n",
    "# together with the random speeds, it returns different winners and times for each run\n",
    "# If any of the functions return false, the loop will break and stops the turtles from moving any further\n",
    "# and if its true it will print/declare the statements within the functions\n",
    "\n",
    "while(status):\n",
    "    d1 = random.randint(1,10)\n",
    "    crawler.forward(d1)\n",
    "    if potentialwinner_c(crawler) == False:\n",
    "        break\n",
    "    d2 = random.randint(1,10)\n",
    "    flash.forward(d2)\n",
    "    if potentialwinner_f(flash) == False:\n",
    "        break\n",
    "    d3 = random.randint(1,10)\n",
    "    speedy.forward(d3) \n",
    "    if potentialwinner_s(speedy) == False:\n",
    "        break"
   ]
  },
  {
   "cell_type": "markdown",
   "metadata": {
    "collapsed": true
   },
   "source": [
    "![alt text](./images/3.JPG)\n",
    "![alt text](./images/4.JPG)\n",
    "![alt text](./images/5.JPG)\n",
    "![alt text](./images/6.JPG)\n",
    "![alt text](./images/7.JPG)\n",
    "![alt text](./images/8.JPG)\n",
    "![alt text](./images/9.JPG)"
   ]
  },
  {
   "cell_type": "code",
   "execution_count": null,
   "metadata": {
    "collapsed": true
   },
   "outputs": [],
   "source": []
  }
 ],
 "metadata": {
  "kernelspec": {
   "display_name": "Python 3",
   "language": "python",
   "name": "python3"
  },
  "language_info": {
   "codemirror_mode": {
    "name": "ipython",
    "version": 3
   },
   "file_extension": ".py",
   "mimetype": "text/x-python",
   "name": "python",
   "nbconvert_exporter": "python",
   "pygments_lexer": "ipython3",
   "version": "3.6.2"
  }
 },
 "nbformat": 4,
 "nbformat_minor": 2
}
