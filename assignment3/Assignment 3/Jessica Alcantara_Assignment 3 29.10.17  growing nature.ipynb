{
 "cells": [
  {
   "cell_type": "markdown",
   "metadata": {
    "collapsed": true
   },
   "source": [
    "![stages237-14_55](https://jessicaalriv.files.wordpress.com/2017/10/stages237-14_55.png)"
   ]
  },
  {
   "cell_type": "markdown",
   "metadata": {},
   "source": [
    "# Growing nature and time , by Jessica Alcantara Rivera"
   ]
  },
  {
   "cell_type": "code",
   "execution_count": 1,
   "metadata": {
    "collapsed": true
   },
   "outputs": [],
   "source": [
    "#For this assignment I designed a clock inspired by nature. Layers that mean the passage of time\n",
    "#The inputs are based on information retrieved from the date.time module: specifically .now function.\n",
    "\n",
    "#The size of the circle is determined by how big is the second on a scale of 0 to 60. \n",
    "    #This number is obtained by converting to an integral the number of the second. \n",
    "    #First I used the conversion datetime to string and after that string to an integer.\n",
    "# The angle on which the circle is drawn is determined by the relationship: \n",
    "    #360 degrees equals 60 seconds. The turtle's head aligns to the current second and draws the circle in that direction.\n",
    "# Finally, I was trying to admire the function over time, so I added an additional conditional,\n",
    "#by every 60 seconds the center of the clock will move in X plane creating a new layer. \n",
    "#So, you can actually know how many minutes have been occurred since the beginning by counting \n",
    "#the number of closest lines.\n",
    "#threading helps a lot in perfoming the action each second.\n",
    "\n",
    "\n"
   ]
  },
  {
   "cell_type": "code",
   "execution_count": 2,
   "metadata": {
    "collapsed": true
   },
   "outputs": [],
   "source": [
    "#import modules"
   ]
  },
  {
   "cell_type": "code",
   "execution_count": 3,
   "metadata": {
    "collapsed": true
   },
   "outputs": [],
   "source": [
    "import turtle\n",
    "import time\n",
    "import datetime\n",
    "import pytz\n",
    "import threading\n",
    "\n"
   ]
  },
  {
   "cell_type": "code",
   "execution_count": 4,
   "metadata": {
    "collapsed": true
   },
   "outputs": [],
   "source": [
    "loadWindow = turtle.Screen()"
   ]
  },
  {
   "cell_type": "code",
   "execution_count": 5,
   "metadata": {
    "collapsed": false
   },
   "outputs": [],
   "source": [
    "def clocksec():\n",
    "     \n",
    "    #set the turtle speed,color and pensize\n",
    "    \n",
    "        turtle.speed(\"fastest\")\n",
    "        turtle.pensize (1)  \n",
    "        turtle.color(\"black\")\n",
    "\n",
    "        #insert a delay in turtle's behaviour, by default is 0, but if the number increase for example to 0.1, \n",
    "        #this will change the final result.\n",
    "        time.sleep (0)\n",
    "\n",
    "        #retrieve from the computer actual datetime object\n",
    "\n",
    "        dt_now= datetime.datetime.now (tz=pytz.UTC)\n",
    "\n",
    "        #convert the seconds from the actual time in a string \n",
    "\n",
    "        dtime = datetime.datetime.strftime (dt_now,'%S',)\n",
    "        \n",
    "        #convert the minutes from the actual time in a string  \n",
    "        \n",
    "        dminute= datetime.datetime.strftime (dt_now,'%M',)\n",
    "\n",
    "        #convert the strings to  integers to determine the size of the circle\n",
    "        #that is going to represent the seconds\n",
    "\n",
    "        sizeline=int(dtime)\n",
    "        sizeminutes=int(dminute)\n",
    "        \n",
    "        #set the heading angle of the turtle, to the actual second\n",
    "        turtle.penup()\n",
    "        turtle.setheading ((-360/60)*sizeline)\n",
    "        turtle.goto(0,0)\n",
    "        turtle.pendown()\n",
    "       \n",
    "\n",
    "        #make a circle with size of the \"seconds\"\n",
    "        turtle.color(\"gray\")\n",
    "        turtle.circle (sizeline*(sizeminutes/4))\n",
    "        turtle.penup()\n",
    "  \n",
    "        #convert the datetime  object in a string that includes hour, minutes, seconds, the turtle will print this \n",
    "        #as the actual time\n",
    "        dtimeprint=datetime.datetime.strftime (dt_now,'%H:%M:%S',)\n",
    "        turtle.penup()\n",
    "        turtle.goto(320,320)\n",
    "        turtle.write(dtimeprint, True,align=\"center\",font=(\"arial\",15,\"normal\"))\n",
    "        #erase the writing\n",
    "        \n",
    "        turtle.goto(320,320)\n",
    "        turtle.setheading (0)   \n",
    "        turtle.color(\"white\")\n",
    "        turtle.begin_fill()\n",
    "        turtle.circle(120)\n",
    "        turtle.end_fill()\n",
    "        threading.Timer(1,clocksec).start()\n",
    "      \n",
    "        #start again\n",
    "        \n"
   ]
  },
  {
   "cell_type": "markdown",
   "metadata": {},
   "source": [
    "![1stage-minute1-14_48](https://jessicaalriv.files.wordpress.com/2017/10/1stage-minute1-14_48.png?w=768)\n",
    "#in this image, we can see the image output of the first round of the clock (1st minute)starting at 14:48"
   ]
  },
  {
   "cell_type": "markdown",
   "metadata": {},
   "source": [
    "![stages237-14_55](https://jessicaalriv.files.wordpress.com/2017/10/stages237-14_55.png)\n",
    "#in this image, we can see the image output of the second, third and seventh minute, at the end the time was 14:55"
   ]
  },
  {
   "cell_type": "markdown",
   "metadata": {},
   "source": [
    "![stages141619-15_03](https://jessicaalriv.files.wordpress.com/2017/10/stages141619-15_03.png?w=768)\n",
    "#in the final composition, we can admire the final result of time. A beautiful shell that recorded every second in its skeleton. The time at the first image was 14:58. The time at the second image was 15:00. The time at the last image 15:03."
   ]
  },
  {
   "cell_type": "code",
   "execution_count": null,
   "metadata": {
    "collapsed": false
   },
   "outputs": [],
   "source": [
    "clocksec()"
   ]
  },
  {
   "cell_type": "code",
   "execution_count": null,
   "metadata": {
    "collapsed": false
   },
   "outputs": [],
   "source": [
    "turtle.exitonclick()"
   ]
  }
 ],
 "metadata": {
  "anaconda-cloud": {},
  "kernelspec": {
   "display_name": "Python [Root]",
   "language": "python",
   "name": "Python [Root]"
  },
  "language_info": {
   "codemirror_mode": {
    "name": "ipython",
    "version": 3
   },
   "file_extension": ".py",
   "mimetype": "text/x-python",
   "name": "python",
   "nbconvert_exporter": "python",
   "pygments_lexer": "ipython3",
   "version": "3.5.2"
  }
 },
 "nbformat": 4,
 "nbformat_minor": 0
}
