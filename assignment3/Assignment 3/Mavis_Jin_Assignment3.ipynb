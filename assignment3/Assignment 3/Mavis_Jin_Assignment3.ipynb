{
 "cells": [
  {
   "cell_type": "code",
   "execution_count": 1,
   "metadata": {
    "collapsed": true
   },
   "outputs": [],
   "source": [
    "# import turtle and datetime\n",
    "import turtle\n",
    "import datetime\n",
    "from time import sleep"
   ]
  },
  {
   "cell_type": "code",
   "execution_count": 2,
   "metadata": {
    "collapsed": true
   },
   "outputs": [],
   "source": [
    "# set turtle mode to 'logo'\n",
    "turtle.mode(\"logo\")"
   ]
  },
  {
   "cell_type": "markdown",
   "metadata": {},
   "source": [
    "By setting the turtle mode to logo, it makes it easier to set the heading of the turtle based on the current hour, minute or second as in logo mode 0 degrees = North."
   ]
  },
  {
   "cell_type": "code",
   "execution_count": 3,
   "metadata": {
    "collapsed": true
   },
   "outputs": [],
   "source": [
    "# get the current time\n",
    "currentTime=datetime.datetime.now().time()"
   ]
  },
  {
   "cell_type": "code",
   "execution_count": 4,
   "metadata": {
    "collapsed": true
   },
   "outputs": [],
   "source": [
    "# create the turtles for displaying the time\n",
    "secondTurtle = turtle.Turtle()\n",
    "minuteTurtle = turtle.Turtle()\n",
    "hourTurtle = turtle.Turtle()"
   ]
  },
  {
   "cell_type": "code",
   "execution_count": 5,
   "metadata": {
    "collapsed": true
   },
   "outputs": [],
   "source": [
    "# for all turtles, set turtle speed to max and set shape, size and colour of turtle\n",
    "# bring pen up\n",
    "secondTurtle.speed(\"fastest\")\n",
    "secondTurtle.shape(\"turtle\")\n",
    "secondTurtle.color(\"purple\")\n",
    "secondTurtle.shapesize(0.4,0.4,0.4)  \n",
    "secondTurtle.pu()\n",
    "\n",
    "minuteTurtle.speed(\"fastest\")\n",
    "minuteTurtle.shape(\"turtle\")\n",
    "minuteTurtle.color(\"blue\")\n",
    "minuteTurtle.shapesize(0.6,0.6,0.6)\n",
    "minuteTurtle.pu()\n",
    "\n",
    "hourTurtle.speed(\"fastest\")\n",
    "hourTurtle.shape(\"turtle\")\n",
    "hourTurtle.color(\"green\")\n",
    "hourTurtle.shapesize(1,1,1)\n",
    "hourTurtle.pu()"
   ]
  },
  {
   "cell_type": "code",
   "execution_count": 6,
   "metadata": {},
   "outputs": [],
   "source": [
    "# draw clock. \n",
    "a=6\n",
    "for i in range(60):\n",
    "    secondTurtle.fd(200)\n",
    "    secondTurtle.pd()\n",
    "    secondTurtle.fd(10)\n",
    "    secondTurtle.pu()\n",
    "    secondTurtle.home()\n",
    "    secondTurtle.rt(a)\n",
    "    minuteTurtle.fd(135)\n",
    "    minuteTurtle.pd()\n",
    "    minuteTurtle.fd(20)\n",
    "    minuteTurtle.pu()\n",
    "    minuteTurtle.home()\n",
    "    minuteTurtle.rt(a)\n",
    "    a=a+6\n",
    "\n",
    "b=15\n",
    "for i in range(24):\n",
    "    hourTurtle.fd(50)\n",
    "    hourTurtle.pd()\n",
    "    hourTurtle.fd(30)\n",
    "    hourTurtle.pu()\n",
    "    hourTurtle.home()\n",
    "    hourTurtle.rt(b)\n",
    "    b=b+15"
   ]
  },
  {
   "cell_type": "markdown",
   "metadata": {},
   "source": [
    "Note that there are 24 lines along the hourTurtle circle, so this clock does not display time like a traditional clock."
   ]
  },
  {
   "cell_type": "markdown",
   "metadata": {},
   "source": [
    "![Image](https://c1.staticflickr.com/5/4479/37980684052_8b35b72e17_z.jpg)"
   ]
  },
  {
   "cell_type": "code",
   "execution_count": 7,
   "metadata": {
    "collapsed": true
   },
   "outputs": [],
   "source": [
    "def secondTurtle_movement(t1):\n",
    "    t1.setheading((currentTime.second*6))\n",
    "    t1.fd(215)\n",
    "    t1.stamp()\n",
    "    t1.goto(0,0)"
   ]
  },
  {
   "cell_type": "code",
   "execution_count": 8,
   "metadata": {
    "collapsed": true
   },
   "outputs": [],
   "source": [
    "def minuteTurtle_movement(t2):\n",
    "    t2.setheading((currentTime.minute*6))\n",
    "    t2.fd(165)\n",
    "    t2.stamp()\n",
    "    t2.goto(0,0)"
   ]
  },
  {
   "cell_type": "code",
   "execution_count": 9,
   "metadata": {
    "collapsed": true
   },
   "outputs": [],
   "source": [
    "def hourTurtle_movement(t3):\n",
    "    t3.setheading((currentTime.hour*15))\n",
    "    t3.fd(95)\n",
    "    t3.stamp()\n",
    "    t3.goto(0,0)"
   ]
  },
  {
   "cell_type": "markdown",
   "metadata": {},
   "source": [
    "The above 3 lines of code defines functions that will control the movement of the turtles. "
   ]
  },
  {
   "cell_type": "code",
   "execution_count": 10,
   "metadata": {
    "collapsed": true
   },
   "outputs": [],
   "source": [
    "# define the previous value of time as the currentTime\n",
    "prevSecond=currentTime.second\n",
    "prevMinute=currentTime.minute\n",
    "prevHour=currentTime.hour"
   ]
  },
  {
   "cell_type": "code",
   "execution_count": 11,
   "metadata": {
    "collapsed": true
   },
   "outputs": [],
   "source": [
    "y=15\n",
    "hourTurtle.setheading(15)\n",
    "for i in range(prevHour+1):\n",
    "    hourTurtle.fd(95)\n",
    "    hourTurtle.stamp()\n",
    "    hourTurtle.home()\n",
    "    hourTurtle.rt(y)\n",
    "    y=y+15"
   ]
  },
  {
   "cell_type": "code",
   "execution_count": 12,
   "metadata": {},
   "outputs": [],
   "source": [
    "x=6\n",
    "minuteTurtle.setheading(6)\n",
    "for i in range(prevMinute+1):\n",
    "    minuteTurtle.fd(165)\n",
    "    minuteTurtle.stamp()\n",
    "    minuteTurtle.home()\n",
    "    minuteTurtle.rt(x)\n",
    "    x=x+6"
   ]
  },
  {
   "cell_type": "markdown",
   "metadata": {},
   "source": [
    "The above 2 lines of code stamps turtles along the clock, depending on the current time.\n",
    "\n",
    "For example if it is currently 12:45pm, there will be 12 hour turtles (green) and 45 minute turtles (blue).\n",
    "I needed to add 1 onto the value of the current hour and minute as sometimes in the time that you run these lines the clock changes to a new minute or hour and there will be a gap in the pattern of turtles along the clock. By adding 1 to the value the turtle will sometimes stamp on that last point twice, but it allows for a consistent pattern of turtles along the clock without gaps."
   ]
  },
  {
   "cell_type": "code",
   "execution_count": null,
   "metadata": {},
   "outputs": [],
   "source": [
    "z=6\n",
    "secondTurtle.setheading(6)\n",
    "for i in range(prevSecond+22):\n",
    "    secondTurtle.fd(215)\n",
    "    secondTurtle.stamp()\n",
    "    secondTurtle.home()\n",
    "    secondTurtle.rt(z)\n",
    "    z=z+6\n",
    "    \n",
    "if prevSecond > 38:\n",
    "    secondTurtle.clearstamps(60)"
   ]
  },
  {
   "cell_type": "markdown",
   "metadata": {},
   "source": [
    "Likewise for the circle of second turtles along the clock, I have had to add 22 additional turtles to the value because between the time it takes to stamp the turtles on the clock to display the current time and to run the function movement of the turtles (the final line of code in this notebook), the currentSecond will have moved on by approximately 22 seconds.\n",
    "This value is still not perfect and sometimes you may still get a gap in the seconds circle of turtles, especially if there are more than 40 minutes turtles stamped on before it.\n",
    "\n",
    "The 'if' statemement at the end of the code restarts the the circle of the seconds turtle if a full circle has been stamed in the time the code has been running."
   ]
  },
  {
   "cell_type": "markdown",
   "metadata": {},
   "source": [
    "![Image](https://c1.staticflickr.com/5/4470/26235505979_ca5c2ccf0a_z.jpg)"
   ]
  },
  {
   "cell_type": "markdown",
   "metadata": {},
   "source": [
    "In the above picture the time displayed is 13:05"
   ]
  },
  {
   "cell_type": "code",
   "execution_count": null,
   "metadata": {},
   "outputs": [],
   "source": [
    "# in each second update the movement of all the turtles\n",
    "while True:\n",
    "    currentTime=datetime.datetime.now().time()\n",
    "    currentSecond=currentTime.second\n",
    "    currentMinute=currentTime.minute\n",
    "    currentHour=currentTime.hour\n",
    "\n",
    "    if (currentSecond != prevSecond):\n",
    "        secondTurtle_movement(secondTurtle)\n",
    "    \n",
    "    if (currentMinute != prevMinute):\n",
    "        minuteTurtle_movement(minuteTurtle)\n",
    "        \n",
    "    if (currentHour != prevHour):\n",
    "        hourTurtle_movement(hourTurtle)\n",
    "        \n",
    "    prevSecond=currentTime.second\n",
    "    prevMinute=currentTime.minute\n",
    "    prevHour=currentTime.hour\n",
    "    \n",
    "# the code below resets the seconds, minutes and hour circles once all the turtles have been stamped on it    \n",
    "    if prevSecond == 0:\n",
    "        secondTurtle.clearstamps()\n",
    "\n",
    "    if prevMinute == 0:\n",
    "        minuteTurtle.clearstamps()\n",
    "        \n",
    "    if prevHour == 0:\n",
    "        hourTurtle.clearstamps()\n",
    "        \n",
    "    prevSecond=currentTime.second\n",
    "    prevMinute=currentTime.minute\n",
    "    prevHour=currentTime.hour"
   ]
  },
  {
   "cell_type": "markdown",
   "metadata": {
    "collapsed": true
   },
   "source": [
    "![Image](https://c1.staticflickr.com/5/4444/26236061629_86b9901e4e_z.jpg)"
   ]
  },
  {
   "cell_type": "markdown",
   "metadata": {},
   "source": [
    "![Image](https://c1.staticflickr.com/5/4490/37958748986_7d33221cea_z.jpg)"
   ]
  },
  {
   "cell_type": "markdown",
   "metadata": {
    "collapsed": true
   },
   "source": [
    "As can be seen from the above 2 images, once a full circle or seconds turtles has been stamped, the circle is reset and a minute turtle is stamped onto its circle.\n",
    "\n",
    "Likewise it will reset the hour and minute circles as well once a full circle has been stamped"
   ]
  },
  {
   "cell_type": "code",
   "execution_count": null,
   "metadata": {
    "collapsed": true
   },
   "outputs": [],
   "source": []
  }
 ],
 "metadata": {
  "kernelspec": {
   "display_name": "Python 3",
   "language": "python",
   "name": "python3"
  },
  "language_info": {
   "codemirror_mode": {
    "name": "ipython",
    "version": 3
   },
   "file_extension": ".py",
   "mimetype": "text/x-python",
   "name": "python",
   "nbconvert_exporter": "python",
   "pygments_lexer": "ipython3",
   "version": "3.6.2"
  }
 },
 "nbformat": 4,
 "nbformat_minor": 2
}
