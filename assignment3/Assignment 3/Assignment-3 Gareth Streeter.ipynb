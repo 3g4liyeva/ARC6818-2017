{
 "cells": [
  {
   "cell_type": "code",
   "execution_count": null,
   "metadata": {},
   "outputs": [],
   "source": [
    "#For this assigment I reused the circle series drawing from the assaignement 1 and the intergrated it with a couple of time functions.\n",
    "#I used the circles to portray the hours in a day and then I used a couple of time functions to display minutes and seconds using turtles. \n",
    "#In doing this I created an interesting way to display time. \n",
    "# ![Gstreeter - Starting Point](https://github.com/mmeagher/ARC6818-2017/blob/master/assignment3/Assignment%203/images/Gstreeter%20-Starting%20Point.png 'Gstreeter - Starting Point')"
   ]
  },
  {
   "cell_type": "code",
   "execution_count": null,
   "metadata": {},
   "outputs": [],
   "source": [
    "import turtle\n",
    "from datetime import datetime\n",
    "import math\n",
    "\n",
    "\n",
    "mins = turtle.Turtle()\n",
    "secs = turtle.Turtle()\n",
    "\n",
    "mins.speed(0)\n",
    "mins.ht()\n",
    "mins.penup()\n",
    "secs.speed(0)\n",
    "secs.ht()\n",
    "secs.color('#ff0000')\n",
    "secs.penup()\n",
    "#this varible is used to create the endless loop preventing the program from closing. \n",
    "x=0\n",
    "#this list is used to provides corodinates that the minute and second turtles start from based on the hour of the day. \n",
    "position = [[200,-20],[-240,20],[-200,20],[-160,20],[-120,20],[-80,20],[-40,20],[0,20],[40,20],[80,20],[120,20],[160,20],[200,20],[-240,-20],[-200,-20],[-160,-20],[-120,-20],[-80,-20],[-40,-20],[0,-20],[40,-20],[80,-20],[120,-20],[160,-20]]\n",
    "\n",
    "mins.backward(240)\n",
    "\n",
    "#This small double loop is taken from assaignment 1 and creates the 24 circles that represent each hour of the day.\n",
    "for count2 in range(2):\n",
    "  for count in range(12):\n",
    "    mins.pendown()\n",
    "    mins.circle(20)\n",
    "    mins.penup()\n",
    "    mins.forward(40)\n",
    "  mins.penup()\n",
    "  mins.backward(480)\n",
    "  mins.right(90)\n",
    "  mins.forward(40)\n",
    "  mins.left(90)\n",
    "\n",
    "\n",
    "\n",
    "#This function draws a line from the centre of the circle to the edge every minute.\n",
    "def minute():\n",
    "    dt= datetime.now()\n",
    "    tt = dt.timetuple()\n",
    "    #this if statment clears the previous hours minute lines after time has ticked into a new hour. \n",
    "    if (tt.tm_min) == 0:\n",
    "        mins.clear()\n",
    "    #Ths selects the starting point for the turtle using tm_hour and the list 'position'.  \n",
    "    #The way it works is that it takes a specific value from 'position' based on the current hour. \n",
    "    mins.goto(position[tt.tm_hour][0],position[tt.tm_hour][1])\n",
    "    mins.setheading(90)\n",
    "    mins.pendown()\n",
    "    #The angle that the line must be drawn in is that calculated using this formular. \n",
    "    #Evertime the minute changes the angle will also change. \n",
    "    angle = (360/60)*(tt.tm_min)\n",
    "    mins.rt(angle)\n",
    "    mins.fd(20)\n",
    "    \n",
    "#This function works the same as the minute one just switching seconds in instead. \n",
    "def second():\n",
    "    dt= datetime.now()\n",
    "    tt = dt.timetuple()\n",
    "    if (tt.tm_sec) == 0:\n",
    "        secs.clear()\n",
    "    secs.goto(position[tt.tm_hour][0],position[tt.tm_hour][1])\n",
    "    secs.setheading(90)\n",
    "    secs.pendown()\n",
    "    angle = (360/60)*(tt.tm_sec)\n",
    "    secs.rt(angle)\n",
    "    secs.fd(10)\n",
    "\n",
    "#This loop exuctes the functions.\n",
    "while (x<1):\n",
    "    dt= datetime.now()\n",
    "    tt = dt.timetuple()\n",
    "    mins.penup()\n",
    "    secs.penup()\n",
    "    minute()\n",
    "    second()\n",
    "    \n",
    "    \n",
    "win=turtle.Screen(); win.exitonclick()"
   ]
  },
  {
   "cell_type": "code",
   "execution_count": null,
   "metadata": {
    "collapsed": true
   },
   "outputs": [],
   "source": [
    "# ![Gstreeter - Full](https://github.com/mmeagher/ARC6818-2017/blob/master/assignment3/Assignment%203/images/Gstreeter%20-%20Full.png 'Gstreeter - Full')\n",
    "# ![Gstreeter - Close Up](https://github.com/mmeagher/ARC6818-2017/blob/master/assignment3/Assignment%203/images/Gstreeter%20-%20Close%20Up.png 'Gstreeter - Close Up')"
   ]
  },
  {
   "cell_type": "code",
   "execution_count": null,
   "metadata": {
    "collapsed": true
   },
   "outputs": [],
   "source": []
  }
 ],
 "metadata": {
  "kernelspec": {
   "display_name": "Python 3",
   "language": "python",
   "name": "python3"
  },
  "language_info": {
   "codemirror_mode": {
    "name": "ipython",
    "version": 3
   },
   "file_extension": ".py",
   "mimetype": "text/x-python",
   "name": "python",
   "nbconvert_exporter": "python",
   "pygments_lexer": "ipython3",
   "version": "3.6.2"
  }
 },
 "nbformat": 4,
 "nbformat_minor": 2
}
