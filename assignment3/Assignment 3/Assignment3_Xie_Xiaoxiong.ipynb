{
 "cells": [
  {
   "cell_type": "code",
   "execution_count": null,
   "metadata": {
    "collapsed": true
   },
   "outputs": [],
   "source": [
    "import turtle\n",
    "import datetime"
   ]
  },
  {
   "cell_type": "code",
   "execution_count": null,
   "metadata": {
    "collapsed": true
   },
   "outputs": [],
   "source": [
    "# Part 1: Drawing the dial\n",
    "\n",
    "## This function is to prepare the turtle\n",
    "def drawCircle(r):\n",
    "    turtle.penup()\n",
    "    turtle.goto(r,0)\n",
    "    turtle.pendown()\n",
    "    turtle.circle(r)"
   ]
  },
  {
   "cell_type": "code",
   "execution_count": null,
   "metadata": {
    "collapsed": true
   },
   "outputs": [],
   "source": [
    "## This function is to create the dial with circles and numbers\n",
    "def dial(r): \n",
    "    drawCircle(r)\n",
    "    drawCircle(r + 40)\n",
    "    texter = turtle.Turtle()\n",
    "    texter.hideturtle()\n",
    "    texter.speed(0)\n",
    "    for i in range(12):\n",
    "        if 4 <= i <= 8:\n",
    "            ### Locations of these numbers need a little bit adjustment\n",
    "            texter.penup()\n",
    "            texter.forward(r)\n",
    "            texter.pendown()\n",
    "            texter.forward(10)\n",
    "            texter.penup()\n",
    "            texter.forward(15)\n",
    "            texter.pendown()        \n",
    "            texter.write(12 - i, align=\"center\", font=(\"Arial\", 10, \"normal\"))\n",
    "            texter.penup()\n",
    "            texter.goto(0, 0)\n",
    "            texter.left(30)\n",
    "        else:\n",
    "            texter.penup()\n",
    "            texter.forward(r)\n",
    "            texter.pendown()\n",
    "            texter.forward(10)\n",
    "            texter.write(12 - i, align=\"center\", font=(\"Arial\", 10, \"normal\"))\n",
    "            texter.penup()\n",
    "            texter.goto(0, 0)\n",
    "            texter.left(30)"
   ]
  },
  {
   "cell_type": "code",
   "execution_count": null,
   "metadata": {},
   "outputs": [],
   "source": [
    "# Part 2: Printing the date on the dial\n",
    "\n",
    "## Prepare the weekday\n",
    "from datetime import date\n",
    "now = date.today()\n",
    "def week(now):      \n",
    "    week = [\"Mon\", \"Tue\", \"Wed\", \"Thur\", \"Fri\", \"Sat\", \"Sun\"]  \n",
    "    return week[now.weekday()]  \n",
    "print(week(now))"
   ]
  },
  {
   "cell_type": "code",
   "execution_count": null,
   "metadata": {},
   "outputs": [],
   "source": [
    "## Prepare the date\n",
    "now.strftime(\"%d %b %Y\")\n",
    "print(now.strftime(\"%d %b %Y\"))"
   ]
  },
  {
   "cell_type": "code",
   "execution_count": null,
   "metadata": {
    "collapsed": true
   },
   "outputs": [],
   "source": [
    "# Part 3: Seting hand\n",
    "## This function is to draw and register hands\n",
    "def drawHand(name, length):\n",
    "    turtle.home()\n",
    "    turtle.begin_poly()\n",
    "    turtle.forward(length)\n",
    "    turtle.end_poly()\n",
    "    HandShape = turtle.get_poly()\n",
    "    turtle.register_shape(name, HandShape)"
   ]
  },
  {
   "cell_type": "code",
   "execution_count": null,
   "metadata": {
    "collapsed": true
   },
   "outputs": [],
   "source": [
    "## This function is to setup all three hands\n",
    "def setHands():\n",
    "    global sHand, minHand, hrHand\n",
    "    turtle.mode(\"logo\")\n",
    "    drawHand(\"sHand\", 115)\n",
    "    drawHand(\"minHand\", 100)\n",
    "    drawHand(\"hrHand\", 75)\n",
    "    sHand = turtle.Turtle()\n",
    "    sHand.shape(\"sHand\")\n",
    "    minHand = turtle.Turtle()\n",
    "    minHand.shape(\"minHand\")\n",
    "    hrHand = turtle.Turtle()\n",
    "    hrHand.shape(\"hrHand\")\n",
    "    sHand.speed(0)\n",
    "    minHand.speed(0)\n",
    "    hrHand.speed(0)\n",
    "    for hand in sHand, minHand, hrHand:  \n",
    "        hand.shapesize(1, 1, 3)  \n",
    "        hand.speed(0)  "
   ]
  },
  {
   "cell_type": "code",
   "execution_count": null,
   "metadata": {},
   "outputs": [],
   "source": [
    "turtle.tracer(False)\n",
    "setHands()\n",
    "\n",
    "## Draw the dial\n",
    "turtle.mode(\"logo\")\n",
    "turtle.hideturtle()\n",
    "turtle.speed(0)\n",
    "dial(120)\n",
    "\n",
    "## Print the date information on the clock\n",
    "from datetime import date\n",
    "now = date.today()\n",
    "dateTur = turtle.Turtle()\n",
    "dateTur.hideturtle()\n",
    "dateTur.penup()\n",
    "\n",
    "turtle.tracer(False)\n",
    "dateTur.forward(65)\n",
    "dateTur.write(week(now), align=\"center\", font=(\"Courier\", 14, \"bold\"))\n",
    "dateTur.back(130)\n",
    "dateTur.write(now.strftime(\"%d %b %Y\"), align=\"center\", font=(\"Courier\", 14, \"bold\"))\n",
    "dateTur.home()\n",
    "turtle.tracer(True)"
   ]
  },
  {
   "cell_type": "code",
   "execution_count": null,
   "metadata": {},
   "outputs": [],
   "source": [
    "## This function is to set hands to the current time\n",
    "import time, threading\n",
    "def tick():\n",
    "    from datetime import datetime\n",
    "    t = datetime.now()\n",
    "    second = t.strftime(\"%S\")\n",
    "    minute = t.strftime(\"%M\")\n",
    "    hour = t.strftime(\"%I\")\n",
    "    sHand.setheading(6 * int(second))\n",
    "    minHand.setheading(6 * int(minute))\n",
    "    hrHand.setheading(30 * int(hour))\n",
    "    threading.Timer(1, tick).start()\n",
    "\n",
    "tick()"
   ]
  },
  {
   "cell_type": "code",
   "execution_count": null,
   "metadata": {},
   "outputs": [],
   "source": [
    "![Example1](https://github.com/mmeagher/ARC6818-2017/blob/master/assignment3/Assignment%203/images/xxie1.png\"Example1\")"
   ]
  },
  {
   "cell_type": "code",
   "execution_count": null,
   "metadata": {},
   "outputs": [],
   "source": [
    "![Example2](https://github.com/mmeagher/ARC6818-2017/blob/master/assignment3/Assignment%203/images/xxie2.png\"Example2\")"
   ]
  },
  {
   "cell_type": "code",
   "execution_count": null,
   "metadata": {
    "collapsed": true
   },
   "outputs": [],
   "source": []
  }
 ],
 "metadata": {
  "kernelspec": {
   "display_name": "Python 3",
   "language": "python",
   "name": "python3"
  },
  "language_info": {
   "codemirror_mode": {
    "name": "ipython",
    "version": 3
   },
   "file_extension": ".py",
   "mimetype": "text/x-python",
   "name": "python",
   "nbconvert_exporter": "python",
   "pygments_lexer": "ipython3",
   "version": "3.6.2"
  }
 },
 "nbformat": 4,
 "nbformat_minor": 2
}
