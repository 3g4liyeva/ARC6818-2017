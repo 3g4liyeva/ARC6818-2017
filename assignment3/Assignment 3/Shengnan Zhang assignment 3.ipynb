{
 "cells": [
  {
   "cell_type": "markdown",
   "metadata": {
    "collapsed": true
   },
   "source": [
    "clock"
   ]
  },
  {
   "cell_type": "markdown",
   "metadata": {},
   "source": [
    "## in this function, I draw three circles, which mean second(red), minutes(yellow) and hour(green)."
   ]
  },
  {
   "cell_type": "markdown",
   "metadata": {},
   "source": [
    "![shengnanzhang](https://raw.githubusercontent.com/mmeagher/ARC6818-2017/master/assignment3/Assignment%203/images/shengnanzhang.png \"shengnanzhang\")"
   ]
  },
  {
   "cell_type": "code",
   "execution_count": 34,
   "metadata": {
    "collapsed": true
   },
   "outputs": [],
   "source": [
    "import turtle\n",
    "import datetime\n",
    "import threading\n",
    "from time import sleep"
   ]
  },
  {
   "cell_type": "code",
   "execution_count": 35,
   "metadata": {
    "collapsed": true
   },
   "outputs": [],
   "source": [
    "## draw a circle \n",
    "t=turtle.Pen()\n",
    "t.shape( 'turtle' )\n",
    "t.color('red')\n",
    "t.stamp()\n",
    "move=30\n",
    "for i in range (12) :\n",
    "    t.penup()\n",
    "    t.goto(0,0)\n",
    "    t.forward(50)\n",
    "    t.forward(25)\n",
    "    t.penup()\n",
    "    t.forward(15)\n",
    "    t.stamp()\n",
    "    t.home()\n",
    "    t.speed(100)\n",
    "    t.right(move)\n",
    "    move=move+30"
   ]
  },
  {
   "cell_type": "code",
   "execution_count": 36,
   "metadata": {
    "collapsed": true
   },
   "outputs": [],
   "source": [
    "m=turtle.Pen()\n",
    "m.shape( 'turtle' )\n",
    "m.color('yellow')\n",
    "m.stamp()\n",
    "move=30\n",
    "for i in range (12) :\n",
    "    m.penup() \n",
    "    m.goto(-200,0)\n",
    "    m.forward(50)\n",
    "    m.forward(25)\n",
    "    m.penup()\n",
    "    m.forward(15)\n",
    "    m.stamp()\n",
    "    m.home()\n",
    "    m.speed(100)\n",
    "    m.right(move)\n",
    "    move=move+30"
   ]
  },
  {
   "cell_type": "code",
   "execution_count": 37,
   "metadata": {
    "collapsed": true
   },
   "outputs": [],
   "source": [
    "h=turtle.Pen()\n",
    "h.shape( 'turtle' )\n",
    "h.color('green')\n",
    "h.stamp()\n",
    "move=30\n",
    "for i in range (12) :\n",
    "    h.penup()\n",
    "    h.goto(-400,0)\n",
    "    h.forward(50)\n",
    "    h.forward(25)\n",
    "    h.penup()\n",
    "    h.forward(15)\n",
    "    h.stamp()\n",
    "    h.home()\n",
    "    h.speed(100)\n",
    "    h.right(move)\n",
    "    move=move+30"
   ]
  },
  {
   "cell_type": "code",
   "execution_count": 38,
   "metadata": {
    "collapsed": true
   },
   "outputs": [],
   "source": [
    "# create the turtles for displaying the time\n",
    "secondTurtle = turtle.Turtle()\n",
    "minuteTurtle = turtle.Turtle()\n",
    "hourTurtle = turtle.Turtle()"
   ]
  },
  {
   "cell_type": "code",
   "execution_count": 39,
   "metadata": {
    "collapsed": true
   },
   "outputs": [],
   "source": [
    "# get the current time\n",
    "currentTime=datetime.datetime.now().time()"
   ]
  },
  {
   "cell_type": "code",
   "execution_count": 40,
   "metadata": {
    "collapsed": true
   },
   "outputs": [],
   "source": [
    "# raise pens for all turtles\n",
    "secondTurtle.penup()\n",
    "minuteTurtle.penup()\n",
    "hourTurtle.penup()"
   ]
  },
  {
   "cell_type": "code",
   "execution_count": 41,
   "metadata": {
    "collapsed": true
   },
   "outputs": [],
   "source": [
    "# move the turtles to different locations on the screen\n",
    "secondTurtle.goto(0,0)\n",
    "minuteTurtle.goto(-200,0)\n",
    "hourTurtle.goto(-400,0)"
   ]
  },
  {
   "cell_type": "code",
   "execution_count": 42,
   "metadata": {
    "collapsed": true
   },
   "outputs": [],
   "source": [
    "# set the size of all turtles\n",
    "secondTurtle.shapesize(2,2,2) \n",
    "minuteTurtle.shapesize(4,4,4) \n",
    "hourTurtle.shapesize(7,7,7)"
   ]
  },
  {
   "cell_type": "code",
   "execution_count": null,
   "metadata": {
    "collapsed": true
   },
   "outputs": [],
   "source": [
    "# set orientation for all turtles\n",
    "secondTurtle.setheading(90)\n",
    "minuteTurtle.setheading(90)\n",
    "hourTurtle.setheading(90)"
   ]
  },
  {
   "cell_type": "code",
   "execution_count": null,
   "metadata": {
    "collapsed": true
   },
   "outputs": [],
   "source": [
    "# set the orientation of each turtle according to the current time\n",
    "secondTurtle.rt((currentTime.second*6)-(90-secondTurtle.heading()))\n",
    "minuteTurtle.rt((currentTime.minute*6)-(90-minuteTurtle.heading()))\n",
    "hourTurtle.rt((currentTime.hour*30)-(90-hourTurtle.heading()))\n",
    "\n",
    "prevSecond=currentTime.second\n",
    "prevMinute=currentTime.minute\n",
    "prevHour=currentTime.hour\n",
    "\n",
    "for i in range(0,60):\n",
    "    currentTime=datetime.datetime.now().time()\n",
    "    currentSecond=currentTime.second\n",
    "    currentMinute=currentTime.minute\n",
    "    currentHour=currentTime.hour\n",
    "\n",
    "    if (currentSecond != prevSecond):\n",
    "        secondTurtle.rt((currentTime.second*6)-(90-secondTurtle.heading()))\n",
    "\n",
    "    if (currentMinute != prevMinute):\n",
    "        minuteTurtle.rt((currentTime.minute*6)-(90-minuteTurtle.heading()))\n",
    "\n",
    "    if (currentHour != prevHour):\n",
    "        hourTurtle.rt((currentTime.hour*30)-(90-hourTurtle.heading()))\n",
    "        \n",
    "\n",
    "    prevSecond=currentTime.second\n",
    "    prevMinute=currentTime.minute\n",
    "    prevHour=currentTime.hour\n",
    "    sleep(1)\n",
    "\n",
    "\n",
    "\n",
    "# add this line to prevent the window from closing when the programme finishes executing\n",
    "win=turtle.Screen(); win.exitonclick()"
   ]
  }
 ],
 "metadata": {
  "kernelspec": {
   "display_name": "Python 3",
   "language": "python",
   "name": "python3"
  },
  "language_info": {
   "codemirror_mode": {
    "name": "ipython",
    "version": 3
   },
   "file_extension": ".py",
   "mimetype": "text/x-python",
   "name": "python",
   "nbconvert_exporter": "python",
   "pygments_lexer": "ipython3",
   "version": "3.6.2"
  }
 },
 "nbformat": 4,
 "nbformat_minor": 2
}
