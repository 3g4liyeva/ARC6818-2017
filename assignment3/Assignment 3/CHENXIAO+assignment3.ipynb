{
 "cells": [
  {
   "cell_type": "code",
   "execution_count": 1,
   "metadata": {
    "collapsed": true
   },
   "outputs": [],
   "source": [
    "import turtle\n",
    "import random\n",
    "import time\n"
   ]
  },
  {
   "cell_type": "code",
   "execution_count": 2,
   "metadata": {},
   "outputs": [],
   "source": [
    "def tree(length):   #drew a tree\n",
    "    \n",
    "    t=turtle.Turtle()\n",
    "   \n",
    "    if length > 1:\n",
    "        turtle.fd(length)\n",
    "        turtle.right(20)\n",
    "        tree(length-3)\n",
    "        turtle.left(40)\n",
    "        tree(length-3)\n",
    "        turtle.right(20)\n",
    "        turtle.backward(length)\n",
    "        \n",
    "def snowman(turtle):  #drew a snowman\n",
    "    turtle.circle(50)\n",
    "    turtle.right(180)\n",
    "    turtle.circle(80)\n",
    "    turtle.right(90)\n",
    "    turtle.penup()\n",
    "    turtle.forward(100)\n",
    "    turtle.pendown()\n",
    "    turtle.right(90)\n",
    "    turtle.forward(50)\n",
    "    turtle.left(90)\n",
    "    turtle.forward(10)\n",
    "    turtle.left(90)\n",
    "    turtle.forward(10)\n",
    "    turtle.right(90)\n",
    "    turtle.forward(50)\n",
    "    turtle.left(90)\n",
    "    turtle.forward(80)\n",
    "    turtle.left(90)\n",
    "    turtle.forward(50)\n",
    "    turtle.right(90)\n",
    "    turtle.forward(10)\n",
    "    turtle.left(90)\n",
    "    turtle.forward(10)\n",
    "    turtle.left(90)\n",
    "    turtle.forward(50)\n",
    "    turtle.penup()\n",
    "    turtle.right(90)\n",
    "    turtle.forward(40)\n",
    "    turtle.right(90)\n",
    "    turtle.forward(20)\n",
    "    turtle.pendown()\n",
    "    turtle.circle(3)\n",
    "    turtle.penup()\n",
    "    turtle.right(180)\n",
    "    turtle.forward(40)\n",
    "    turtle.pendown()\n",
    "    turtle.right(180)\n",
    "    turtle.circle(3)\n",
    "    turtle.penup()\n",
    "    turtle.left(90)\n",
    "    turtle.forward(100)\n",
    "    turtle.left(90)\n",
    "    turtle.forward(30)\n",
    "    turtle.left(20)\n",
    "    turtle.pendown()\n",
    "    turtle.forward(80)\n",
    "    turtle.left(15)\n",
    "    turtle.forward(10)\n",
    "    turtle.penup()\n",
    "    turtle.backward(10)\n",
    "    turtle.right(15)\n",
    "    turtle.backward(80)\n",
    "    turtle.right(20)\n",
    "    turtle.backward(80)\n",
    "    turtle.pendown()\n",
    "    turtle.right(180)\n",
    "    turtle.right(15)\n",
    "    turtle.forward(80)\n",
    "    turtle.right(15)\n",
    "    turtle.forward(10)\n",
    "        \n",
    "        \n",
    "def TurtlePosition():  #set random position\n",
    "        turtle.penup()\n",
    "        turtle.setposition(random.randrange(-250,250),random.randrange(-250,250))\n",
    "        turtle.pendown()\n",
    "     \n",
    "\n",
    "    \n",
    "colors=['#33cc00','#cc9933','#993300','#666600']\n",
    "\n",
    "def tree11(): #drew a tree with random color in random position and sleep 5 seconds\n",
    "    turtle.color(random.choice(colors))\n",
    "    TurtlePosition()\n",
    "    turtle.left(90)\n",
    "    tree(18)\n",
    "    turtle.rt(90)\n",
    "    time.sleep(5)\n",
    "    \n",
    "\n",
    "for i in range(12): #drew 12 trees which means 12 monthes a year\n",
    "    tree11()\n",
    "\n",
    "turtle.penup()\n",
    "turtle.goto(0,0)\n",
    "turtle.pendown()  #go back to the centre\n",
    "turtle.color('#000000')\n",
    "turtle.write('winter is coming',align=\"center\",font=('Arial',27,'normal')) #write words\n",
    "time.sleep(10) #sleep 10 seconds\n",
    "snowman(turtle) #drew a snowman in winter!\n",
    "    \n",
    "\n",
    "    "
   ]
  },
  {
   "cell_type": "markdown",
   "metadata": {},
   "source": [
    "![image](https://github.com/mmeagher/ARC6818-2017/blob/master/assignment3/Assignment%203/images/3.1.png?raw=true)\n"
   ]
  },
  {
   "cell_type": "markdown",
   "metadata": {},
   "source": [
    "![image](https://github.com/mmeagher/ARC6818-2017/blob/master/assignment3/Assignment%203/images/3.3.png?raw=true)"
   ]
  },
  {
   "cell_type": "markdown",
   "metadata": {},
   "source": [
    "![image](https://github.com/mmeagher/ARC6818-2017/blob/master/assignment3/Assignment%203/images/3.4.png?raw=true)"
   ]
  },
  {
   "cell_type": "markdown",
   "metadata": {},
   "source": [
    "![image](https://github.com/mmeagher/ARC6818-2017/blob/master/assignment3/Assignment%203/images/3.5.png?raw=true)"
   ]
  },
  {
   "cell_type": "code",
   "execution_count": null,
   "metadata": {
    "collapsed": true
   },
   "outputs": [],
   "source": []
  }
 ],
 "metadata": {
  "kernelspec": {
   "display_name": "Python 3",
   "language": "python",
   "name": "python3"
  },
  "language_info": {
   "codemirror_mode": {
    "name": "ipython",
    "version": 3
   },
   "file_extension": ".py",
   "mimetype": "text/x-python",
   "name": "python",
   "nbconvert_exporter": "python",
   "pygments_lexer": "ipython3",
   "version": "3.6.2"
  }
 },
 "nbformat": 4,
 "nbformat_minor": 2
}
