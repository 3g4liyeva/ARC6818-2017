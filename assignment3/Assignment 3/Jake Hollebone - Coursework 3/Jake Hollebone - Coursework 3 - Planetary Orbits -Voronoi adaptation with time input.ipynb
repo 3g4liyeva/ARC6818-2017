{
 "cells": [
  {
   "cell_type": "markdown",
   "metadata": {},
   "source": [
    "**_Coursework 3 - Planetary Orbits with time input and adaptation of Voronoi script from coursework 2_**"
   ]
  },
  {
   "cell_type": "markdown",
   "metadata": {},
   "source": [
    "*This coursework example I aimed to reuse one of the previous scripts in which I had developed which was the attempt of the Voronoi pattern. The aim of which was to randomly scatter points within a specified boundary and then arrange the points so that they were positioned around their nearest node/point. For this weeks coursework I chose to build from this code and implement time as an input for the problem. The way in which I did this can be seen below, but in summary I called upon the current time feature within python to gain live data of the time and then use this as three different inputs within my code, as hours, minutes and seconds. The way that these inputs were then used was to give three different turtles/groups of points a different set of movements relative to whether they were assigend to be an hour, minute or second marker. The graphic/animation that this code gives can be shown below, however on first glace it can be seen that the animation gives an almost planetary orbit visual (which served as the focus when creating this amended code), with three different clusters being arranged around a central point/node and then moving in a radial movement in relation to the time input much like an orbit time for a planet. *"
   ]
  },
  {
   "cell_type": "markdown",
   "metadata": {},
   "source": [
    "# ![Distribution of points/orbit patterns](https://github.com/mmeagher/ARC6818-2017/blob/master/assignment3/Assignment%203/Jake%20Hollebone%20-%20Coursework%203/CW3IM1.png?raw=true 'Distribution of points/orbit patterns')"
   ]
  },
  {
   "cell_type": "markdown",
   "metadata": {},
   "source": [
    "# ![Scattering of points/orbit patterns](https://github.com/mmeagher/ARC6818-2017/blob/master/assignment3/Assignment%203/Jake%20Hollebone%20-%20Coursework%203/CW3IM2.png?raw=true 'Scattering of points/orbit patterns')"
   ]
  },
  {
   "cell_type": "markdown",
   "metadata": {},
   "source": [
    "# ![Movement of points/orbit patterns](https://github.com/mmeagher/ARC6818-2017/blob/master/assignment3/Assignment%203/Jake%20Hollebone%20-%20Coursework%203/CW3IM3.png?raw=true 'Movement of points/orbit patterns')"
   ]
  },
  {
   "cell_type": "markdown",
   "metadata": {},
   "source": [
    "# ![Display of time using points/orbit patterns](https://github.com/mmeagher/ARC6818-2017/blob/master/assignment3/Assignment%203/Jake%20Hollebone%20-%20Coursework%203/CW3IM4.png?raw=true 'Display of time using points/orbit patterns')"
   ]
  },
  {
   "cell_type": "markdown",
   "metadata": {},
   "source": [
    "# ![Movement/Updating of minutes using points/orbit patterns](https://github.com/mmeagher/ARC6818-2017/blob/master/assignment3/Assignment%203/Jake%20Hollebone%20-%20Coursework%203/CW3IM5.png?raw=true 'Movement/Updating of minutes using points/orbit patterns')"
   ]
  },
  {
   "cell_type": "markdown",
   "metadata": {},
   "source": [
    "# ![Movement/Updating of minutes using points/orbit patterns](https://github.com/mmeagher/ARC6818-2017/blob/master/assignment3/Assignment%203/Jake%20Hollebone%20-%20Coursework%203/CW3IM6.png?raw=true 'Movement/Updating of minutes using points/orbit patterns')"
   ]
  },
  {
   "cell_type": "markdown",
   "metadata": {},
   "source": [
    "*As shown in the images above, the script constructs three distinct radial patterns based off central points/nodes which act as markers for hours, days and seconds. Then as the script I created within coursework 2 shows the 3 different coloured points are then randomly placed onto the screen. Then these points are each assigned a movement in relation to the input of time, with black points being centred around the current hour, blue around the current minute and then red around the current seconds, then these then move/update as time continues. However there is a slight issue within the code, where as the minute points update it then causes a pause of around 1 second for the updating of the seconds points, I have tried several iterations to correct this point but have been unsucsessful. However even with this slight issue the graphics accurately show the movement of the points in relation to time (hours, minutes and seconds). The reason I decided to created this graphic was to recreate the movement/orbit of planets reative to eachother all of which have different orbit times/periods; being that of a minute (red planet), an hour (blue planet) and 12 hours (black planet); with potential to add additional orbits with the time input of days, months and years, however this was not simulated within this example as it would have to be run for a long time to give the desired animation.*"
   ]
  },
  {
   "cell_type": "markdown",
   "metadata": {},
   "source": [
    "**Script for Planetary Orbits - using adaptation of coursework 2 Voronoi example** "
   ]
  },
  {
   "cell_type": "code",
   "execution_count": 1,
   "metadata": {
    "collapsed": true
   },
   "outputs": [],
   "source": [
    "import turtle"
   ]
  },
  {
   "cell_type": "code",
   "execution_count": 2,
   "metadata": {
    "collapsed": true
   },
   "outputs": [],
   "source": [
    "import random"
   ]
  },
  {
   "cell_type": "code",
   "execution_count": 3,
   "metadata": {
    "collapsed": true
   },
   "outputs": [],
   "source": [
    "import datetime"
   ]
  },
  {
   "cell_type": "code",
   "execution_count": 4,
   "metadata": {
    "collapsed": true
   },
   "outputs": [],
   "source": [
    "from time import sleep "
   ]
  },
  {
   "cell_type": "code",
   "execution_count": 5,
   "metadata": {
    "collapsed": true
   },
   "outputs": [],
   "source": [
    "turtle.screensize(700,700)"
   ]
  },
  {
   "cell_type": "code",
   "execution_count": 6,
   "metadata": {},
   "outputs": [],
   "source": [
    "# Creates a radial pattern which eminates the points within a clock face (Nodes for hour) \n",
    "\n",
    "numhours = 12\n",
    "\n",
    "a=0\n",
    "\n",
    "for i in range (numhours):\n",
    "        turtle.setheading(0)\n",
    "        turtle.shape('circle')\n",
    "        turtle.shapesize(0.6)\n",
    "        turtle.speed('fastest')\n",
    "        a=a+1\n",
    "        turtle.pu()\n",
    "        turtle.setheading(-30*i + 90)\n",
    "        turtle.fd(360)\n",
    "        turtle.stamp()\n",
    "        \n",
    "        if a==12:\n",
    "            a=0\n",
    "        turtle.home()"
   ]
  },
  {
   "cell_type": "code",
   "execution_count": 7,
   "metadata": {},
   "outputs": [],
   "source": [
    "# Creates a radial pattern which eminates the points within a clock face (Nodes for mins) \n",
    "\n",
    "numhours = 60\n",
    "\n",
    "a=0\n",
    "\n",
    "for i in range (numhours):\n",
    "        turtle.setheading(0)\n",
    "        turtle.shape('circle')\n",
    "        turtle.shapesize(0.3)\n",
    "        turtle.color('blue')\n",
    "        turtle.speed('fastest')\n",
    "        a=a+1\n",
    "        turtle.pu()\n",
    "        turtle.setheading(-6*i + 90)\n",
    "        turtle.fd(240)\n",
    "        turtle.stamp()\n",
    "        \n",
    "        if a==12:\n",
    "            a=0\n",
    "        turtle.home()"
   ]
  },
  {
   "cell_type": "code",
   "execution_count": 8,
   "metadata": {
    "collapsed": true
   },
   "outputs": [],
   "source": [
    "# Creates a radial pattern which eminates the points within a clock face (Nodes for secs) \n",
    "\n",
    "numhours = 60\n",
    "\n",
    "a=0\n",
    "\n",
    "for i in range (numhours):\n",
    "        turtle.setheading(0)\n",
    "        turtle.shape('circle')\n",
    "        turtle.shapesize(0.1)\n",
    "        turtle.color('red')\n",
    "        turtle.speed('fastest')\n",
    "        a=a+1\n",
    "        turtle.pu()\n",
    "        turtle.setheading(-6*i + 90)\n",
    "        turtle.fd(120)\n",
    "        turtle.stamp()\n",
    "        \n",
    "        if a==12:\n",
    "            a=0\n",
    "        turtle.home()"
   ]
  },
  {
   "cell_type": "code",
   "execution_count": 9,
   "metadata": {},
   "outputs": [],
   "source": [
    "# Imports turtles in a random way (For use as Hour indicator)\n",
    "\n",
    "hourturtles = 36\n",
    "\n",
    "turtles1 = []\n",
    "\n",
    "for i in range (hourturtles):\n",
    "    turtles1.append(turtle.Turtle())\n",
    "    \n",
    "def setposition1(): # Randomly assigns a position to the dots within a set range (-300,300)\n",
    "    for turtle in turtles1:\n",
    "        turtle.speed('fastest')\n",
    "        turtle.shape('classic')\n",
    "        turtle.shapesize(1)\n",
    "        turtle.color('black')\n",
    "        turtle.pu()\n",
    "        turtle.setpos(random.randrange(-300,300),random.randrange(-300,300))\n",
    "    \n",
    "setposition1()"
   ]
  },
  {
   "cell_type": "code",
   "execution_count": 10,
   "metadata": {
    "collapsed": true
   },
   "outputs": [],
   "source": [
    "# Imports turtles in a random way (For use as Minute indicator)\n",
    "\n",
    "minturtles = 16\n",
    "\n",
    "turtles2 = []\n",
    "\n",
    "for i in range (minturtles):\n",
    "    turtles2.append(turtle.Turtle())\n",
    "    \n",
    "def setposition2(): # Randomly assigns a position to the dots within a set range (-300,300)\n",
    "    for turtle in turtles2:\n",
    "        turtle.speed('fastest')\n",
    "        turtle.shape('classic')\n",
    "        turtle.shapesize(0.7)\n",
    "        turtle.color('blue')\n",
    "        turtle.pu()\n",
    "        turtle.setpos(random.randrange(-300,300),random.randrange(-300,300))\n",
    "    \n",
    "setposition2()"
   ]
  },
  {
   "cell_type": "code",
   "execution_count": 11,
   "metadata": {
    "collapsed": true
   },
   "outputs": [],
   "source": [
    "# Imports turtles in a random way (For use as second indicator) \n",
    "\n",
    "secturtles = 6\n",
    "\n",
    "turtles3 = []\n",
    "\n",
    "for i in range (secturtles):\n",
    "    turtles3.append(turtle.Turtle())\n",
    "    \n",
    "def setposition3(): # Randomly assigns a position to the dots within a set range (-300,300)\n",
    "    for turtle in turtles3:\n",
    "        turtle.speed('fastest')\n",
    "        turtle.shape('classic')\n",
    "        turtle.shapesize(0.5)\n",
    "        turtle.color('red')\n",
    "        turtle.pu()\n",
    "        turtle.setpos(random.randrange(-300,300),random.randrange(-300,300))\n",
    "    \n",
    "setposition3()"
   ]
  },
  {
   "cell_type": "code",
   "execution_count": 12,
   "metadata": {
    "collapsed": true
   },
   "outputs": [],
   "source": [
    "# Obtains the current time \n",
    "\n",
    "currenttime=datetime.datetime.now().time()"
   ]
  },
  {
   "cell_type": "code",
   "execution_count": 13,
   "metadata": {},
   "outputs": [],
   "source": [
    "# Moves hour turtles in a radial pattern around a central node/point to display the current hour \n",
    "\n",
    "for turtle in turtles1:\n",
    "    turtle.speed('fastest')\n",
    "    turtle.goto(0,0)\n",
    "    currenttime=datetime.datetime.now().time()\n",
    "    turtle.rt((currenttime.hour*30)-(90-turtle.heading()))\n",
    "    radius = 18\n",
    "    turtle.fd(360)\n",
    "    turtle.setheading(random.randrange(360))\n",
    "    turtle.fd(radius)"
   ]
  },
  {
   "cell_type": "code",
   "execution_count": 14,
   "metadata": {},
   "outputs": [],
   "source": [
    "# Moves minute turtles in a radial pattern around a central node/point to display the current minute \n",
    "\n",
    "for turtle in turtles2:\n",
    "    turtle.speed('fastest')\n",
    "    turtle.goto(0,0)\n",
    "    turtle.rt((currenttime.minute*6)-(90-turtle.heading()))\n",
    "    radius = 12\n",
    "    turtle.fd(240)\n",
    "    turtle.setheading(random.randrange(360))\n",
    "    turtle.fd(radius)"
   ]
  },
  {
   "cell_type": "code",
   "execution_count": 15,
   "metadata": {},
   "outputs": [],
   "source": [
    "# Moves second turtles in a radial pattern around a central node/point to display the current second \n",
    "\n",
    "for turtle in turtles3:\n",
    "    turtle.speed('fastest')\n",
    "    turtle.goto(0,0)\n",
    "    turtle.rt((currenttime.second*6)-(90-turtle.heading()))\n",
    "    radius = 6\n",
    "    turtle.fd(120)\n",
    "    turtle.setheading(random.randrange(360))\n",
    "    turtle.fd(radius)\n",
    "       "
   ]
  },
  {
   "cell_type": "code",
   "execution_count": 16,
   "metadata": {},
   "outputs": [
    {
     "ename": "TclError",
     "evalue": "invalid command name \".!canvas\"",
     "output_type": "error",
     "traceback": [
      "\u001b[0;31m---------------------------------------------------------------------------\u001b[0m",
      "\u001b[0;31mTclError\u001b[0m                                  Traceback (most recent call last)",
      "\u001b[0;32m<ipython-input-16-4a056c09895d>\u001b[0m in \u001b[0;36m<module>\u001b[0;34m()\u001b[0m\n\u001b[1;32m     19\u001b[0m             \u001b[0mturtle\u001b[0m\u001b[0;34m.\u001b[0m\u001b[0mspeed\u001b[0m\u001b[0;34m(\u001b[0m\u001b[0;34m'fastest'\u001b[0m\u001b[0;34m)\u001b[0m\u001b[0;34m\u001b[0m\u001b[0m\n\u001b[1;32m     20\u001b[0m             \u001b[0mturtle\u001b[0m\u001b[0;34m.\u001b[0m\u001b[0mshape\u001b[0m\u001b[0;34m(\u001b[0m\u001b[0;34m'classic'\u001b[0m\u001b[0;34m)\u001b[0m\u001b[0;34m\u001b[0m\u001b[0m\n\u001b[0;32m---> 21\u001b[0;31m             \u001b[0mturtle\u001b[0m\u001b[0;34m.\u001b[0m\u001b[0mgoto\u001b[0m\u001b[0;34m(\u001b[0m\u001b[0;36m0\u001b[0m\u001b[0;34m,\u001b[0m\u001b[0;36m0\u001b[0m\u001b[0;34m)\u001b[0m\u001b[0;34m\u001b[0m\u001b[0m\n\u001b[0m\u001b[1;32m     22\u001b[0m             \u001b[0mturtle\u001b[0m\u001b[0;34m.\u001b[0m\u001b[0mrt\u001b[0m\u001b[0;34m(\u001b[0m\u001b[0;34m(\u001b[0m\u001b[0mcurrenttime\u001b[0m\u001b[0;34m.\u001b[0m\u001b[0msecond\u001b[0m\u001b[0;34m*\u001b[0m\u001b[0;36m6\u001b[0m\u001b[0;34m)\u001b[0m\u001b[0;34m-\u001b[0m\u001b[0;34m(\u001b[0m\u001b[0;36m90\u001b[0m\u001b[0;34m-\u001b[0m\u001b[0mturtle\u001b[0m\u001b[0;34m.\u001b[0m\u001b[0mheading\u001b[0m\u001b[0;34m(\u001b[0m\u001b[0;34m)\u001b[0m\u001b[0;34m)\u001b[0m\u001b[0;34m)\u001b[0m\u001b[0;34m\u001b[0m\u001b[0m\n\u001b[1;32m     23\u001b[0m             \u001b[0mradius\u001b[0m \u001b[0;34m=\u001b[0m \u001b[0;36m6\u001b[0m\u001b[0;34m\u001b[0m\u001b[0m\n",
      "\u001b[0;32m~/anaconda3/lib/python3.6/turtle.py\u001b[0m in \u001b[0;36mgoto\u001b[0;34m(self, x, y)\u001b[0m\n\u001b[1;32m   1774\u001b[0m             \u001b[0mself\u001b[0m\u001b[0;34m.\u001b[0m\u001b[0m_goto\u001b[0m\u001b[0;34m(\u001b[0m\u001b[0mVec2D\u001b[0m\u001b[0;34m(\u001b[0m\u001b[0;34m*\u001b[0m\u001b[0mx\u001b[0m\u001b[0;34m)\u001b[0m\u001b[0;34m)\u001b[0m\u001b[0;34m\u001b[0m\u001b[0m\n\u001b[1;32m   1775\u001b[0m         \u001b[0;32melse\u001b[0m\u001b[0;34m:\u001b[0m\u001b[0;34m\u001b[0m\u001b[0m\n\u001b[0;32m-> 1776\u001b[0;31m             \u001b[0mself\u001b[0m\u001b[0;34m.\u001b[0m\u001b[0m_goto\u001b[0m\u001b[0;34m(\u001b[0m\u001b[0mVec2D\u001b[0m\u001b[0;34m(\u001b[0m\u001b[0mx\u001b[0m\u001b[0;34m,\u001b[0m \u001b[0my\u001b[0m\u001b[0;34m)\u001b[0m\u001b[0;34m)\u001b[0m\u001b[0;34m\u001b[0m\u001b[0m\n\u001b[0m\u001b[1;32m   1777\u001b[0m \u001b[0;34m\u001b[0m\u001b[0m\n\u001b[1;32m   1778\u001b[0m     \u001b[0;32mdef\u001b[0m \u001b[0mhome\u001b[0m\u001b[0;34m(\u001b[0m\u001b[0mself\u001b[0m\u001b[0;34m)\u001b[0m\u001b[0;34m:\u001b[0m\u001b[0;34m\u001b[0m\u001b[0m\n",
      "\u001b[0;32m~/anaconda3/lib/python3.6/turtle.py\u001b[0m in \u001b[0;36m_goto\u001b[0;34m(self, end)\u001b[0m\n\u001b[1;32m   3156\u001b[0m                       (self.currentLineItem,\n\u001b[1;32m   3157\u001b[0m                       \u001b[0mself\u001b[0m\u001b[0;34m.\u001b[0m\u001b[0mcurrentLine\u001b[0m\u001b[0;34m[\u001b[0m\u001b[0;34m:\u001b[0m\u001b[0;34m]\u001b[0m\u001b[0;34m,\u001b[0m\u001b[0;34m\u001b[0m\u001b[0m\n\u001b[0;32m-> 3158\u001b[0;31m                       \u001b[0mscreen\u001b[0m\u001b[0;34m.\u001b[0m\u001b[0m_pointlist\u001b[0m\u001b[0;34m(\u001b[0m\u001b[0mself\u001b[0m\u001b[0;34m.\u001b[0m\u001b[0mcurrentLineItem\u001b[0m\u001b[0;34m)\u001b[0m\u001b[0;34m,\u001b[0m\u001b[0;34m\u001b[0m\u001b[0m\n\u001b[0m\u001b[1;32m   3159\u001b[0m                       self.items[:])\n\u001b[1;32m   3160\u001b[0m                       )\n",
      "\u001b[0;32m~/anaconda3/lib/python3.6/turtle.py\u001b[0m in \u001b[0;36m_pointlist\u001b[0;34m(self, item)\u001b[0m\n\u001b[1;32m    753\u001b[0m         (9.9999999999999982, 0.0)]\n\u001b[1;32m    754\u001b[0m         >>> \"\"\"\n\u001b[0;32m--> 755\u001b[0;31m         \u001b[0mcl\u001b[0m \u001b[0;34m=\u001b[0m \u001b[0mself\u001b[0m\u001b[0;34m.\u001b[0m\u001b[0mcv\u001b[0m\u001b[0;34m.\u001b[0m\u001b[0mcoords\u001b[0m\u001b[0;34m(\u001b[0m\u001b[0mitem\u001b[0m\u001b[0;34m)\u001b[0m\u001b[0;34m\u001b[0m\u001b[0m\n\u001b[0m\u001b[1;32m    756\u001b[0m         \u001b[0mpl\u001b[0m \u001b[0;34m=\u001b[0m \u001b[0;34m[\u001b[0m\u001b[0;34m(\u001b[0m\u001b[0mcl\u001b[0m\u001b[0;34m[\u001b[0m\u001b[0mi\u001b[0m\u001b[0;34m]\u001b[0m\u001b[0;34m,\u001b[0m \u001b[0;34m-\u001b[0m\u001b[0mcl\u001b[0m\u001b[0;34m[\u001b[0m\u001b[0mi\u001b[0m\u001b[0;34m+\u001b[0m\u001b[0;36m1\u001b[0m\u001b[0;34m]\u001b[0m\u001b[0;34m)\u001b[0m \u001b[0;32mfor\u001b[0m \u001b[0mi\u001b[0m \u001b[0;32min\u001b[0m \u001b[0mrange\u001b[0m\u001b[0;34m(\u001b[0m\u001b[0;36m0\u001b[0m\u001b[0;34m,\u001b[0m \u001b[0mlen\u001b[0m\u001b[0;34m(\u001b[0m\u001b[0mcl\u001b[0m\u001b[0;34m)\u001b[0m\u001b[0;34m,\u001b[0m \u001b[0;36m2\u001b[0m\u001b[0;34m)\u001b[0m\u001b[0;34m]\u001b[0m\u001b[0;34m\u001b[0m\u001b[0m\n\u001b[1;32m    757\u001b[0m         \u001b[0;32mreturn\u001b[0m  \u001b[0mpl\u001b[0m\u001b[0;34m\u001b[0m\u001b[0m\n",
      "\u001b[0;32m<string>\u001b[0m in \u001b[0;36mcoords\u001b[0;34m(self, *args, **kw)\u001b[0m\n",
      "\u001b[0;32m~/anaconda3/lib/python3.6/tkinter/__init__.py\u001b[0m in \u001b[0;36mcoords\u001b[0;34m(self, *args)\u001b[0m\n\u001b[1;32m   2461\u001b[0m         return [self.tk.getdouble(x) for x in\n\u001b[1;32m   2462\u001b[0m                            self.tk.splitlist(\n\u001b[0;32m-> 2463\u001b[0;31m                    self.tk.call((self._w, 'coords') + args))]\n\u001b[0m\u001b[1;32m   2464\u001b[0m     \u001b[0;32mdef\u001b[0m \u001b[0m_create\u001b[0m\u001b[0;34m(\u001b[0m\u001b[0mself\u001b[0m\u001b[0;34m,\u001b[0m \u001b[0mitemType\u001b[0m\u001b[0;34m,\u001b[0m \u001b[0margs\u001b[0m\u001b[0;34m,\u001b[0m \u001b[0mkw\u001b[0m\u001b[0;34m)\u001b[0m\u001b[0;34m:\u001b[0m \u001b[0;31m# Args: (val, val, ..., cnf={})\u001b[0m\u001b[0;34m\u001b[0m\u001b[0m\n\u001b[1;32m   2465\u001b[0m         \u001b[0;34m\"\"\"Internal function.\"\"\"\u001b[0m\u001b[0;34m\u001b[0m\u001b[0m\n",
      "\u001b[0;31mTclError\u001b[0m: invalid command name \".!canvas\""
     ]
    }
   ],
   "source": [
    "# Creates the movement of the hour, minute and second turtles so that they move and update accoarding to the time input \n",
    "\n",
    "prevsec=currenttime.second\n",
    "prevmin=currenttime.minute\n",
    "prevhour=currenttime.hour\n",
    "\n",
    "# This loop gives the movement of the 3 different time clusters/points and checks their position in relation to time \n",
    "# and then moves them accordingly giving a clock like function with an orbitary graphic/animation  \n",
    "\n",
    "while True: \n",
    "    \n",
    "    currenttime=datetime.datetime.now().time()\n",
    "    currentsec=currenttime.second\n",
    "    currentmin=currenttime.minute\n",
    "    currenthour=currenttime.hour\n",
    "\n",
    "    if (currentsec != prevsec):\n",
    "        for turtle in turtles3:\n",
    "            turtle.speed('fastest')\n",
    "            turtle.shape('classic')\n",
    "            turtle.goto(0,0)\n",
    "            turtle.rt((currenttime.second*6)-(90-turtle.heading()))\n",
    "            radius = 6\n",
    "            turtle.fd(120)\n",
    "            turtle.setheading(random.randrange(360))\n",
    "            turtle.fd(radius)\n",
    "            \n",
    "\n",
    "    if (currentmin != prevmin):\n",
    "        for turtle in turtles2:\n",
    "            turtle.speed('fastest')\n",
    "            turtle.shape('classic')\n",
    "            turtle.goto(0,0)\n",
    "            turtle.rt((currenttime.minute*6)-(90-turtle.heading()))\n",
    "            radius = 12\n",
    "            turtle.fd(240)\n",
    "            turtle.setheading(random.randrange(360))\n",
    "            turtle.fd(radius)\n",
    "\n",
    "    if (currenthour != prevhour):\n",
    "        for turtle in turtles1:\n",
    "            turtle.speed('fastest')\n",
    "            turtle.shape('classic')\n",
    "            turtle.goto(0,0)\n",
    "            turtle.rt((currenttime.hour*30)-(90-turtle.heading()))\n",
    "            radius = 18\n",
    "            turtle.fd(360)\n",
    "            turtle.setheading(random.randrange(360))\n",
    "            turtle.fd(radius)\n",
    "            \n",
    "    prevsec=currenttime.second\n",
    "    prevmin=currenttime.minute\n",
    "    prevhour=currenttime.hour"
   ]
  }
 ],
 "metadata": {
  "kernelspec": {
   "display_name": "Python 3",
   "language": "python",
   "name": "python3"
  },
  "language_info": {
   "codemirror_mode": {
    "name": "ipython",
    "version": 3
   },
   "file_extension": ".py",
   "mimetype": "text/x-python",
   "name": "python",
   "nbconvert_exporter": "python",
   "pygments_lexer": "ipython3",
   "version": "3.6.2"
  }
 },
 "nbformat": 4,
 "nbformat_minor": 2
}
