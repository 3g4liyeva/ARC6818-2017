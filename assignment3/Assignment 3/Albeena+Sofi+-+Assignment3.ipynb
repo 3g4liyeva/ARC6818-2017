{
 "cells": [
  {
   "cell_type": "markdown",
   "metadata": {},
   "source": [
    "##  Short Assignment 3"
   ]
  },
  {
   "cell_type": "markdown",
   "metadata": {},
   "source": [
    "### Albeena Sofi"
   ]
  },
  {
   "cell_type": "markdown",
   "metadata": {},
   "source": [
    "The change in time is represented here by the sun that displaces every three seconds; the growing beard on the man's face and the turtle stamping to form a circle, which also repeats every second. I have used the threading module to run the three separate functions together - 'turtleClock', 'sunMove', and 'beardMan'."
   ]
  },
  {
   "cell_type": "markdown",
   "metadata": {},
   "source": [
    "###### Import the turtle module, import random, time and threading"
   ]
  },
  {
   "cell_type": "code",
   "execution_count": null,
   "metadata": {
    "collapsed": true
   },
   "outputs": [],
   "source": [
    "import turtle\n",
    "import random\n",
    "import time"
   ]
  },
  {
   "cell_type": "code",
   "execution_count": null,
   "metadata": {},
   "outputs": [],
   "source": [
    "timestart = time.time()\n",
    "# this function is used for time measurement, it returns the time in seconds since the epoch\n",
    "print(time.ctime())  \n",
    "# this returns the current time"
   ]
  },
  {
   "cell_type": "markdown",
   "metadata": {},
   "source": [
    "##### A function to draw a face outline"
   ]
  },
  {
   "cell_type": "code",
   "execution_count": null,
   "metadata": {
    "collapsed": true
   },
   "outputs": [],
   "source": [
    "# a function to draw a face outline\n",
    "def drawFace():\n",
    "    turtle.speed(100)\n",
    "    turtle.hideturtle\n",
    "    turtle.penup()\n",
    "    turtle.goto(-150,-200)\n",
    "    turtle.pendown()\n",
    "    turtle.circle(200)\n",
    "    turtle.penup()\n",
    "    turtle.shape(\"circle\")\n",
    "    turtle.shapesize(3,2,1)\n",
    "    turtle.goto(-240,90)\n",
    "    turtle.stamp()\n",
    "    turtle.goto(-60,90)\n",
    "    turtle.stamp()\n",
    "    turtle.shape(\"classic\")\n",
    "    turtle.goto(-150,-10)\n",
    "    turtle.setheading(90)\n",
    "    turtle.stamp()\n",
    "    turtle.forward(10)\n",
    "    turtle.stamp()\n",
    "    turtle.goto(-200,-100)\n",
    "    turtle.setheading(0)\n",
    "    turtle.pendown()\n",
    "    turtle.forward(100)\n",
    "    turtle.hideturtle()\n",
    "drawFace()"
   ]
  },
  {
   "cell_type": "markdown",
   "metadata": {},
   "source": [
    "![image1](https://lh3.googleusercontent.com/YY1pgZeb7LM7cGzro5R1B9hxDGmexRX6ULiP80KN77RdlBq41-g824WUzgcTqB5QUgjvR5IST9QXTycLUQrrWeg0G-LOuk-_DcyIe5Vf-dyyyIeOIR4O7PxIw90MvDO6xHitpB0ZgD5Nd51PrluVAnVXet-Nlrn-FuyYUR0kmjttUb6tgiTX6vA_ALyHWYUS5eIjMAonu_ApQmE8KUy-DmqTAM3FiMpcHrbK1zF9yVL3sTLZbBYvx384tHyz01nxdI9Ea7DiGYik1W7IkcMg6NWi--VvpzNN1qzm9fCpoDGV5RYqx9gU18Qc6f9427ZCw979C5Ai7Fsy1dtu67DjSG3Vksh1iawC0UjizOUr1JPq9JM4iTphCXfrpHXYy05mGPbYH4_J3ImcKKXtAA_mwu-m4R3C0gObRiW_psQ6KlgzIBVO5vt4lUPHTWmvfb-RY378JhUkiYTqe1iho-8rXTH7jFtKgFMWYT73eDjX_EUv9-W5JPmn38vak2UPxrVDlMAGK2Tm58z_ZUtNHbuMBcOh-muzqTF2cqzd5X8KrRdjijocYhm1iHnvNp8RMuQ74-PGxL6qT3Q9rGvmGmxcCqTCGZW189B1r2_VUuwn=w963-h849-no \"image1\")"
   ]
  },
  {
   "cell_type": "markdown",
   "metadata": {},
   "source": [
    "##### A function to draw a shape that resembles an analog clock"
   ]
  },
  {
   "cell_type": "markdown",
   "metadata": {},
   "source": [
    "On completion of one circle of turtle stamps, the time pauses for a second, and then the loop continues."
   ]
  },
  {
   "cell_type": "code",
   "execution_count": null,
   "metadata": {
    "collapsed": true
   },
   "outputs": [],
   "source": [
    "def turtleClock():  \n",
    "        for i in range(12):\n",
    "            turtle.speed(\"fastest\")\n",
    "            turtle.penup()\n",
    "            turtle.shape(\"turtle\")\n",
    "            turtle.goto(200,150)\n",
    "            turtle.forward(80)\n",
    "            turtle.pendown()\n",
    "            turtle.forward(10)\n",
    "            turtle.penup()\n",
    "            turtle.forward(30)\n",
    "            turtle.stamp()\n",
    "            turtle.color('#%06x' % random.randint(0, 2**24 - 1))\n",
    "            turtle.backward(120)\n",
    "            turtle.right(30)\n",
    "        time.sleep(1)"
   ]
  },
  {
   "cell_type": "markdown",
   "metadata": {},
   "source": [
    "![image2](https://lh3.googleusercontent.com/yEpLo3055ywt9VhkkxxBslJfD9n3CPDgQ5whDN-ea_PB5jAntGu0lvZxHH_Xf3NjE1NeOHofXBIWaaFUOfQxUQDle0WPDO54HXae_FabwQ5CCCG7FpchoPT4pJzOQ642ATeZa12L-pbtlwA1kVlNw33rtCtGZkGSWGfRDs56QuOqNQS1f6sQNSqqt7Pi8Ssmd9jNHrf8QOpWS56XSQjM4yMJ4RJoGPdF6nsiqP6k3_Yf2Y44H4TmqHTS_XJ0lYPQK-THQUpXDYz10nZl0K4p0IJn5gDKKSELwzaYvL0XFLnOcuLEW4TvN9BXIpLOlxYtol2V2JclGLHD94ZaUr9ov4SBPGFZ1jZCtr-bYRf-326EnRMzo2Jp7bua9Q7AMzZVlUxc0rYQarBJkk-veNr9rTT-D35jgmpu3E2tkQ5tHdgcE80t2byQIDzKCJPP48G1pVspgu9_sgkydTz5bcnYT6VP6smCkqos5pWoW42XMCGBSVvsHfDc7siyEO7Y4TnisrjgaAk2jZ_BRi_IMwYmZQUcCLbeVqgInWdyDHL3y3u_QkiWxq0tJgyWyoyW9vZfHef4F8pVuuFLNxWs16r6pzM1NRkbuR3L6umM5rvK=w960-h847-no \"image2\")"
   ]
  },
  {
   "cell_type": "markdown",
   "metadata": {},
   "source": [
    "![image3](https://lh3.googleusercontent.com/0WDTNxrmQnl9tzp7qBSKJt-XlcgWgK0tK7S-OT4XpZDMvlH_7Budr9C39qRGbpQh0C0aWkgZqzwSy1TRZKriJbSPO89YJGeACm7C8iiVTBG9E5crx0jwEPdpt8BYcGKnMIadbjDNz861CtSbXLGtnSckXA9Sb-U5pMpdADKdiHjaLTTyHMeEFxU9UlnM1OiH2GBOG5bGROmtvwh3pW7AonhMYR8ObPw4O1kB-PUc37XrETJojmpMdiWQUav6yDWWP0kwJsnAP9CciT12AYrcxnnL_ni9_CFBFLdmDis_vnBSk5i-RyxiExU4qILxUzQ0YaMm_HunHw5pAleQvnOhseaolH9Ua9L9RK19sDKiZQdgP6k3flIdtcrnVTfYbYXeEpZ76oPpcwibbfzhflo7Mc5Zcxkcso4N3Cc6dsZfUOm2Y4hRdwYDSD-qwccvdXRDRyfGkToAjXhYjNhQFG1xiL1NQjPv9-NbDhUrxIBbwPk0Oflp5Go09msYXtw2SjE6L4faCFhZqUVlYFE5HxvPFU-oP6b0T1mmSlXaLHK5y2nBe1UoAcaey4eJA8FMDPasJu-fAFGCQVEFXini4sUclP9G3DxFoaH6eYP7OiBs=w958-h848-no \"image3\")"
   ]
  },
  {
   "cell_type": "markdown",
   "metadata": {},
   "source": [
    "###### A function that draws the growing beard on the face outlined earlier"
   ]
  },
  {
   "cell_type": "code",
   "execution_count": null,
   "metadata": {
    "collapsed": true
   },
   "outputs": [],
   "source": [
    "t1 = turtle.Turtle()\n",
    "t1.penup()\n",
    "t1.pensize(2)\n",
    "t1.goto(-150,-130)\n",
    "t1.setheading(270)\n",
    "t1.pendown()\n",
    "t1.speed(\"fastest\")"
   ]
  },
  {
   "cell_type": "code",
   "execution_count": null,
   "metadata": {
    "collapsed": true
   },
   "outputs": [],
   "source": [
    "def beardMan(length):\n",
    "    if length > 5:\n",
    "        t1.forward(length)\n",
    "        t1.right(30)\n",
    "        beardMan(length-10)\n",
    "        t1.left(60)\n",
    "        beardMan(length-10)\n",
    "        t1.right(30)\n",
    "        t1.backward(length)\n",
    "    else:\n",
    "        t1.dot(10, \"gray\")"
   ]
  },
  {
   "cell_type": "markdown",
   "metadata": {},
   "source": [
    "I used the idea of fractal tree to draw the beard."
   ]
  },
  {
   "cell_type": "markdown",
   "metadata": {},
   "source": [
    "![image4](https://lh3.googleusercontent.com/n8eEgQ9N1N7keD26ANwhDBYhhV-Hn9Ei8Z3c2UcuLf--6blqNWd01a2QfFRk8nkRJobtltPxmOsfWvCBkw1x4YdWmUFIkNcUc5ZWzEQAyVxidKPUMnnQglTzyHwrzOzA-EW2AsomvBCMoO1wdJfJZicbB9Ntu2AUFhrMTDYPeZUq1sKTk-nbbdFaCHQKd4skQzA8adeGaB_Una0cte8c1U1zYDNaFRtkLQicysHfsckLj6VkoMSWYf4TLm0X9sRbV-H1d6K-oNrKqm0lNuXnl8EXG3qpIg94mYtVLZvcuSnHLG_zFgBXFwufADSqvTAS3_Z5bCFQnC37v75r7VQ5FQPClrgmB0lYgWFHRqu-P9UBgaUrPQ160MLNKDjCYkuGPKhy9V29ZgplXTcrAW4IykDOkZwB34xCiLiDyWlJhC5OnjSGN6pb3MPkx335MvGp5VzvYZaG0gT5m3KCgMO2SzVpkVT0X9kOpjDZbfJS3YEatqa_8jAujB284F-s88NmAyfQ3tZD7ubpuOrrW72uwgbVjeemPuFxs_0_x4rv7ekcLOpONfsOXTHjpiH6chd-bqBFHGJEDaTtVVVHw6CCJK5P330j0kMJPg87uAoB=w963-h847-no \"image4\")"
   ]
  },
  {
   "cell_type": "markdown",
   "metadata": {},
   "source": [
    "![image5](https://lh3.googleusercontent.com/ASMrCtr65A3wmaD05hvFzl77ZnhbB3DrMiAk4sKGgmPmYPVE9fmc2oYt3SHrERFqEoRQxG5CRuLWBNOEd9LxrlLLgrRD80LuDeB9BVYBT4HYe2Fn7ap-MtgAi1eqFWp8MgeByiPZV0T3kVZAll0w-4VucZZesWXy9yJppIoy7FePKFqBMVLgIU7ASfpqgtn87N_Gut-5Gy0SVCWP5-2DyaHPavKHh4bFPmsvDcNX-IQSuVE0NnRFE8ZAbUUsxWiTHBzlwqKWWEclpZdztdPDxYiPD0BrZ2RNfVDpnR-OvOmyv4kf8MdPLktUl7ZaoYbQ2_1GN54_aaHbIicm5iNLqoH1AGhEagwG6zm0_JAxtKHE7Br_MCxVoSy_KuD_4dHTXdb0pYKcbRidwgtzxmO1BfWVHCWuDkB9IDSWAcjtruO0TFo92sCL3eC_V5QGby-lEI1hqhFwHdlxNW2PnG1OosUmsJmi40_epqTzKDxjTvar1UDwXXXO0mJZrc756AUhZjjE7GEbdkx56FWO8n-NZGtuXJqqq4l0TmAScEPO-2Glec2eDnLqTnzBRSwrqMQst6Nf6Ln1zMfX8_X-MkisWa6WwKmFvYKfByy8z-1a=w956-h849-no \"image5\")"
   ]
  },
  {
   "cell_type": "markdown",
   "metadata": {},
   "source": [
    "###### A function to define movement of the sun"
   ]
  },
  {
   "cell_type": "code",
   "execution_count": null,
   "metadata": {
    "collapsed": true
   },
   "outputs": [],
   "source": [
    "sun=turtle.Turtle()\n",
    "sun.penup()\n",
    "sun.color(\"gold\")\n",
    "sun.shape(\"circle\")\n",
    "sun.shapesize(2)\n",
    "sun.setposition(-360,180)\n",
    "def sunMove():\n",
    "    sun.setheading(50)\n",
    "    for i in range(10):\n",
    "        sun.forward(10)\n",
    "        time.sleep(1)"
   ]
  },
  {
   "cell_type": "code",
   "execution_count": null,
   "metadata": {
    "collapsed": true
   },
   "outputs": [],
   "source": [
    "timeend = time.time()  # this function is used for time measurement, it returns the time in seconds since the epoch"
   ]
  },
  {
   "cell_type": "code",
   "execution_count": null,
   "metadata": {},
   "outputs": [],
   "source": [
    "print(str(timeend-timestart))"
   ]
  },
  {
   "cell_type": "markdown",
   "metadata": {},
   "source": [
    "The time above is the difference between timestart and timeend in seconds. I use it to see how long it takes for the code written till here to execute."
   ]
  },
  {
   "cell_type": "markdown",
   "metadata": {},
   "source": [
    "###### Using threading"
   ]
  },
  {
   "cell_type": "markdown",
   "metadata": {},
   "source": [
    "This is used to run all the defined functions simultaneously."
   ]
  },
  {
   "cell_type": "code",
   "execution_count": null,
   "metadata": {
    "collapsed": true
   },
   "outputs": [],
   "source": [
    "import threading\n",
    "from threading import Thread"
   ]
  },
  {
   "cell_type": "code",
   "execution_count": null,
   "metadata": {},
   "outputs": [],
   "source": [
    "if __name__ == '__main__':\n",
    "    print(\"Name: \", __name__)\n",
    "    for i in range(10):\n",
    "        Thread(target = sunMove).start()\n",
    "        Thread(target = beardMan(50)).start()\n",
    "        Thread(target = turtleClock).start()"
   ]
  },
  {
   "cell_type": "markdown",
   "metadata": {},
   "source": [
    "![image4](https://lh3.googleusercontent.com/2wMGIrpS1jf_5QxB9TU5QGqOUbZGe8JcjjoyNPjQiphgxVZb8wGSXqORABD8CPjdDO53mj_qa18IjY9hjkyobPKvJDVjITN3yBG63NjP-kK99FcDiNlrXPPQ_2QEMES_DImtf-AjPUXZSL-22IquDelFb-sHs2XSuDTdVstI5BaLN3j8WnuepauAMmOw4Nxl1ovsTisTGxzPWAwAqloj6oPNDXO5p0hJvwEpzVsZYmb3SZb6bJi4Hy8Dpyp2d8aV18ZH2JAzcUKGRClvxx7o3Ua1o-U5D_ZwORcz2-D7aT4ebnmj7bwkjp7dqbsHOsIHRZavYrfUZNw-zz4LluWWMHhDQuYoClR4r5B8LrD_PKY6uBvYX56B6f_te4Pe7rsGi6hvt9gGELp3ZcHu2E45_KSianJ_ncEDFIPKrT_O0DzhnseCTFmmu06vjsEhr1Mb8GghsXliotT-JH9v_G5IO4l-KHPbTTXs1WZ1sbCZipy6Ts9XssOey0AwJWjMA1h2aOxAJ_n8cq6NMqaUkqh30uXQwcqhtZ-UBlNUlH1FPSB9MLZouPOq63BGbAFZF0I1SBzXK_xauUBtdwCaFjfCkf9ZQrpRMKTX94hf27Jp=w653-h635-no \"image4\")"
   ]
  },
  {
   "cell_type": "markdown",
   "metadata": {},
   "source": [
    "![image5](https://lh3.googleusercontent.com/euBOUq-xX_f21iiop95ONHCErHX_oiHvqIlWgKu9Us37uogT4SlsCIvXqjjcpDHIx26cHLkvHtsAW9dKBiI8OpObXJYXsv3pTOo0qETyvvcR4blCFq_wN-hE13oPdRPq2KWkA3TlpvMbC6qdHICivoBnF_glORD1SkMG_B_bnb5-yYTOzP68aR-Z7fyXOxEW6Mt6Oe30eXUwn_d8YxAbtuBF510g5hiWZq-GzvR_hbpvjxFvUUS6FtZ9OlTkXICP4W37JgV6LHIJbJwR74fRUERTkdZT20Nwzc40F0Ed-YjRGgx6ehTC5mEcz-VdqwlJdI6K4DTbmNYSOhgxnDog6N1mTQQQJoCFfSb4YQ0xO-_TK-FNFqwYNHG9eqZlG8_R9wlps8TOyLS_nfPUmONY_ECT7YG9HxbsVGQZg8SAtsCnNNb01iMnh-C3xLvWql4ewAn_11xBOrBhkn_x5zJUJjG486FUAgYf8j8K05kQvQbl0fbqlXsYVZ4NzCibvKh2ARUw0x-6wTogH9tESXmwFRLkJbGPYQV3z5q4sopslSMYakgza66BqriIGKg25uiPPdO4xO8XWBAi09qXEeHQcA4PBV7s633_Xvf2wqmD=w650-h633-no \"image5\")"
   ]
  },
  {
   "cell_type": "markdown",
   "metadata": {},
   "source": [
    "![image6](https://lh3.googleusercontent.com/oKPL9WLaziKpkdeJ-phSssikx_NSHFh7gCsyPrGq2e0ttLi2-U0Zd94UeRAFfZSSffzdGRVVQAqP1246QP24xpx8dGS5RBRIjf0K48GnBzQd_DoICV5637ufP7hJFJXer6QkAu3Z6tc2Nk6xnUIepgzzf8qngzYvsaptJYFFgtOPgLJL0zcJLqehesP7-3RUqU7iZUj8iXoLCejXtKwBOGSkh4UG9hyeemOtljdK9b1hHPhM5W8DlgdISOQD0bcdKkEB73jqLVYjCzdrM4B2l80PI9QOkEvh5y7mfrTQ_mv2h9XC98vYVRHz3_KWxwtGEUOJJQhi1rZEUFWB1wJ_mfC1PxFr8jWAkEGtXNBTpjyepOuV_6Zpcil-3gxtu4zHfF5xWP1eMlLazbu61pglAVJd_hCgUjJaQLzhGV8S9UC7vGltvUkHE-7Ipreo1B2MjWjiimejA1zZMg4yPeOcJYfO2wVe7eK9IvhLMFgC1zhzJ9snetqq7fqN7ws_TKbJ5GsWc4O_nJ_mlejIN-uOqAe7GtK6TVn1w9_bcP2mnkP_ekA5XL_kJ528vO2XbgSmswsujg_SZ69QPaLn79lghYn60jXLozRucQ0ow3KQ=w652-h632-no \"image6\")"
   ]
  },
  {
   "cell_type": "markdown",
   "metadata": {},
   "source": [
    "###### The threading function returns an error everytime I run it in Jupyter. When executed from the windows terminal, all three functions - sunMove, beardMan, and turtleClock run simultaneously as defined.\n",
    "###### A lot of online discussions mention that \"GUI toolkits like Jupyter are not thread safe.\" I still haven't been able to figure out the problem."
   ]
  },
  {
   "cell_type": "code",
   "execution_count": null,
   "metadata": {
    "collapsed": true
   },
   "outputs": [],
   "source": []
  }
 ],
 "metadata": {
  "kernelspec": {
   "display_name": "Python 3",
   "language": "python",
   "name": "python3"
  },
  "language_info": {
   "codemirror_mode": {
    "name": "ipython",
    "version": 3
   },
   "file_extension": ".py",
   "mimetype": "text/x-python",
   "name": "python",
   "nbconvert_exporter": "python",
   "pygments_lexer": "ipython3",
   "version": "3.6.2"
  }
 },
 "nbformat": 4,
 "nbformat_minor": 2
}
