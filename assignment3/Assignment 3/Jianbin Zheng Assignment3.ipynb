{
 "cells": [
  {
   "cell_type": "markdown",
   "metadata": {},
   "source": [
    "*** Jianbin Zheng  Assignment 3***"
   ]
  },
  {
   "cell_type": "code",
   "execution_count": 1,
   "metadata": {
    "collapsed": true
   },
   "outputs": [],
   "source": [
    "import turtle"
   ]
  },
  {
   "cell_type": "code",
   "execution_count": 2,
   "metadata": {
    "collapsed": true
   },
   "outputs": [],
   "source": [
    "import time"
   ]
  },
  {
   "cell_type": "code",
   "execution_count": 3,
   "metadata": {},
   "outputs": [],
   "source": [
    "ts = turtle.Turtle()\n",
    "ts.speed(100)\n",
    "ts.ht()\n",
    "ts.penup()\n",
    "ts.goto(-300,0)\n",
    "ts.pensize(6)\n",
    "\n",
    "# turtle 's' for second moving\n",
    "\n",
    "tm = turtle.Turtle()\n",
    "tm.speed(100)\n",
    "tm.ht()\n",
    "tm.penup()\n",
    "tm.goto(-300,0)\n",
    "tm.pensize(4)\n",
    "\n",
    "# turtle 'm' for minute moving\n",
    "\n",
    "th = turtle.Turtle()\n",
    "th.speed(100)\n",
    "th.ht()\n",
    "th.penup()\n",
    "th.goto(-300,0)\n",
    "th.pensize(2)\n",
    "\n",
    "#turtle 'h' for hour moving"
   ]
  },
  {
   "cell_type": "code",
   "execution_count": 4,
   "metadata": {},
   "outputs": [],
   "source": [
    "size = 300\n",
    "\n",
    "# determine the size of the graphic\n",
    "\n",
    "s = 0\n",
    "m = 0\n",
    "h = 0\n",
    "d = 0\n",
    "\n",
    "# four variables to count the number of seconds minutes hours and days"
   ]
  },
  {
   "cell_type": "code",
   "execution_count": 5,
   "metadata": {
    "collapsed": true
   },
   "outputs": [],
   "source": [
    "# three function to define the movement of seconds, minutes and hours\n",
    "\n",
    "def Seconds(t,size,steps):\n",
    "    t.penup()\n",
    "    t.fd(4*size/12)\n",
    "    t.pendown()\n",
    "    t.lt(150)\n",
    "    t.fd(4*size/12)\n",
    "    t.lt(120)\n",
    "    t.fd(4*size/12)\n",
    "    t.lt(120)\n",
    "    t.fd(4*size/12)\n",
    "    t.rt(30)\n",
    "    t.penup()\n",
    "    t.fd(8*size/12)\n",
    "    t.right(360/steps)\n",
    "    t.bk(size)\n",
    "    t.pendown()\n",
    "\n",
    "# the first function is to make second turtle generate a triangle\n",
    "\n",
    "def Minutes(t,size,steps):\n",
    "    t.penup()\n",
    "    t.fd(8*size/12)\n",
    "    t.pendown()\n",
    "    t.lt(135)\n",
    "    t.fd(2*size/12)\n",
    "    t.lt(90)\n",
    "    t.fd(2*size/12)\n",
    "    t.lt(90)\n",
    "    t.fd(2*size/12)\n",
    "    t.lt(90)\n",
    "    t.fd(2*size/12)\n",
    "    t.rt(45)\n",
    "    t.penup()\n",
    "    t.fd(4*size/12)\n",
    "    t.right(360/steps)\n",
    "    t.bk(size)\n",
    "    t.pendown()\n",
    "    \n",
    "# the second function is to make minute turtle generate a rectangle\n",
    "    \n",
    "def Hours(t,size,steps):\n",
    "    t.penup()\n",
    "    t.fd(11*size/12)\n",
    "    t.pendown()\n",
    "    t.lt(90)\n",
    "    t.circle(1*size/12)\n",
    "    t.rt(90)\n",
    "    t.penup()\n",
    "    t.fd(size/12)\n",
    "    t.right(360/steps)\n",
    "    t.bk(size)\n",
    "    t.pendown()\n",
    "\n",
    "# the third function is to make hour turtle generate a circle"
   ]
  },
  {
   "cell_type": "code",
   "execution_count": 6,
   "metadata": {
    "collapsed": true
   },
   "outputs": [],
   "source": [
    "def odds(x,turtle):\n",
    "    if x%2 ==0:\n",
    "        turtle.color('red')\n",
    "    else:\n",
    "        turtle.color('orange')\n",
    "\n",
    "\n",
    "def odds2(x,turtle):\n",
    "     if x%2 ==0:\n",
    "        turtle.color('grey')\n",
    "     else:\n",
    "        turtle.color('green')\n",
    "        \n",
    "# these functions are uesd to make turtles change their color after one loop"
   ]
  },
  {
   "cell_type": "code",
   "execution_count": 7,
   "metadata": {
    "collapsed": true
   },
   "outputs": [],
   "source": [
    "def Days(days,turtle):\n",
    "    if days == 0:\n",
    "        turtle.color('red')\n",
    "    elif days == 1:\n",
    "        turtle.color('orange')\n",
    "    elif days == 2:\n",
    "        turtle.color('yellow')\n",
    "    elif days == 3:\n",
    "        turtle.color('green')\n",
    "    elif days == 4:\n",
    "        turtle.color('blue')\n",
    "    elif days == 5:\n",
    "        turtle.color('purple')\n",
    "    elif days == 6:\n",
    "        turtle.color('green')\n",
    "        \n",
    "# different color represent different day in a week"
   ]
  },
  {
   "cell_type": "code",
   "execution_count": null,
   "metadata": {},
   "outputs": [],
   "source": [
    "while True:\n",
    "    time.sleep(1)\n",
    "    \n",
    "# make it run in second     \n",
    "    \n",
    "    odds(m,ts)\n",
    "    odds2(h,tm)\n",
    "    Seconds(ts,size,60)             \n",
    "    s = s+1\n",
    "    \n",
    "\n",
    "    if s == 61:\n",
    "        s =1\n",
    "    elif s == 60:\n",
    "        Minutes(tm,size,60)\n",
    "        ts.clear()\n",
    "        m = m+1\n",
    "\n",
    "# set 60 times as a loop\n",
    "# after one loop, clear the second turtles and restart\n",
    "\n",
    "        if m == 61:\n",
    "            m = 1\n",
    "        elif m == 60:\n",
    "            Hours(th,size,24)\n",
    "            tm.clear() \n",
    "            h = h+1\n",
    "            \n",
    "# similar as above\n",
    "               \n",
    "            if h == 24:\n",
    "                Days(d,th)\n",
    "                d = d+1\n",
    "                h = 0\n",
    "                Days(d,th)\n",
    "            \n",
    "# similar as above                \n",
    "\n",
    "if d == 7:\n",
    "    d = 0\n",
    "# represent a new week, start over again"
   ]
  },
  {
   "cell_type": "markdown",
   "metadata": {},
   "source": [
    "![jianbin image1](https://github.com/mmeagher/ARC6818-2017/blob/master/assignment3/Assignment%203/images/zjb1.png?raw=true)"
   ]
  },
  {
   "cell_type": "markdown",
   "metadata": {},
   "source": [
    "![zjb image2](https://github.com/mmeagher/ARC6818-2017/blob/master/assignment3/Assignment%203/images/zjb2.png?raw=true)"
   ]
  },
  {
   "cell_type": "markdown",
   "metadata": {},
   "source": [
    "![zjb image3](https://github.com/mmeagher/ARC6818-2017/blob/master/assignment3/Assignment%203/images/zjb3.png?raw=true)"
   ]
  },
  {
   "cell_type": "code",
   "execution_count": null,
   "metadata": {
    "collapsed": true
   },
   "outputs": [],
   "source": []
  }
 ],
 "metadata": {
  "kernelspec": {
   "display_name": "Python 3",
   "language": "python",
   "name": "python3"
  },
  "language_info": {
   "codemirror_mode": {
    "name": "ipython",
    "version": 3
   },
   "file_extension": ".py",
   "mimetype": "text/x-python",
   "name": "python",
   "nbconvert_exporter": "python",
   "pygments_lexer": "ipython3",
   "version": "3.6.2"
  }
 },
 "nbformat": 4,
 "nbformat_minor": 2
}
