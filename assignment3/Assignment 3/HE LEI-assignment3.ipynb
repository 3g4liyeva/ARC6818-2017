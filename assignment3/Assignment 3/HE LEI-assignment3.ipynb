{
 "cells": [
  {
   "cell_type": "code",
   "execution_count": 15,
   "metadata": {},
   "outputs": [
    {
     "name": "stdout",
     "output_type": "stream",
     "text": [
      "16:35:15.527320\n"
     ]
    },
    {
     "ename": "Terminator",
     "evalue": "",
     "output_type": "error",
     "traceback": [
      "\u001b[1;31m---------------------------------------------------------------------------\u001b[0m",
      "\u001b[1;31mTerminator\u001b[0m                                Traceback (most recent call last)",
      "\u001b[1;32m<ipython-input-15-8498d9b3ede5>\u001b[0m in \u001b[0;36m<module>\u001b[1;34m()\u001b[0m\n\u001b[0;32m     67\u001b[0m     \u001b[0mdraw_second\u001b[0m\u001b[1;33m(\u001b[0m\u001b[0mi\u001b[0m\u001b[1;33m,\u001b[0m\u001b[0ms\u001b[0m\u001b[1;33m)\u001b[0m\u001b[1;33m\u001b[0m\u001b[0m\n\u001b[0;32m     68\u001b[0m     \u001b[0mdraw_minute\u001b[0m\u001b[1;33m(\u001b[0m\u001b[0mi\u001b[0m\u001b[1;33m,\u001b[0m\u001b[0mm\u001b[0m\u001b[1;33m)\u001b[0m\u001b[1;33m\u001b[0m\u001b[0m\n\u001b[1;32m---> 69\u001b[1;33m     \u001b[0mdraw_hour\u001b[0m\u001b[1;33m(\u001b[0m\u001b[0mi\u001b[0m\u001b[1;33m,\u001b[0m\u001b[0mh\u001b[0m\u001b[1;33m)\u001b[0m\u001b[1;33m\u001b[0m\u001b[0m\n\u001b[0m\u001b[0;32m     70\u001b[0m     \u001b[0mhome\u001b[0m\u001b[1;33m(\u001b[0m\u001b[1;33m)\u001b[0m\u001b[1;33m\u001b[0m\u001b[0m\n\u001b[0;32m     71\u001b[0m \u001b[1;33m\u001b[0m\u001b[0m\n",
      "\u001b[1;32m<ipython-input-15-8498d9b3ede5>\u001b[0m in \u001b[0;36mdraw_hour\u001b[1;34m(i, num)\u001b[0m\n\u001b[0;32m     36\u001b[0m     \u001b[0mfd\u001b[0m\u001b[1;33m(\u001b[0m\u001b[0mlen\u001b[0m\u001b[1;33m)\u001b[0m\u001b[1;33m\u001b[0m\u001b[0m\n\u001b[0;32m     37\u001b[0m     \u001b[0mrt\u001b[0m\u001b[1;33m(\u001b[0m\u001b[1;36m90\u001b[0m\u001b[1;33m)\u001b[0m\u001b[1;33m\u001b[0m\u001b[0m\n\u001b[1;32m---> 38\u001b[1;33m     \u001b[0mfd\u001b[0m\u001b[1;33m(\u001b[0m\u001b[0mlen\u001b[0m\u001b[1;33m)\u001b[0m\u001b[1;33m\u001b[0m\u001b[0m\n\u001b[0m\u001b[0;32m     39\u001b[0m     \u001b[0mrt\u001b[0m\u001b[1;33m(\u001b[0m\u001b[1;36m90\u001b[0m\u001b[1;33m)\u001b[0m\u001b[1;33m\u001b[0m\u001b[0m\n\u001b[0;32m     40\u001b[0m     \u001b[0mfd\u001b[0m\u001b[1;33m(\u001b[0m\u001b[0mlen\u001b[0m\u001b[1;33m)\u001b[0m\u001b[1;33m\u001b[0m\u001b[0m\n",
      "\u001b[1;32m~\\Anaconda3\\lib\\turtle.py\u001b[0m in \u001b[0;36mfd\u001b[1;34m(distance)\u001b[0m\n",
      "\u001b[1;31mTerminator\u001b[0m: "
     ]
    }
   ],
   "source": [
    "from turtle import *\n",
    "import datetime\n",
    "from time import sleep\n",
    "import random\n",
    "\n",
    "\n",
    "\n",
    "#Draw the fan shape according to the sec value and fill the color\n",
    "def draw_second(i,num=30):\n",
    "  \n",
    "    rt((num+30*i)%360)\n",
    "    pendown()\n",
    "    begin_fill()\n",
    "    circle(num+70,num*2)\n",
    "    end_fill()\n",
    "\n",
    "#Draw a circle according to the min value and fill the color\n",
    "def draw_minute(i,num=30):\n",
    "\n",
    "    begin_fill()\n",
    "    circle(num+10)\n",
    "    end_fill()\n",
    "    penup()\n",
    "\n",
    "#Draw a square according to hour\n",
    "\n",
    "def draw_hour(i,num=6):\n",
    "\n",
    "    len=num*1+100\n",
    "    home()\n",
    "    rt((30*i)%360)\n",
    "    pendown()\n",
    "\n",
    "    fd(len)\n",
    "    rt(90)\n",
    "    fd(len)\n",
    "    rt(90)\n",
    "    fd(len)\n",
    "    rt(90)\n",
    "    fd(len)\n",
    "    rt(90)\n",
    "    penup()\n",
    "\n",
    "# create the turtles for displaying the time\n",
    "secondTurtle = Turtle()\n",
    "minuteTurtle = Turtle()\n",
    "hourTurtle = Turtle()\n",
    "\n",
    "# raise pens for all turtles\n",
    "secondTurtle.penup()\n",
    "minuteTurtle.penup()\n",
    "hourTurtle.penup()\n",
    "\n",
    "#set colors range and draw speed\n",
    "colors = ['blue','gray','red','green','brown','purple','orange','skyblue','pink','gold','yellow','wheat','lime','teal']\n",
    "speed('fast')\n",
    "\n",
    "for i in range(1000):\n",
    "    c = random.choice(colors)\n",
    "    color(c,c)\n",
    "    t = datetime.datetime.now().time()\n",
    "    s = t.second\n",
    "    m = t.minute\n",
    "    h = t.hour\n",
    "    print(t)\n",
    "    penup()\n",
    "    draw_second(i,s)\n",
    "    draw_minute(i,m)\n",
    "    draw_hour(i,h)\n",
    "    home()\n",
    "\n",
    "\n",
    "win=turtle.Screen(); win.exitonclick()\n",
    "\n"
   ]
  },
  {
   "cell_type": "markdown",
   "metadata": {},
   "source": [
    "### I extracted the seconds, minutes, hours of the parameters, and use them as a graphics to generate conditions, so opening at different points in time will produce different patterns."
   ]
  },
  {
   "cell_type": "markdown",
   "metadata": {},
   "source": [
    "### time:15:16:30 to 15:17:38\n",
    "![leihe01 image](https://github.com/mmeagher/ARC6818-2017/blob/master/assignment3/Assignment%203/images/HE%20LEI151630to151738.jpg?raw=true'leihe01')"
   ]
  },
  {
   "cell_type": "markdown",
   "metadata": {},
   "source": [
    "### time:15:20:17 to 15:25:03\n",
    "![leihe02 image](https://github.com/mmeagher/ARC6818-2017/blob/master/assignment3/Assignment%203/images/HE%20LEI152017to152503.jpg?raw=true'leihe02')"
   ]
  },
  {
   "cell_type": "markdown",
   "metadata": {},
   "source": [
    "### time:15:31:34 to 15:33:38\n",
    "![leihe03 image](https://github.com/mmeagher/ARC6818-2017/blob/master/assignment3/Assignment%203/images/HE%20LEI153134to153338.jpg?raw=true'leihe03')"
   ]
  }
 ],
 "metadata": {
  "kernelspec": {
   "display_name": "Python 3",
   "language": "python",
   "name": "python3"
  },
  "language_info": {
   "codemirror_mode": {
    "name": "ipython",
    "version": 3
   },
   "file_extension": ".py",
   "mimetype": "text/x-python",
   "name": "python",
   "nbconvert_exporter": "python",
   "pygments_lexer": "ipython3",
   "version": "3.6.2"
  }
 },
 "nbformat": 4,
 "nbformat_minor": 2
}
