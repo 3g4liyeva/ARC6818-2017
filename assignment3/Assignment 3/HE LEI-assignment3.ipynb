{
 "cells": [
  {
   "cell_type": "code",
   "execution_count": 2,
   "metadata": {},
   "outputs": [
    {
     "name": "stdout",
     "output_type": "stream",
     "text": [
      "15:13:05.312032\n",
      "15:13:07.265677\n",
      "15:13:09.344765\n"
     ]
    },
    {
     "ename": "Terminator",
     "evalue": "",
     "output_type": "error",
     "traceback": [
      "\u001b[1;31m---------------------------------------------------------------------------\u001b[0m",
      "\u001b[1;31mTerminator\u001b[0m                                Traceback (most recent call last)",
      "\u001b[1;32m<ipython-input-2-e2ccbabad0ea>\u001b[0m in \u001b[0;36m<module>\u001b[1;34m()\u001b[0m\n\u001b[0;32m     68\u001b[0m     \u001b[0mdraw_minute\u001b[0m\u001b[1;33m(\u001b[0m\u001b[0mi\u001b[0m\u001b[1;33m,\u001b[0m\u001b[0mm\u001b[0m\u001b[1;33m)\u001b[0m\u001b[1;33m\u001b[0m\u001b[0m\n\u001b[0;32m     69\u001b[0m     \u001b[0mdraw_hour\u001b[0m\u001b[1;33m(\u001b[0m\u001b[0mi\u001b[0m\u001b[1;33m,\u001b[0m\u001b[0mh\u001b[0m\u001b[1;33m)\u001b[0m\u001b[1;33m\u001b[0m\u001b[0m\n\u001b[1;32m---> 70\u001b[1;33m     \u001b[0mhome\u001b[0m\u001b[1;33m(\u001b[0m\u001b[1;33m)\u001b[0m\u001b[1;33m\u001b[0m\u001b[0m\n\u001b[0m\u001b[0;32m     71\u001b[0m \u001b[1;33m\u001b[0m\u001b[0m\n\u001b[0;32m     72\u001b[0m \u001b[1;33m\u001b[0m\u001b[0m\n",
      "\u001b[1;32m~\\Anaconda3\\lib\\turtle.py\u001b[0m in \u001b[0;36mhome\u001b[1;34m()\u001b[0m\n",
      "\u001b[1;31mTerminator\u001b[0m: "
     ]
    }
   ],
   "source": [
    "from turtle import *\n",
    "import datetime\n",
    "from time import sleep\n",
    "import random\n",
    "\n",
    "\n",
    "\n",
    "#Draw the fan shape according to the sec value and fill the color\n",
    "def draw_second(i,num=30):\n",
    "  \n",
    "    rt((num+30*i)%360)\n",
    "    pendown()\n",
    "    begin_fill()\n",
    "    circle(num+70,num*2)\n",
    "    end_fill()\n",
    "\n",
    "#Draw a circle according to the min value and fill the color\n",
    "def draw_minute(i,num=30):\n",
    "\n",
    "    begin_fill()\n",
    "    circle(num+10)\n",
    "    end_fill()\n",
    "    penup()\n",
    "\n",
    "#Draw a square according to hour\n",
    "\n",
    "def draw_hour(i,num=6):\n",
    "\n",
    "    len=num*1+100\n",
    "    home()\n",
    "    rt((30*i)%360)\n",
    "    pendown()\n",
    "\n",
    "    fd(len)\n",
    "    rt(90)\n",
    "    fd(len)\n",
    "    rt(90)\n",
    "    fd(len)\n",
    "    rt(90)\n",
    "    fd(len)\n",
    "    rt(90)\n",
    "    penup()\n",
    "\n",
    "# create the turtles for displaying the time\n",
    "secondTurtle = Turtle()\n",
    "minuteTurtle = Turtle()\n",
    "hourTurtle = Turtle()\n",
    "\n",
    "# raise pens for all turtles\n",
    "secondTurtle.penup()\n",
    "minuteTurtle.penup()\n",
    "hourTurtle.penup()\n",
    "\n",
    "#set colors range and draw speed\n",
    "colors = ['blue','gray','red','green','brown','purple','orange','skyblue','pink','gold','yellow','wheat','lime','teal']\n",
    "speed('fast')\n",
    "\n",
    "for i in range(1000):\n",
    "    c = random.choice(colors)\n",
    "    color(c,c)\n",
    "    t = datetime.datetime.now().time()\n",
    "    s = t.second\n",
    "    m = t.minute\n",
    "    h = t.hour\n",
    "    print(t)\n",
    "    penup()\n",
    "    draw_second(i,s)\n",
    "    draw_minute(i,m)\n",
    "    draw_hour(i,h)\n",
    "    home()\n",
    "\n",
    "\n",
    "win=turtle.Screen(); win.exitonclick()"
   ]
  },
  {
   "cell_type": "code",
   "execution_count": null,
   "metadata": {
    "collapsed": true
   },
   "outputs": [],
   "source": []
  }
 ],
 "metadata": {
  "kernelspec": {
   "display_name": "Python 3",
   "language": "python",
   "name": "python3"
  },
  "language_info": {
   "codemirror_mode": {
    "name": "ipython",
    "version": 3
   },
   "file_extension": ".py",
   "mimetype": "text/x-python",
   "name": "python",
   "nbconvert_exporter": "python",
   "pygments_lexer": "ipython3",
   "version": "3.6.2"
  }
 },
 "nbformat": 4,
 "nbformat_minor": 2
}
