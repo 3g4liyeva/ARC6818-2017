{
 "cells": [
  {
   "cell_type": "markdown",
   "metadata": {},
   "source": [
    "## Tiantian Xie-Short Assignment 3"
   ]
  },
  {
   "cell_type": "markdown",
   "metadata": {},
   "source": [
    "### Clock"
   ]
  },
  {
   "cell_type": "markdown",
   "metadata": {},
   "source": [
    "***Steps***\n",
    "* To create a clock that can show time going by movement according to time\n",
    "* Firstly, set three turtles represent 'second', 'minute', 'hour'.\n",
    "* Then set different sizes and colors as well as orientations for those turtles.\n",
    "* Finally, let those turtles move a certain distance when time is passing, and the direction of each movement is the same as the hand on clock."
   ]
  },
  {
   "cell_type": "markdown",
   "metadata": {},
   "source": [
    "#### **Comment**"
   ]
  },
  {
   "cell_type": "markdown",
   "metadata": {},
   "source": [
    "* turtles represent 'minute' and 'hour' move slowly, therefore it takes time to let the track of the movement appear.\n",
    "* The most difficult thing for me was think about the ways to visualize time. I tried to explore various of ways, and in the end chose this one because the secondTurtle will not move out of the screen too fast."
   ]
  },
  {
   "cell_type": "markdown",
   "metadata": {},
   "source": [
    "#### 1. set turtles"
   ]
  },
  {
   "cell_type": "code",
   "execution_count": 1,
   "metadata": {
    "collapsed": true
   },
   "outputs": [],
   "source": [
    "import turtle\n",
    "import datetime\n",
    "from time import sleep"
   ]
  },
  {
   "cell_type": "code",
   "execution_count": 2,
   "metadata": {
    "collapsed": true
   },
   "outputs": [],
   "source": [
    "# create the turtles for displaying the time\n",
    "secondTurtle = turtle.Turtle()\n",
    "minuteTurtle = turtle.Turtle()\n",
    "hourTurtle = turtle.Turtle()"
   ]
  },
  {
   "cell_type": "code",
   "execution_count": 3,
   "metadata": {
    "collapsed": true
   },
   "outputs": [],
   "source": [
    "# get the current time\n",
    "currentTime=datetime.datetime.now().time()"
   ]
  },
  {
   "cell_type": "code",
   "execution_count": 4,
   "metadata": {
    "collapsed": true
   },
   "outputs": [],
   "source": [
    "# raise pens for all turtles\n",
    "secondTurtle.penup()\n",
    "minuteTurtle.penup()\n",
    "hourTurtle.penup()"
   ]
  },
  {
   "cell_type": "code",
   "execution_count": 5,
   "metadata": {
    "collapsed": true
   },
   "outputs": [],
   "source": [
    "# move the turtles to different locations on the screen\n",
    "secondTurtle.goto(0,0)\n",
    "minuteTurtle.goto(-200,0)\n",
    "hourTurtle.goto(-100,-100)"
   ]
  },
  {
   "cell_type": "code",
   "execution_count": 6,
   "metadata": {
    "collapsed": true
   },
   "outputs": [],
   "source": [
    "# set orientation for all turtles\n",
    "secondTurtle.setheading(90)\n",
    "minuteTurtle.setheading(90)\n",
    "hourTurtle.setheading(90)"
   ]
  },
  {
   "cell_type": "markdown",
   "metadata": {},
   "source": [
    "#### 2. sizes and colors as well as orientations"
   ]
  },
  {
   "cell_type": "code",
   "execution_count": 7,
   "metadata": {
    "collapsed": true
   },
   "outputs": [],
   "source": [
    "# set the size of all turtles\n",
    "secondTurtle.shapesize(1,1,1) \n",
    "minuteTurtle.shapesize(2,2,2) \n",
    "hourTurtle.shapesize(3,3,3) "
   ]
  },
  {
   "cell_type": "code",
   "execution_count": 8,
   "metadata": {
    "collapsed": true
   },
   "outputs": [],
   "source": [
    "# set the color of all turtles\n",
    "secondTurtle.pencolor('red') \n",
    "minuteTurtle.pencolor('orange') \n",
    "hourTurtle.pencolor('yellow') "
   ]
  },
  {
   "cell_type": "code",
   "execution_count": 9,
   "metadata": {
    "collapsed": true
   },
   "outputs": [],
   "source": [
    "# set the orientation of each turtle according to the current time\n",
    "secondTurtle.rt((currentTime.second*6)-(90-secondTurtle.heading()))\n",
    "minuteTurtle.rt((currentTime.minute*6)-(90-minuteTurtle.heading()))\n",
    "hourTurtle.rt((currentTime.hour*30)-(90-hourTurtle.heading()))"
   ]
  },
  {
   "cell_type": "code",
   "execution_count": null,
   "metadata": {
    "collapsed": true
   },
   "outputs": [],
   "source": [
    "prevSecond=currentTime.second\n",
    "prevMinute=currentTime.minute\n",
    "prevHour=currentTime.hour"
   ]
  },
  {
   "cell_type": "markdown",
   "metadata": {},
   "source": [
    "#### 3. move according to time"
   ]
  },
  {
   "cell_type": "code",
   "execution_count": null,
   "metadata": {},
   "outputs": [],
   "source": [
    "for i in range(0,240):\n",
    "    currentTime=datetime.datetime.now().time()\n",
    "    currentSecond=currentTime.second\n",
    "    currentMinute=currentTime.minute\n",
    "    currentHour=currentTime.hour\n",
    "    \n",
    "    if (currentSecond != prevSecond):\n",
    "        secondTurtle.pendown()\n",
    "        secondTurtle.rt((currentTime.second*6)-(90-secondTurtle.heading()))\n",
    "        secondTurtle.fd(10)\n",
    "        secondTurtle.penup()\n",
    "        \n",
    "    if (currentMinute != prevMinute):    \n",
    "        minuteTurtle.rt((currentTime.minute*6)-(90-minuteTurtle.heading()))\n",
    "        minuteTurtle.pendown()\n",
    "        minuteTurtle.fd(10)\n",
    "        minuteTurtle.penup()\n",
    "        \n",
    "    if (currentHour != prevHour):\n",
    "        hourTurtle.rt((currentTime.hour*30)-(90-hourTurtle.heading()))\n",
    "        hourTurtle.pendown()\n",
    "        hourTurtle.fd(10)\n",
    "        hourTurtle.penup()\n",
    "    \n",
    "    # direction of each move is the same as hand on clock\n",
    "    prevSecond=currentTime.second\n",
    "    prevMinute=currentTime.minute\n",
    "    prevHour=currentTime.hour\n",
    "    \n",
    "    sleep(1)"
   ]
  },
  {
   "cell_type": "code",
   "execution_count": null,
   "metadata": {
    "collapsed": true
   },
   "outputs": [],
   "source": [
    "# add this line to prevent the window from closing when the programme finishes executing\n",
    "win=turtle.Screen(); win.exitonclick()"
   ]
  },
  {
   "cell_type": "markdown",
   "metadata": {},
   "source": [
    "** 0'**"
   ]
  },
  {
   "cell_type": "markdown",
   "metadata": {},
   "source": [
    "![0'](https://github.com/mmeagher/ARC6818-2017/blob/master/assignment3/Assignment%203/images/0%E2%80%98.PNG?raw=true \"0'\")"
   ]
  },
  {
   "cell_type": "markdown",
   "metadata": {},
   "source": [
    "** 30'**"
   ]
  },
  {
   "cell_type": "markdown",
   "metadata": {},
   "source": [
    "![30'](https://github.com/mmeagher/ARC6818-2017/blob/master/assignment3/Assignment%203/images/30%E2%80%98.PNG?raw=true \"30'\")"
   ]
  },
  {
   "cell_type": "markdown",
   "metadata": {},
   "source": [
    "** 60'**"
   ]
  },
  {
   "cell_type": "markdown",
   "metadata": {},
   "source": [
    "![60'](https://github.com/mmeagher/ARC6818-2017/blob/master/assignment3/Assignment%203/images/60%E2%80%99.PNG?raw=true \"60'\")"
   ]
  },
  {
   "cell_type": "markdown",
   "metadata": {},
   "source": [
    "** 90'**"
   ]
  },
  {
   "cell_type": "markdown",
   "metadata": {},
   "source": [
    "![90'](https://github.com/mmeagher/ARC6818-2017/blob/master/assignment3/Assignment%203/images/90%E2%80%98.PNG?raw=true \"90'\")"
   ]
  },
  {
   "cell_type": "markdown",
   "metadata": {},
   "source": [
    "** 120'**"
   ]
  },
  {
   "cell_type": "markdown",
   "metadata": {},
   "source": [
    "![120'](https://github.com/mmeagher/ARC6818-2017/blob/master/assignment3/Assignment%203/images/120%E2%80%99.PNG?raw=true \"120'\")"
   ]
  },
  {
   "cell_type": "markdown",
   "metadata": {},
   "source": [
    "** 150'**"
   ]
  },
  {
   "cell_type": "markdown",
   "metadata": {},
   "source": [
    "![150'](https://github.com/mmeagher/ARC6818-2017/blob/master/assignment3/Assignment%203/images/150%E2%80%98.PNG?raw=truea \"150'\")"
   ]
  },
  {
   "cell_type": "code",
   "execution_count": null,
   "metadata": {
    "collapsed": true
   },
   "outputs": [],
   "source": []
  }
 ],
 "metadata": {
  "kernelspec": {
   "display_name": "Python 3",
   "language": "python",
   "name": "python3"
  },
  "language_info": {
   "codemirror_mode": {
    "name": "ipython",
    "version": 3
   },
   "file_extension": ".py",
   "mimetype": "text/x-python",
   "name": "python",
   "nbconvert_exporter": "python",
   "pygments_lexer": "ipython3",
   "version": "3.6.2"
  }
 },
 "nbformat": 4,
 "nbformat_minor": 2
}
