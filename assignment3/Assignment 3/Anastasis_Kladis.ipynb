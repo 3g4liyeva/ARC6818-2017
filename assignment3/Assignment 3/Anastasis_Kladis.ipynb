{
 "cells": [
  {
   "cell_type": "code",
   "execution_count": 181,
   "metadata": {
    "collapsed": true
   },
   "outputs": [],
   "source": [
    "import turtle"
   ]
  },
  {
   "cell_type": "code",
   "execution_count": 182,
   "metadata": {
    "collapsed": true
   },
   "outputs": [],
   "source": [
    "import time"
   ]
  },
  {
   "cell_type": "code",
   "execution_count": 183,
   "metadata": {},
   "outputs": [],
   "source": [
    "# Create the 3 different turtles for the seconds movement,minute movement and the hour movement\n",
    "## They are all hidden and with different pensizes\n",
    "\n",
    "\n",
    "t = turtle.Turtle()\n",
    "t.speed(100)\n",
    "t.ht()\n",
    "t.penup()\n",
    "t.goto(-300,0)\n",
    "t.pensize(6)\n",
    "\n",
    "\n",
    "#minutes turtle\n",
    "\n",
    "t1 = turtle.Turtle()\n",
    "t1.speed(100)\n",
    "t1.ht()\n",
    "t1.penup()\n",
    "t1.goto(-300,0)\n",
    "t1.pensize(4)\n",
    "t1.speed(100)\n",
    "\n",
    "#hours turtle\n",
    "\n",
    "t2 = turtle.Turtle()\n",
    "t2.speed(100)\n",
    "t2.ht()\n",
    "t2.penup()\n",
    "t2.goto(-300,0)\n",
    "t2.pensize(2)"
   ]
  },
  {
   "cell_type": "code",
   "execution_count": 184,
   "metadata": {
    "collapsed": true
   },
   "outputs": [],
   "source": [
    "# Defining the variables\n",
    "#for the length of the shape\n",
    "\n",
    "inc = 300\n",
    "\n",
    "# 3 different for the Second,Minute and Hour counting\n",
    "\n",
    "x = 0\n",
    "y = 0\n",
    "z = 0\n",
    "\n",
    "# One other for the days\n",
    "days = 0"
   ]
  },
  {
   "cell_type": "code",
   "execution_count": 185,
   "metadata": {
    "collapsed": true
   },
   "outputs": [],
   "source": [
    "# Inserting the functions for the movements of seconds, minutes and hours\n",
    "# With the penup and down and the (n*inc/13) I create the lines that I want to show for my circle and divide it in sections\n",
    "# for each function. Also the angle that I want to turn my turtle is 360/steps  (steps = 60) for the seconds and minutes\n",
    "#because I want them to complete a circle in 60 steps\n",
    "\n",
    "\n",
    "def Seconds(t,inc,steps):\n",
    "    t.fd(5*inc/13)\n",
    "    t.penup()\n",
    "    t.fd(8*inc/13)\n",
    "    t.right(360/steps)\n",
    "    t.bk(inc)\n",
    "    t.pendown()\n",
    "    \n",
    "    \n",
    "def Minute(t,inc,steps):\n",
    "    t.penup()\n",
    "    t.fd(6*inc/13)\n",
    "    t.pendown()\n",
    "    t.fd(3*inc/13)\n",
    "    t.penup()\n",
    "    t.fd(4*inc/13)\n",
    "    t.right(360/steps)\n",
    "    t.bk(inc)\n",
    "    t.pendown()\n",
    "    \n",
    "# I use the 360/steps (steps= 24) angle for the hours because I want my hours movement to create a complete circle in 24 steps \n",
    "    \n",
    "def Hour(t,inc,steps):\n",
    "    t.penup()\n",
    "    t.fd(10*inc/13)\n",
    "    t.pendown()\n",
    "    t.fd(2*inc/13)\n",
    "    t.penup()\n",
    "    t.fd(inc/13)\n",
    "    t.right(360/steps)\n",
    "    t.bk(inc)\n",
    "    t.pendown() "
   ]
  },
  {
   "cell_type": "code",
   "execution_count": 186,
   "metadata": {},
   "outputs": [],
   "source": [
    "# Create a function that will change the color of the turtles for every circle created\n",
    "# I am using the odd/even logic to change the color of the lines\n",
    "\n",
    "def odds(x,turtle):\n",
    "    if x%2 ==0:\n",
    "        turtle.color('orange')\n",
    "    else:\n",
    "        turtle.color('red')\n",
    "\n",
    "\n",
    "\n",
    "def odds2(x,turtle):\n",
    "     if x%2 ==0:\n",
    "        turtle.color('purple')\n",
    "     else:\n",
    "        turtle.color('green')\n"
   ]
  },
  {
   "cell_type": "code",
   "execution_count": 187,
   "metadata": {
    "collapsed": true
   },
   "outputs": [],
   "source": [
    "# Create the functions that will change the color of hours and show the days with different colors\n",
    "\n",
    "        \n",
    "# We assign different colors for each day of the week\n",
    "\n",
    "\n",
    "def Days(days,turtle):\n",
    "    if days == 0:\n",
    "        turtle.color('blue')\n",
    "    elif days == 1:\n",
    "        turtle.color('yellow')\n",
    "    elif days == 2:\n",
    "        turtle.color('brown')\n",
    "    elif days == 3:\n",
    "        turtle.color('black')\n",
    "    elif days == 4:\n",
    "        turtle.color('beige')\n",
    "    elif days == 5:\n",
    "        turtle.color('pink')\n",
    "    elif days == 6:\n",
    "        turtle.color('grey')\n",
    "\n"
   ]
  },
  {
   "cell_type": "code",
   "execution_count": 188,
   "metadata": {},
   "outputs": [
    {
     "ename": "TurtleGraphicsError",
     "evalue": "bad color string: purple",
     "output_type": "error",
     "traceback": [
      "\u001b[1;31m---------------------------------------------------------------------------\u001b[0m",
      "\u001b[1;31mTurtleGraphicsError\u001b[0m                       Traceback (most recent call last)",
      "\u001b[1;32m<ipython-input-188-b46d95b736cd>\u001b[0m in \u001b[0;36m<module>\u001b[1;34m()\u001b[0m\n\u001b[0;32m     13\u001b[0m \u001b[1;33m\u001b[0m\u001b[0m\n\u001b[0;32m     14\u001b[0m     \u001b[0modds\u001b[0m\u001b[1;33m(\u001b[0m\u001b[0my\u001b[0m\u001b[1;33m,\u001b[0m\u001b[0mt\u001b[0m\u001b[1;33m)\u001b[0m\u001b[1;33m\u001b[0m\u001b[0m\n\u001b[1;32m---> 15\u001b[1;33m     \u001b[0modds2\u001b[0m\u001b[1;33m(\u001b[0m\u001b[0mz\u001b[0m\u001b[1;33m,\u001b[0m\u001b[0mt1\u001b[0m\u001b[1;33m)\u001b[0m\u001b[1;33m\u001b[0m\u001b[0m\n\u001b[0m\u001b[0;32m     16\u001b[0m     \u001b[0mSeconds\u001b[0m\u001b[1;33m(\u001b[0m\u001b[0mt\u001b[0m\u001b[1;33m,\u001b[0m\u001b[0minc\u001b[0m\u001b[1;33m,\u001b[0m\u001b[1;36m60\u001b[0m\u001b[1;33m)\u001b[0m\u001b[1;33m\u001b[0m\u001b[0m\n\u001b[0;32m     17\u001b[0m     \u001b[0mx\u001b[0m \u001b[1;33m=\u001b[0m \u001b[0mx\u001b[0m\u001b[1;33m+\u001b[0m\u001b[1;36m1\u001b[0m\u001b[1;33m\u001b[0m\u001b[0m\n",
      "\u001b[1;32m<ipython-input-186-5ad746dc6319>\u001b[0m in \u001b[0;36modds2\u001b[1;34m(x, turtle)\u001b[0m\n\u001b[0;32m     12\u001b[0m \u001b[1;32mdef\u001b[0m \u001b[0modds2\u001b[0m\u001b[1;33m(\u001b[0m\u001b[0mx\u001b[0m\u001b[1;33m,\u001b[0m\u001b[0mturtle\u001b[0m\u001b[1;33m)\u001b[0m\u001b[1;33m:\u001b[0m\u001b[1;33m\u001b[0m\u001b[0m\n\u001b[0;32m     13\u001b[0m      \u001b[1;32mif\u001b[0m \u001b[0mx\u001b[0m\u001b[1;33m%\u001b[0m\u001b[1;36m2\u001b[0m \u001b[1;33m==\u001b[0m\u001b[1;36m0\u001b[0m\u001b[1;33m:\u001b[0m\u001b[1;33m\u001b[0m\u001b[0m\n\u001b[1;32m---> 14\u001b[1;33m         \u001b[0mturtle\u001b[0m\u001b[1;33m.\u001b[0m\u001b[0mcolor\u001b[0m\u001b[1;33m(\u001b[0m\u001b[1;34m'purple'\u001b[0m\u001b[1;33m)\u001b[0m\u001b[1;33m\u001b[0m\u001b[0m\n\u001b[0m\u001b[0;32m     15\u001b[0m      \u001b[1;32melse\u001b[0m\u001b[1;33m:\u001b[0m\u001b[1;33m\u001b[0m\u001b[0m\n\u001b[0;32m     16\u001b[0m         \u001b[0mturtle\u001b[0m\u001b[1;33m.\u001b[0m\u001b[0mcolor\u001b[0m\u001b[1;33m(\u001b[0m\u001b[1;34m'green'\u001b[0m\u001b[1;33m)\u001b[0m\u001b[1;33m\u001b[0m\u001b[0m\n",
      "\u001b[1;32m~\\Anaconda3\\lib\\turtle.py\u001b[0m in \u001b[0;36mcolor\u001b[1;34m(self, *args)\u001b[0m\n\u001b[0;32m   2214\u001b[0m             \u001b[1;32melif\u001b[0m \u001b[0ml\u001b[0m \u001b[1;33m==\u001b[0m \u001b[1;36m3\u001b[0m\u001b[1;33m:\u001b[0m\u001b[1;33m\u001b[0m\u001b[0m\n\u001b[0;32m   2215\u001b[0m                 \u001b[0mpcolor\u001b[0m \u001b[1;33m=\u001b[0m \u001b[0mfcolor\u001b[0m \u001b[1;33m=\u001b[0m \u001b[0margs\u001b[0m\u001b[1;33m\u001b[0m\u001b[0m\n\u001b[1;32m-> 2216\u001b[1;33m             \u001b[0mpcolor\u001b[0m \u001b[1;33m=\u001b[0m \u001b[0mself\u001b[0m\u001b[1;33m.\u001b[0m\u001b[0m_colorstr\u001b[0m\u001b[1;33m(\u001b[0m\u001b[0mpcolor\u001b[0m\u001b[1;33m)\u001b[0m\u001b[1;33m\u001b[0m\u001b[0m\n\u001b[0m\u001b[0;32m   2217\u001b[0m             \u001b[0mfcolor\u001b[0m \u001b[1;33m=\u001b[0m \u001b[0mself\u001b[0m\u001b[1;33m.\u001b[0m\u001b[0m_colorstr\u001b[0m\u001b[1;33m(\u001b[0m\u001b[0mfcolor\u001b[0m\u001b[1;33m)\u001b[0m\u001b[1;33m\u001b[0m\u001b[0m\n\u001b[0;32m   2218\u001b[0m             \u001b[0mself\u001b[0m\u001b[1;33m.\u001b[0m\u001b[0mpen\u001b[0m\u001b[1;33m(\u001b[0m\u001b[0mpencolor\u001b[0m\u001b[1;33m=\u001b[0m\u001b[0mpcolor\u001b[0m\u001b[1;33m,\u001b[0m \u001b[0mfillcolor\u001b[0m\u001b[1;33m=\u001b[0m\u001b[0mfcolor\u001b[0m\u001b[1;33m)\u001b[0m\u001b[1;33m\u001b[0m\u001b[0m\n",
      "\u001b[1;32m~\\Anaconda3\\lib\\turtle.py\u001b[0m in \u001b[0;36m_colorstr\u001b[1;34m(self, args)\u001b[0m\n\u001b[0;32m   2694\u001b[0m \u001b[1;33m\u001b[0m\u001b[0m\n\u001b[0;32m   2695\u001b[0m     \u001b[1;32mdef\u001b[0m \u001b[0m_colorstr\u001b[0m\u001b[1;33m(\u001b[0m\u001b[0mself\u001b[0m\u001b[1;33m,\u001b[0m \u001b[0margs\u001b[0m\u001b[1;33m)\u001b[0m\u001b[1;33m:\u001b[0m\u001b[1;33m\u001b[0m\u001b[0m\n\u001b[1;32m-> 2696\u001b[1;33m         \u001b[1;32mreturn\u001b[0m \u001b[0mself\u001b[0m\u001b[1;33m.\u001b[0m\u001b[0mscreen\u001b[0m\u001b[1;33m.\u001b[0m\u001b[0m_colorstr\u001b[0m\u001b[1;33m(\u001b[0m\u001b[0margs\u001b[0m\u001b[1;33m)\u001b[0m\u001b[1;33m\u001b[0m\u001b[0m\n\u001b[0m\u001b[0;32m   2697\u001b[0m \u001b[1;33m\u001b[0m\u001b[0m\n\u001b[0;32m   2698\u001b[0m     \u001b[1;32mdef\u001b[0m \u001b[0m_cc\u001b[0m\u001b[1;33m(\u001b[0m\u001b[0mself\u001b[0m\u001b[1;33m,\u001b[0m \u001b[0margs\u001b[0m\u001b[1;33m)\u001b[0m\u001b[1;33m:\u001b[0m\u001b[1;33m\u001b[0m\u001b[0m\n",
      "\u001b[1;32m~\\Anaconda3\\lib\\turtle.py\u001b[0m in \u001b[0;36m_colorstr\u001b[1;34m(self, color)\u001b[0m\n\u001b[0;32m   1156\u001b[0m                 \u001b[1;32mreturn\u001b[0m \u001b[0mcolor\u001b[0m\u001b[1;33m\u001b[0m\u001b[0m\n\u001b[0;32m   1157\u001b[0m             \u001b[1;32melse\u001b[0m\u001b[1;33m:\u001b[0m\u001b[1;33m\u001b[0m\u001b[0m\n\u001b[1;32m-> 1158\u001b[1;33m                 \u001b[1;32mraise\u001b[0m \u001b[0mTurtleGraphicsError\u001b[0m\u001b[1;33m(\u001b[0m\u001b[1;34m\"bad color string: %s\"\u001b[0m \u001b[1;33m%\u001b[0m \u001b[0mstr\u001b[0m\u001b[1;33m(\u001b[0m\u001b[0mcolor\u001b[0m\u001b[1;33m)\u001b[0m\u001b[1;33m)\u001b[0m\u001b[1;33m\u001b[0m\u001b[0m\n\u001b[0m\u001b[0;32m   1159\u001b[0m         \u001b[1;32mtry\u001b[0m\u001b[1;33m:\u001b[0m\u001b[1;33m\u001b[0m\u001b[0m\n\u001b[0;32m   1160\u001b[0m             \u001b[0mr\u001b[0m\u001b[1;33m,\u001b[0m \u001b[0mg\u001b[0m\u001b[1;33m,\u001b[0m \u001b[0mb\u001b[0m \u001b[1;33m=\u001b[0m \u001b[0mcolor\u001b[0m\u001b[1;33m\u001b[0m\u001b[0m\n",
      "\u001b[1;31mTurtleGraphicsError\u001b[0m: bad color string: purple"
     ]
    }
   ],
   "source": [
    "# Create the loop for the movement of the time\n",
    "\n",
    "\n",
    "while True:\n",
    "    \n",
    "#add the time.sleep(1) to have my code working in seconds\n",
    "\n",
    "    #time.sleep(1)\n",
    "    \n",
    "    \n",
    "#first I am checking if the y and z parameters are odds or even and then I call the Seconds function\n",
    "#360/60 to create a circle with 60 steps\n",
    "    \n",
    "    odds(y,t)\n",
    "    odds2(z,t1)\n",
    "    Seconds(t,inc,60)             \n",
    "    x = x+1\n",
    "    \n",
    "    \n",
    "# with the first logic we call the function for the minutes to move when the seconds have reached 60\n",
    "# and increase our parameter by one and reset the seconds counter back to 0 and reset the turtle.sec\n",
    "# movement\n",
    "#360/60 to create a circle with 60 steps\n",
    "\n",
    "    if x == 61:\n",
    "        x =1\n",
    "    elif x == 60:\n",
    "        Minute(t1,inc,60)\n",
    "        t.clear()\n",
    "        y = y+1\n",
    "        \n",
    "        \n",
    "# with this logic we call the function for the hours when the minutes counter have reached 60\n",
    "# and clear the movement of the minute turtle so it can reset and start over\n",
    "# we also increase the counter for the hours\n",
    "#360/24 to create a circle with 24 steps\n",
    "\n",
    "\n",
    "        if y == 61:\n",
    "            y = 1\n",
    "        elif y == 60:\n",
    "            Hour(t2,inc,24)\n",
    "            t1.clear() \n",
    "            z = z+1\n",
    "            \n",
    "            \n",
    "            \n",
    "# with this logic we check if the hour counter has reached 24, if so the days counter go +1 and the\n",
    "# color of the hour change\n",
    "            \n",
    "            \n",
    "            if z == 24:\n",
    "                Days(days,t2)\n",
    "                days = days+1\n",
    "                z = 0\n",
    "                Days(days,t2)\n",
    "                \n",
    "# this logic is used to reset the days counter to 0 to start over again\n",
    "\n",
    "                if days == 7:\n",
    "                    days = 0\n",
    "\n",
    "    "
   ]
  },
  {
   "cell_type": "code",
   "execution_count": null,
   "metadata": {
    "collapsed": true
   },
   "outputs": [],
   "source": [
    "# For this code I worked with Dimitar, therefore our functions may seem similar\n",
    "# I have encounted a problem with the timing in the code, I think because python does one step at the time during the loop I keep losing a second every minute and I don't know how to fix it\n",
    "# I suggest running it without the time.sleep command for better result and maybe with a change in the steps on function Seconds and Minutes\n",
    "# from 60 to 6 and all the numbers in the logics from 61 to 6 and 60 to 5 so the days effect to be noticable\n"
   ]
  },
  {
   "cell_type": "markdown",
   "metadata": {},
   "source": [
    "![Example1](https://github.com/mmeagher/ARC6818-2017/blob/master/assignment3/Assignment%203/images/Anastasis_Kladis1.png?raw=true \"Example1\")"
   ]
  },
  {
   "cell_type": "markdown",
   "metadata": {},
   "source": [
    "![Example2](https://github.com/mmeagher/ARC6818-2017/blob/master/assignment3/Assignment%203/images/Anastasis_Kladis2.png?raw=true \"Example2\")"
   ]
  },
  {
   "cell_type": "markdown",
   "metadata": {},
   "source": [
    "![Example3](https://github.com/mmeagher/ARC6818-2017/blob/master/assignment3/Assignment%203/images/Anastasis_Kladis3.png?raw=true \"Example3\")"
   ]
  },
  {
   "cell_type": "markdown",
   "metadata": {},
   "source": [
    "![Example4](https://github.com/mmeagher/ARC6818-2017/blob/master/assignment3/Assignment%203/images/Anastasis_Kladis4.png?raw=true \"Example4\")"
   ]
  },
  {
   "cell_type": "code",
   "execution_count": null,
   "metadata": {
    "collapsed": true
   },
   "outputs": [],
   "source": [
    "# Here we ses some stages of the function. The outer circle represents the seconds, the middle circle the minutes and the inner circle the hours\n",
    "# The seconds and minutes circle keep changing color on odd and even numbers and the hour circle have a different color for each day of the week\n",
    "# The examples below are showing the above function slightly modified so we can see the changing of the colors in the hour circle(it would not be possible with the original)\n"
   ]
  },
  {
   "cell_type": "markdown",
   "metadata": {},
   "source": [
    "![Example5](https://github.com/mmeagher/ARC6818-2017/blob/master/assignment3/Assignment%203/images/Anastasis_Kladis5.png?raw=true \"Example5\")"
   ]
  },
  {
   "cell_type": "markdown",
   "metadata": {},
   "source": [
    "![Example6](https://github.com/mmeagher/ARC6818-2017/blob/master/assignment3/Assignment%203/images/Anastasis_Kladis6.png?raw=true \"Example6\")"
   ]
  },
  {
   "cell_type": "code",
   "execution_count": null,
   "metadata": {
    "collapsed": true
   },
   "outputs": [],
   "source": []
  }
 ],
 "metadata": {
  "kernelspec": {
   "display_name": "Python 3",
   "language": "python",
   "name": "python3"
  },
  "language_info": {
   "codemirror_mode": {
    "name": "ipython",
    "version": 3
   },
   "file_extension": ".py",
   "mimetype": "text/x-python",
   "name": "python",
   "nbconvert_exporter": "python",
   "pygments_lexer": "ipython3",
   "version": "3.6.2"
  }
 },
 "nbformat": 4,
 "nbformat_minor": 2
}
