{
 "cells": [
  {
   "cell_type": "markdown",
   "metadata": {},
   "source": [
    "I'm trying to make an electronic watch here, refreshes every seconds to get a precise time.\n",
    "Each digit number consists of several lines, considering each number consists of 2 squares and draw them seperately. "
   ]
  },
  {
   "cell_type": "code",
   "execution_count": 1,
   "metadata": {
    "collapsed": true
   },
   "outputs": [],
   "source": [
    "import turtle"
   ]
  },
  {
   "cell_type": "code",
   "execution_count": 2,
   "metadata": {
    "collapsed": true
   },
   "outputs": [],
   "source": [
    "import time"
   ]
  },
  {
   "cell_type": "code",
   "execution_count": 3,
   "metadata": {
    "collapsed": true
   },
   "outputs": [],
   "source": [
    "def Space(): \n",
    "    turtle.penup()\n",
    "    turtle.forward(5)"
   ]
  },
  {
   "cell_type": "code",
   "execution_count": 4,
   "metadata": {
    "collapsed": true
   },
   "outputs": [],
   "source": [
    "def Line(draw):\n",
    "    Space()\n",
    "    turtle.pendown() if draw else turtle.penup()\n",
    "    turtle.forward(40)\n",
    "    Space()\n",
    "    turtle.right(90)"
   ]
  },
  {
   "cell_type": "code",
   "execution_count": 5,
   "metadata": {
    "collapsed": true
   },
   "outputs": [],
   "source": [
    "def Digit(d):\n",
    "    Line(True) if d in [2, 3, 4, 5, 6, 8, 9] else Line(False)  #from middle line to draw the lower half of number\n",
    "    Line(True) if d in [0, 1, 3, 4, 5, 6,7, 8, 9] else Line(False) \n",
    "    Line(True) if d in [0, 2, 3, 5, 6, 8, 9] else Line(False) \n",
    "    Line(True) if d in [0, 2, 6, 8] else Line(False) \n",
    "    turtle.left(90) #now draw the upper half\n",
    "    Line(True) if d in [0, 4, 5, 6, 8, 9] else Line(False) \n",
    "    Line(True) if d in [0, 2, 3, 5, 6, 7, 8, 9] else Line(False)\n",
    "    Line(True) if d in [0, 1, 2, 3, 4, 7, 8, 9] else Line(False)\n",
    "    turtle.left(180)\n",
    "    turtle.penup()\n",
    "    turtle.forward(20)"
   ]
  },
  {
   "cell_type": "code",
   "execution_count": 6,
   "metadata": {},
   "outputs": [],
   "source": [
    "def layout(x):\n",
    "    turtle.pencolor('skyblue')\n",
    "    for i in x:\n",
    "        if i == '@': ## @#$ are used as seperater in time_string\n",
    "            turtle.write('h',font=('Arial',36))\n",
    "            turtle.pencolor('gray')\n",
    "            turtle.fd(40)\n",
    "        elif i == '#':\n",
    "            turtle.write('m', font=('Arial', 36))\n",
    "            turtle.pencolor('pink')\n",
    "            turtle.fd(40)\n",
    "        elif i == '$':\n",
    "            turtle.write('s', font=('Arial', 36))\n",
    "        else:\n",
    "            Digit(eval(i))"
   ]
  },
  {
   "cell_type": "code",
   "execution_count": 7,
   "metadata": {
    "collapsed": true
   },
   "outputs": [],
   "source": [
    "def init():\n",
    "    turtle.speed(10)\n",
    "    turtle.penup() \n",
    "    turtle.goto(0,0)\n",
    "    turtle.fd(-300)\n",
    "    turtle.pensize(5)"
   ]
  },
  {
   "cell_type": "code",
   "execution_count": 8,
   "metadata": {},
   "outputs": [
    {
     "ename": "KeyboardInterrupt",
     "evalue": "",
     "output_type": "error",
     "traceback": [
      "\u001b[0;31m---------------------------------------------------------------------------\u001b[0m",
      "\u001b[0;31mKeyboardInterrupt\u001b[0m                         Traceback (most recent call last)",
      "\u001b[0;32m<ipython-input-8-949a3bc26c69>\u001b[0m in \u001b[0;36m<module>\u001b[0;34m()\u001b[0m\n\u001b[1;32m      9\u001b[0m         \u001b[0mtime\u001b[0m\u001b[0;34m.\u001b[0m\u001b[0msleep\u001b[0m\u001b[0;34m(\u001b[0m\u001b[0;36m1\u001b[0m\u001b[0;34m)\u001b[0m\u001b[0;34m\u001b[0m\u001b[0m\n\u001b[1;32m     10\u001b[0m \u001b[0;34m\u001b[0m\u001b[0m\n\u001b[0;32m---> 11\u001b[0;31m \u001b[0mmain\u001b[0m\u001b[0;34m(\u001b[0m\u001b[0;34m)\u001b[0m\u001b[0;34m\u001b[0m\u001b[0m\n\u001b[0m",
      "\u001b[0;32m<ipython-input-8-949a3bc26c69>\u001b[0m in \u001b[0;36mmain\u001b[0;34m()\u001b[0m\n\u001b[1;32m      7\u001b[0m         \u001b[0mturtle\u001b[0m\u001b[0;34m.\u001b[0m\u001b[0mgetscreen\u001b[0m\u001b[0;34m(\u001b[0m\u001b[0;34m)\u001b[0m\u001b[0;34m.\u001b[0m\u001b[0mtracer\u001b[0m\u001b[0;34m(\u001b[0m\u001b[0;36m30\u001b[0m\u001b[0;34m,\u001b[0m\u001b[0;36m0\u001b[0m\u001b[0;34m)\u001b[0m\u001b[0;34m\u001b[0m\u001b[0m\n\u001b[1;32m      8\u001b[0m         \u001b[0mlayout\u001b[0m\u001b[0;34m(\u001b[0m\u001b[0mtime_string\u001b[0m\u001b[0;34m)\u001b[0m\u001b[0;34m\u001b[0m\u001b[0m\n\u001b[0;32m----> 9\u001b[0;31m         \u001b[0mtime\u001b[0m\u001b[0;34m.\u001b[0m\u001b[0msleep\u001b[0m\u001b[0;34m(\u001b[0m\u001b[0;36m1\u001b[0m\u001b[0;34m)\u001b[0m\u001b[0;34m\u001b[0m\u001b[0m\n\u001b[0m\u001b[1;32m     10\u001b[0m \u001b[0;34m\u001b[0m\u001b[0m\n\u001b[1;32m     11\u001b[0m \u001b[0mmain\u001b[0m\u001b[0;34m(\u001b[0m\u001b[0;34m)\u001b[0m\u001b[0;34m\u001b[0m\u001b[0m\n",
      "\u001b[0;31mKeyboardInterrupt\u001b[0m: "
     ]
    }
   ],
   "source": [
    "def main():\n",
    "    while True:\n",
    "        turtle.clear()\n",
    "        turtle.hideturtle()\n",
    "        init()\n",
    "        time_string = time.strftime(\"%H@%M#%S$\", time.localtime())\n",
    "        turtle.getscreen().tracer(30,0)\n",
    "        layout(time_string)\n",
    "        time.sleep(1)\n",
    "\n",
    "main()"
   ]
  },
  {
   "attachments": {},
   "cell_type": "markdown",
   "metadata": {},
   "source": [
    "![cloce](https://github.com/mmeagher/ARC6818-2017/blob/master/assignment3/Assignment%203/images/Yuyu_Liu_3_image1.png?raw=true)\n",
    "\n"
   ]
  },
  {
   "cell_type": "code",
   "execution_count": null,
   "metadata": {
    "collapsed": true
   },
   "outputs": [],
   "source": []
  }
 ],
 "metadata": {
  "kernelspec": {
   "display_name": "Python 3",
   "language": "python",
   "name": "python3"
  },
  "language_info": {
   "codemirror_mode": {
    "name": "ipython",
    "version": 3
   },
   "file_extension": ".py",
   "mimetype": "text/x-python",
   "name": "python",
   "nbconvert_exporter": "python",
   "pygments_lexer": "ipython3",
   "version": "3.6.2"
  }
 },
 "nbformat": 4,
 "nbformat_minor": 2
}
